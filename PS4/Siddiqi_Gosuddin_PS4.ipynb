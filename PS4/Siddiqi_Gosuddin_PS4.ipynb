{
 "cells": [
  {
   "cell_type": "markdown",
   "metadata": {
    "ein.tags": [
     "worksheet-0"
    ],
    "slideshow": {
     "slide_type": "-"
    }
   },
   "source": [
    "# Problem Set 4, due '05/23/2017' at 3:30pm.\n",
    "\n",
    "### Before You Start\n",
    "\n",
    "This is a fun but challenging problem set. It will test your python skills, as well as your understanding of the material in class and in the readings. Start early and debug often! Some notes:\n",
    "\n",
    "* Part 1 is meant to be easy, so get through it quickly.\n",
    "* Part 2 (especially 2.1) will be difficult, but it is the lynchpin of this problem set to make sure to do it well and understand what you've done. If you find your gradient descent algorithm is taking more than a few minutes to complete, debug more, compare notes with others, and go to the TA sessions.\n",
    "* Depending on how well you've done 2.1, parts 2.3 and 4.3 will be relatively painless or incredibly painful. \n",
    "* Part 4 (especially 3.3) will be computationally intensive. Don't leave this until the last minute, otherwise your code might be running when the deadline arrives.\n",
    "* Do the extra credit problems last."
   ]
  },
  {
   "cell_type": "markdown",
   "metadata": {
    "ein.tags": [
     "worksheet-0"
    ],
    "slideshow": {
     "slide_type": "-"
    }
   },
   "source": [
    "---\n",
    "\n",
    "## Introduction to the assignment\n",
    "\n",
    "As with the last assignment, you will be using the [Boston Housing Prices Data Set](http://archive.ics.uci.edu/ml/datasets/Housing)."
   ]
  },
  {
   "cell_type": "code",
   "execution_count": 3,
   "metadata": {
    "autoscroll": "json-false",
    "collapsed": false,
    "ein.tags": [
     "worksheet-0"
    ],
    "slideshow": {
     "slide_type": "-"
    }
   },
   "outputs": [],
   "source": [
    "import IPython\n",
    "import numpy as np\n",
    "import scipy as sp\n",
    "import pandas as pd\n",
    "import matplotlib\n",
    "import sklearn\n",
    "\n",
    "%matplotlib inline  \n",
    "import matplotlib.pyplot as plt\n",
    "import statsmodels.api as sm\n",
    "from sklearn.linear_model import LinearRegression, LogisticRegression\n",
    "from sklearn.metrics import mean_squared_error\n",
    "import statsmodels.formula.api as smf\n",
    "from sklearn.model_selection import KFold\n",
    "from sklearn.metrics import mean_squared_error\n",
    "from statsmodels.sandbox.regression.predstd import wls_prediction_std\n",
    "from decimal import Decimal\n",
    "import statsmodels.formula.api as smf\n",
    "import time"
   ]
  },
  {
   "cell_type": "code",
   "execution_count": 4,
   "metadata": {
    "autoscroll": "json-false",
    "collapsed": false,
    "ein.tags": [
     "worksheet-0"
    ],
    "slideshow": {
     "slide_type": "-"
    }
   },
   "outputs": [],
   "source": [
    "from sklearn.datasets import load_boston\n",
    "bdata = load_boston()\n"
   ]
  },
  {
   "cell_type": "markdown",
   "metadata": {
    "ein.tags": [
     "worksheet-0"
    ],
    "slideshow": {
     "slide_type": "-"
    }
   },
   "source": [
    "---\n",
    "\n",
    "## Part 1: Getting oriented\n",
    "\n",
    "Use different learning rates\n",
    "\n",
    "### 1.1 Use existing libraries\n",
    "\n",
    "Soon, you will write your own gradient descent algorithm, which you will then use to minimize the squared error cost function.  First, however, let's use the canned versions that come with Python, to make sure we understand what we're aiming to achieve.\n",
    "\n",
    "Using the same Boston housing prices dataset, use the [Linear Regression class](http://scikit-learn.org/stable/modules/generated/sklearn.linear_model.LinearRegression.html) from sklearn or the [OLS class](http://wiki.scipy.org/Cookbook/OLS) from SciPy to explore the relationship between  median housing price and number of rooms per house. Do this by first (a) regressing the housing price on the number of rooms per house, and then (b) regressing the housing price on the number of rooms per house and the (number of rooms per house) squared.  Interpret your results."
   ]
  },
  {
   "cell_type": "code",
   "execution_count": 5,
   "metadata": {
    "autoscroll": "json-false",
    "collapsed": false,
    "ein.tags": [
     "worksheet-0"
    ],
    "slideshow": {
     "slide_type": "-"
    }
   },
   "outputs": [
    {
     "name": "stdout",
     "output_type": "stream",
     "text": [
      "feature names: ['CRIM' 'ZN' 'INDUS' 'CHAS' 'NOX' 'RM' 'AGE' 'DIS' 'RAD' 'TAX' 'PTRATIO'\n",
      " 'B' 'LSTAT']\n"
     ]
    }
   ],
   "source": [
    "# uncomment the following if you want to see a lengthy description of the dataset\n",
    "# print (\"keys:\", bdata.keys())\n",
    "print (\"feature names:\",  bdata.feature_names)\n",
    "# print \"data shape:\", bdata.data.shape\n",
    "# print \"target shape\", bdata.target.shape\n",
    "# print (bdata.DESCR)\n",
    "# print \"-\"*80"
   ]
  },
  {
   "cell_type": "code",
   "execution_count": 6,
   "metadata": {
    "collapsed": false
   },
   "outputs": [
    {
     "data": {
      "text/plain": [
       "Index(['CRIM', 'ZN', 'INDUS', 'CHAS', 'NOX', 'RM', 'AGE', 'DIS', 'RAD', 'TAX',\n",
       "       'PTRATIO', 'B', 'LSTAT', 'MEDV'],\n",
       "      dtype='object')"
      ]
     },
     "execution_count": 6,
     "metadata": {},
     "output_type": "execute_result"
    }
   ],
   "source": [
    "#create a data frame\n",
    "#save the data into easily accessible variable\n",
    "data = pd.DataFrame(bdata.data)\n",
    "target = pd.DataFrame(bdata.target)\n",
    "\n",
    "#join data and target variable\n",
    "data = pd.concat((data,target), axis = 1)\n",
    "\n",
    "#save the column names\n",
    "cols = np.append(bdata.feature_names,'MEDV')\n",
    "\n",
    "data.columns = cols\n",
    "\n",
    "data.columns\n"
   ]
  },
  {
   "cell_type": "code",
   "execution_count": 7,
   "metadata": {
    "collapsed": false
   },
   "outputs": [
    {
     "data": {
      "text/html": [
       "<table class=\"simpletable\">\n",
       "<caption>OLS Regression Results</caption>\n",
       "<tr>\n",
       "  <th>Dep. Variable:</th>          <td>MEDV</td>       <th>  R-squared:         </th> <td>   0.484</td>\n",
       "</tr>\n",
       "<tr>\n",
       "  <th>Model:</th>                   <td>OLS</td>       <th>  Adj. R-squared:    </th> <td>   0.483</td>\n",
       "</tr>\n",
       "<tr>\n",
       "  <th>Method:</th>             <td>Least Squares</td>  <th>  F-statistic:       </th> <td>   471.8</td>\n",
       "</tr>\n",
       "<tr>\n",
       "  <th>Date:</th>             <td>Fri, 19 May 2017</td> <th>  Prob (F-statistic):</th> <td>2.49e-74</td>\n",
       "</tr>\n",
       "<tr>\n",
       "  <th>Time:</th>                 <td>14:38:57</td>     <th>  Log-Likelihood:    </th> <td> -1673.1</td>\n",
       "</tr>\n",
       "<tr>\n",
       "  <th>No. Observations:</th>      <td>   506</td>      <th>  AIC:               </th> <td>   3350.</td>\n",
       "</tr>\n",
       "<tr>\n",
       "  <th>Df Residuals:</th>          <td>   504</td>      <th>  BIC:               </th> <td>   3359.</td>\n",
       "</tr>\n",
       "<tr>\n",
       "  <th>Df Model:</th>              <td>     1</td>      <th>                     </th>     <td> </td>   \n",
       "</tr>\n",
       "<tr>\n",
       "  <th>Covariance Type:</th>      <td>nonrobust</td>    <th>                     </th>     <td> </td>   \n",
       "</tr>\n",
       "</table>\n",
       "<table class=\"simpletable\">\n",
       "<tr>\n",
       "      <td></td>         <th>coef</th>     <th>std err</th>      <th>t</th>      <th>P>|t|</th>  <th>[0.025</th>    <th>0.975]</th>  \n",
       "</tr>\n",
       "<tr>\n",
       "  <th>Intercept</th> <td>  -34.6706</td> <td>    2.650</td> <td>  -13.084</td> <td> 0.000</td> <td>  -39.877</td> <td>  -29.465</td>\n",
       "</tr>\n",
       "<tr>\n",
       "  <th>RM</th>        <td>    9.1021</td> <td>    0.419</td> <td>   21.722</td> <td> 0.000</td> <td>    8.279</td> <td>    9.925</td>\n",
       "</tr>\n",
       "</table>\n",
       "<table class=\"simpletable\">\n",
       "<tr>\n",
       "  <th>Omnibus:</th>       <td>102.585</td> <th>  Durbin-Watson:     </th> <td>   0.684</td> \n",
       "</tr>\n",
       "<tr>\n",
       "  <th>Prob(Omnibus):</th> <td> 0.000</td>  <th>  Jarque-Bera (JB):  </th> <td> 612.449</td> \n",
       "</tr>\n",
       "<tr>\n",
       "  <th>Skew:</th>          <td> 0.726</td>  <th>  Prob(JB):          </th> <td>1.02e-133</td>\n",
       "</tr>\n",
       "<tr>\n",
       "  <th>Kurtosis:</th>      <td> 8.190</td>  <th>  Cond. No.          </th> <td>    58.4</td> \n",
       "</tr>\n",
       "</table>"
      ],
      "text/plain": [
       "<class 'statsmodels.iolib.summary.Summary'>\n",
       "\"\"\"\n",
       "                            OLS Regression Results                            \n",
       "==============================================================================\n",
       "Dep. Variable:                   MEDV   R-squared:                       0.484\n",
       "Model:                            OLS   Adj. R-squared:                  0.483\n",
       "Method:                 Least Squares   F-statistic:                     471.8\n",
       "Date:                Fri, 19 May 2017   Prob (F-statistic):           2.49e-74\n",
       "Time:                        14:38:57   Log-Likelihood:                -1673.1\n",
       "No. Observations:                 506   AIC:                             3350.\n",
       "Df Residuals:                     504   BIC:                             3359.\n",
       "Df Model:                           1                                         \n",
       "Covariance Type:            nonrobust                                         \n",
       "==============================================================================\n",
       "                 coef    std err          t      P>|t|      [0.025      0.975]\n",
       "------------------------------------------------------------------------------\n",
       "Intercept    -34.6706      2.650    -13.084      0.000     -39.877     -29.465\n",
       "RM             9.1021      0.419     21.722      0.000       8.279       9.925\n",
       "==============================================================================\n",
       "Omnibus:                      102.585   Durbin-Watson:                   0.684\n",
       "Prob(Omnibus):                  0.000   Jarque-Bera (JB):              612.449\n",
       "Skew:                           0.726   Prob(JB):                    1.02e-133\n",
       "Kurtosis:                       8.190   Cond. No.                         58.4\n",
       "==============================================================================\n",
       "\n",
       "Warnings:\n",
       "[1] Standard Errors assume that the covariance matrix of the errors is correctly specified.\n",
       "\"\"\""
      ]
     },
     "execution_count": 7,
     "metadata": {},
     "output_type": "execute_result"
    }
   ],
   "source": [
    "#regressing the housing price on the number of rooms per house\n",
    "linReg = smf.ols(formula  = 'MEDV ~ RM',  data = data ).fit()\n",
    "\n",
    "coefLinReg = linReg.params[1]\n",
    "\n",
    "linReg.summary()"
   ]
  },
  {
   "cell_type": "code",
   "execution_count": 8,
   "metadata": {
    "collapsed": false,
    "scrolled": true
   },
   "outputs": [
    {
     "data": {
      "text/html": [
       "<table class=\"simpletable\">\n",
       "<caption>OLS Regression Results</caption>\n",
       "<tr>\n",
       "  <th>Dep. Variable:</th>          <td>MEDV</td>       <th>  R-squared:         </th> <td>   0.548</td>\n",
       "</tr>\n",
       "<tr>\n",
       "  <th>Model:</th>                   <td>OLS</td>       <th>  Adj. R-squared:    </th> <td>   0.547</td>\n",
       "</tr>\n",
       "<tr>\n",
       "  <th>Method:</th>             <td>Least Squares</td>  <th>  F-statistic:       </th> <td>   305.4</td>\n",
       "</tr>\n",
       "<tr>\n",
       "  <th>Date:</th>             <td>Fri, 19 May 2017</td> <th>  Prob (F-statistic):</th> <td>1.46e-87</td>\n",
       "</tr>\n",
       "<tr>\n",
       "  <th>Time:</th>                 <td>14:38:57</td>     <th>  Log-Likelihood:    </th> <td> -1639.1</td>\n",
       "</tr>\n",
       "<tr>\n",
       "  <th>No. Observations:</th>      <td>   506</td>      <th>  AIC:               </th> <td>   3284.</td>\n",
       "</tr>\n",
       "<tr>\n",
       "  <th>Df Residuals:</th>          <td>   503</td>      <th>  BIC:               </th> <td>   3297.</td>\n",
       "</tr>\n",
       "<tr>\n",
       "  <th>Df Model:</th>              <td>     2</td>      <th>                     </th>     <td> </td>   \n",
       "</tr>\n",
       "<tr>\n",
       "  <th>Covariance Type:</th>      <td>nonrobust</td>    <th>                     </th>     <td> </td>   \n",
       "</tr>\n",
       "</table>\n",
       "<table class=\"simpletable\">\n",
       "<tr>\n",
       "       <td></td>         <th>coef</th>     <th>std err</th>      <th>t</th>      <th>P>|t|</th>  <th>[0.025</th>    <th>0.975]</th>  \n",
       "</tr>\n",
       "<tr>\n",
       "  <th>Intercept</th>  <td>   66.0588</td> <td>   12.104</td> <td>    5.458</td> <td> 0.000</td> <td>   42.278</td> <td>   89.839</td>\n",
       "</tr>\n",
       "<tr>\n",
       "  <th>RM</th>         <td>  -22.6433</td> <td>    3.754</td> <td>   -6.031</td> <td> 0.000</td> <td>  -30.019</td> <td>  -15.267</td>\n",
       "</tr>\n",
       "<tr>\n",
       "  <th>I(RM ** 2)</th> <td>    2.4701</td> <td>    0.291</td> <td>    8.502</td> <td> 0.000</td> <td>    1.899</td> <td>    3.041</td>\n",
       "</tr>\n",
       "</table>\n",
       "<table class=\"simpletable\">\n",
       "<tr>\n",
       "  <th>Omnibus:</th>       <td>82.173</td> <th>  Durbin-Watson:     </th> <td>   0.689</td> \n",
       "</tr>\n",
       "<tr>\n",
       "  <th>Prob(Omnibus):</th> <td> 0.000</td> <th>  Jarque-Bera (JB):  </th> <td> 934.337</td> \n",
       "</tr>\n",
       "<tr>\n",
       "  <th>Skew:</th>          <td> 0.224</td> <th>  Prob(JB):          </th> <td>1.29e-203</td>\n",
       "</tr>\n",
       "<tr>\n",
       "  <th>Kurtosis:</th>      <td> 9.642</td> <th>  Cond. No.          </th> <td>1.91e+03</td> \n",
       "</tr>\n",
       "</table>"
      ],
      "text/plain": [
       "<class 'statsmodels.iolib.summary.Summary'>\n",
       "\"\"\"\n",
       "                            OLS Regression Results                            \n",
       "==============================================================================\n",
       "Dep. Variable:                   MEDV   R-squared:                       0.548\n",
       "Model:                            OLS   Adj. R-squared:                  0.547\n",
       "Method:                 Least Squares   F-statistic:                     305.4\n",
       "Date:                Fri, 19 May 2017   Prob (F-statistic):           1.46e-87\n",
       "Time:                        14:38:57   Log-Likelihood:                -1639.1\n",
       "No. Observations:                 506   AIC:                             3284.\n",
       "Df Residuals:                     503   BIC:                             3297.\n",
       "Df Model:                           2                                         \n",
       "Covariance Type:            nonrobust                                         \n",
       "==============================================================================\n",
       "                 coef    std err          t      P>|t|      [0.025      0.975]\n",
       "------------------------------------------------------------------------------\n",
       "Intercept     66.0588     12.104      5.458      0.000      42.278      89.839\n",
       "RM           -22.6433      3.754     -6.031      0.000     -30.019     -15.267\n",
       "I(RM ** 2)     2.4701      0.291      8.502      0.000       1.899       3.041\n",
       "==============================================================================\n",
       "Omnibus:                       82.173   Durbin-Watson:                   0.689\n",
       "Prob(Omnibus):                  0.000   Jarque-Bera (JB):              934.337\n",
       "Skew:                           0.224   Prob(JB):                    1.29e-203\n",
       "Kurtosis:                       9.642   Cond. No.                     1.91e+03\n",
       "==============================================================================\n",
       "\n",
       "Warnings:\n",
       "[1] Standard Errors assume that the covariance matrix of the errors is correctly specified.\n",
       "[2] The condition number is large, 1.91e+03. This might indicate that there are\n",
       "strong multicollinearity or other numerical problems.\n",
       "\"\"\""
      ]
     },
     "execution_count": 8,
     "metadata": {},
     "output_type": "execute_result"
    }
   ],
   "source": [
    "#regressing the housing price on the number of rooms per house and the (number of rooms per house) squared\n",
    "sqLinReg = smf.ols(formula  = 'MEDV ~ RM + I(RM**2)',  data = data ).fit()\n",
    "\n",
    "coefSqLinReg = sqLinReg.params[1]\n",
    "\n",
    "sqLinReg.summary()"
   ]
  },
  {
   "cell_type": "markdown",
   "metadata": {
    "ein.tags": [
     "worksheet-0"
    ],
    "slideshow": {
     "slide_type": "-"
    }
   },
   "source": [
    "### 1.2 Training and testing\n",
    "\n",
    "Chances are, for the above problem you used all of your data to fit the regression line. In some circumstances this is a reasonable thing to do, but often this will result in overfitting. Let's redo the above results the ML way, using careful cross-validation.  Since you are now experts in cross-validation, and have written your own cross-validation algorithm from scratch, you can now take a shortcut and use the libraries that others have built for you.\n",
    "\n",
    "Using the [cross-validation functions](http://scikit-learn.org/stable/modules/cross_validation.html) from scikit-learn, use 250-fold cross-validation to fit regression (a) above, i.e. the linear fit of housing price on number of rooms per house.\n",
    "Each fold of cross-validation will give you one slope coefficient and one intercept coefficient.  Plot the distribution of the 250 slope coefficients, and draw a vertical line at the value of the slope coefficient that you estimated in 1.1 using the full dataset.  What do you notice?\n",
    "\n",
    "Note: please use 'random_state=1' and keep 'shuffle=False' when doing the KFold splitting to ensure reproducibility!"
   ]
  },
  {
   "cell_type": "code",
   "execution_count": 9,
   "metadata": {
    "autoscroll": "json-false",
    "collapsed": false,
    "ein.tags": [
     "worksheet-0"
    ],
    "slideshow": {
     "slide_type": "-"
    }
   },
   "outputs": [],
   "source": [
    "#create folds\n",
    "folds = KFold(n_splits=250,shuffle=False,random_state=1)\n",
    "\n",
    "#create parameter list\n",
    "param_list = []\n",
    "\n",
    "#run regression and store the parameters\n",
    "for train, test in folds.split(data):\n",
    "    l = smf.ols(formula = 'MEDV ~ RM', data = data.ix[train,] ).fit()\n",
    "    param_list.append(l.params[1])"
   ]
  },
  {
   "cell_type": "code",
   "execution_count": 10,
   "metadata": {
    "collapsed": false
   },
   "outputs": [
    {
     "data": {
      "image/png": "[encoded data removed]",
      "text/plain": [
       "<matplotlib.figure.Figure at 0x12e23a99a20>"
      ]
     },
     "metadata": {},
     "output_type": "display_data"
    }
   ],
   "source": [
    "#increase the plotsize\n",
    "plt.figure(figsize=(15,5))\n",
    "\n",
    "#create a histogram\n",
    "plt.hist(param_list, bins =25,alpha = 0.4, label = \"K-Fold estimates\")\n",
    "\n",
    "#plot the vertical line\n",
    "plt.axvline(coefLinReg, color = 'r', lw = 1.5, label = \"1.1 Estimate\")\n",
    "\n",
    "#show legends\n",
    "plt.legend()\n",
    "\n",
    "#show grids\n",
    "plt.grid()"
   ]
  },
  {
   "cell_type": "code",
   "execution_count": 11,
   "metadata": {
    "collapsed": true
   },
   "outputs": [],
   "source": [
    "#create folds\n",
    "folds = KFold(n_splits=250,shuffle=False,random_state=1)\n",
    "#create parameter list\n",
    "param_list = []\n",
    "\n",
    "#run regression and store all run parameters\n",
    "for train, test in folds.split(data):\n",
    "    l = smf.ols(formula = 'MEDV ~ RM + I(RM ** 2)', data = data.ix[train,] ).fit()\n",
    "    param_list.append(l.params[1])"
   ]
  },
  {
   "cell_type": "code",
   "execution_count": 12,
   "metadata": {
    "collapsed": false
   },
   "outputs": [
    {
     "data": {
      "image/png": "[encoded data removed]",
      "text/plain": [
       "<matplotlib.figure.Figure at 0x12e23ec9d30>"
      ]
     },
     "metadata": {},
     "output_type": "display_data"
    }
   ],
   "source": [
    "#increase the plotsizr\n",
    "plt.figure(figsize=(15,5))\n",
    "#plot histogram\n",
    "plt.hist(param_list, bins =25,alpha = 0.4, label = \"K-Fold estimates\")\n",
    "#plot vertical line\n",
    "plt.axvline(coefSqLinReg, color = 'r', lw = 1.5, label = \"1.1 Estimate\")\n",
    "#show legends\n",
    "plt.legend()\n",
    "#show grids\n",
    "plt.grid()"
   ]
  },
  {
   "cell_type": "markdown",
   "metadata": {
    "ein.tags": [
     "worksheet-0"
    ],
    "slideshow": {
     "slide_type": "-"
    }
   },
   "source": [
    "### 1.3 Regression lines\n",
    "\n",
    "Create a scatterplot of housing price on rooms per house, and add the two regression lines from 1.1 (or 1.2 if you prefer to do so). Show the linear regression line in red, and the linear+quadratic regression line (which may have curvature) in blue.  Label these two regression lines with the corresponding regression equations (i.e. the slope and intercept of the line).\n",
    "\n",
    "Bonus: Add the 95% confidence bands (i.e.,  the area that has a 95% chance of containing the true regression line) to each of these lines."
   ]
  },
  {
   "cell_type": "code",
   "execution_count": 13,
   "metadata": {
    "autoscroll": "json-false",
    "collapsed": false,
    "ein.tags": [
     "worksheet-0"
    ],
    "scrolled": false,
    "slideshow": {
     "slide_type": "-"
    }
   },
   "outputs": [
    {
     "data": {
      "image/png": "[encoded data removed]",
      "text/plain": [
       "<matplotlib.figure.Figure at 0x12e240fdf98>"
      ]
     },
     "metadata": {},
     "output_type": "display_data"
    }
   ],
   "source": [
    "#sort the array for the plot\n",
    "RM  = np.array(sorted(data.RM))\n",
    "\n",
    "#get the confidence intervals for each regression \n",
    "linRegStd,linRegLower,linRegUpper = wls_prediction_std(linReg)\n",
    "sqLinRegStd,sqLinRegLower,sqLinRegUpper = wls_prediction_std(sqLinReg)\n",
    "\n",
    "#set the plot size\n",
    "plt.figure(figsize=(16,9))\n",
    "\n",
    "#initial scatter plot\n",
    "plt.scatter(data.RM,data.MEDV, color = 'purple', label = 'MEDV')\n",
    "\n",
    "#linear reg with RM\n",
    "plt.plot(data.RM,linReg.params[0] + (coefLinReg * data.RM)\n",
    "         ,lw = 1.5, color = 'r',label = 'MEDV = %0.3f + %0.3f * RM' % (linReg.params[0],linReg.params[1]))\n",
    "         \n",
    "#Confidence Interval area\n",
    "plt.fill_between(RM,sorted(linRegLower),sorted(linRegUpper),color = 'r',alpha = 0.4,  label = \"95% CI for Regression with RM\")\n",
    "\n",
    "#linear reg with RM**2\n",
    "plt.plot(RM,sqLinReg.params[0] + (sqLinReg.params[1] * RM) + (sqLinReg.params[2] * (RM**2))\n",
    "         , lw = 1.5,color = 'b',\n",
    "         label = 'MEDV = %0.3f + %0.3f * RM + %0.3f * (RM ^ 2)' % (sqLinReg.params[0],sqLinReg.params[1],sqLinReg.params[2]))\n",
    "\n",
    "#Confidence Interval area         \n",
    "plt.fill_between(RM,sorted(sqLinRegLower),sorted(sqLinRegUpper),color = 'b',alpha = 0.2, label = \"95% CI for Regression with RM**2\")\n",
    "\n",
    "#plot the titles, axis - lables\n",
    "plt.title('REGRESSION COMPARISON AND FITS', fontsize = 16)\n",
    "plt.xlabel('Number of Rooms per House', fontsize = 14)\n",
    "plt.ylabel('Median House Value', fontsize = 14)\n",
    "\n",
    "#show legend\n",
    "plt.legend(loc = 'upper left')\n",
    "\n",
    "#show grid\n",
    "plt.grid()"
   ]
  },
  {
   "cell_type": "markdown",
   "metadata": {
    "ein.tags": [
     "worksheet-0"
    ],
    "slideshow": {
     "slide_type": "-"
    }
   },
   "source": [
    "## Part 2: Gradient descent: Linear Regression\n",
    "\n",
    "This is where it gets fun!\n",
    "\n",
    "### 2.1 Implement gradient descent with one independent variable (Average rooms per house)\n",
    "\n",
    "Implement the batch gradient descent algorithm that we discussed in class. Use the version you implement to regress the housing price on the number of rooms per house. Experiment with 3-4 different values of the learning rate *R*, and do the following:\n",
    "\n",
    "* Report the values of alpha and beta that minimize the loss function\n",
    "* Report the number of iterations it takes for your algorithm to converge (for each value of *R*)\n",
    "* Report the total running time of your algorithm, in seconds\n",
    "\n",
    "Some skeleton code is provided below, but you should feel free to delete this code and start from scratch if you prefer.\n",
    "\n",
    "* *Hint 1: Don't forget to implement a stopping condition, so that at every iteration you check whether your results have converged. Common approaches to this are to (a) check to see if the loss has stopped decreasing; and (b) check if both your current parameter esimates are close to the estimates from the previous iteration.  In both cases, \"close\" should not be ==0, it should be <=epsilon, where epsilon is something very small (like 0.0001).*\n",
    "* *Hint 2: It is always useful to include maximum number of iterations, otherwise a rogue estimation may go on forever.*"
   ]
  },
  {
   "cell_type": "code",
   "execution_count": 16,
   "metadata": {
    "autoscroll": "json-false",
    "collapsed": false,
    "ein.tags": [
     "worksheet-0"
    ],
    "slideshow": {
     "slide_type": "-"
    }
   },
   "outputs": [],
   "source": [
    "def bivariate_ols (xvalues,yvalues,R,MaxIterations):\n",
    "    \"\"\"\n",
    "        Function\n",
    "        --------\n",
    "        bivariate_ols: Gradient Decent to minimize OLS. Used to find coefficients of bivariate OLS Linear regression\n",
    "\n",
    "        Parameters\n",
    "        ----------\n",
    "        xvalues, yvalues : narray xvalues: independent variable; yvalues: dependent variable\n",
    "        R: float, Learning rate\n",
    "        MaxIterations: Int, maximum number of iterations\n",
    "\n",
    "        Returns\n",
    "        -------\n",
    "        alpha: float, intercept\n",
    "        beta: float, co-efficient\n",
    "        ttaken: time taken\n",
    "        it: number of iterations\n",
    "        convergence: logical, convergence achieved?\n",
    "    \"\"\"\n",
    "    \n",
    "    #convert for easy notations\n",
    "    X = xvalues\n",
    "    y = yvalues\n",
    "    \n",
    "    #set convergence\n",
    "    convergence = False\n",
    "    \n",
    "    #set it to MaxIterations\n",
    "    it = MaxIterations\n",
    "    \n",
    "    #set previous loss to Inf\n",
    "    prevLoss = float('Inf')\n",
    "    \n",
    "    print('-----------------------------------------------------------------------------------')\n",
    "    print('Running Gradient Descent with %0.4f as learning rate and %d maximum iterations' % (R,MaxIterations))\n",
    "    \n",
    "    #initialize betas with initial weights as 0\n",
    "    beta = np.array([0.00000] * X.shape[1])\n",
    "    \n",
    "    #reshape \n",
    "    beta = beta.reshape(X.shape[1],1)\n",
    "    \n",
    "    #start the time\n",
    "    t = time.time()\n",
    "    \n",
    "    #start gradient descent \n",
    "    for i in range(1,MaxIterations):\n",
    "        \n",
    "        #calculate predictions\n",
    "        predictions = np.dot(X,beta)\n",
    "        \n",
    "        #find the difference to reduce the number of calculations\n",
    "        diff = predictions - y\n",
    "        \n",
    "        #calculate the sum of squared errors\n",
    "        loss = np.dot(diff.T,diff)\n",
    "        \n",
    "        #compute the gradient\n",
    "        gradient = (np.dot(X.T,diff)*(2 / X.shape[0]))\n",
    "        \n",
    "        #update beta\n",
    "        beta = beta - (R*gradient)\n",
    "        \n",
    "        #check if the derivative/slope/gradient is near zero\n",
    "        if np.asscalar(sum((abs(gradient)) < 0.0001) >0 ):\n",
    "            print('Convergence achieved after %d iterations' % i)\n",
    "            it = i\n",
    "            #set the flag to true\n",
    "            convergence = True\n",
    "            break\n",
    "        \n",
    "        if (prevLoss - np.asscalar(loss)) < 0.000001:\n",
    "            print('The loss remains same after %d iterations'% i)\n",
    "            it = i\n",
    "            break\n",
    "        else:\n",
    "            prevLoss = np.asscalar(loss)\n",
    "            \n",
    "    #stop the timer\n",
    "    ttaken = float(time.time() - t)\n",
    "    \n",
    "    #print message accordingly if/not converged\n",
    "    if convergence:\n",
    "        print('Time taken for convergence %0.4f' % ttaken)\n",
    "    else:\n",
    "        print('Time taken for maximum iterations %0.4f' % ttaken)\n",
    "    #show values of betas\n",
    "    print(\"The values of intercept is %0.5f and slope is %0.5f \" %(beta[0,0], beta[1,0]))\n",
    "    print('\\n')\n",
    "    return beta[1,0],beta[0,0],ttaken,it,convergence"
   ]
  },
  {
   "cell_type": "code",
   "execution_count": 17,
   "metadata": {
    "collapsed": false
   },
   "outputs": [
    {
     "name": "stdout",
     "output_type": "stream",
     "text": [
      "-----------------------------------------------------------------------------------\n",
      "Running Gradient Descent with 0.0050 as learning rate and 1000000 maximum iterations\n",
      "Convergence achieved after 59833 iterations\n",
      "Time taken for convergence 6.4716\n",
      "The values of intercept is -34.64417 and slope is 9.09795 \n",
      "\n",
      "\n",
      "-----------------------------------------------------------------------------------\n",
      "Running Gradient Descent with 0.0030 as learning rate and 100000 maximum iterations\n",
      "The loss remains same after 96515 iterations\n",
      "Time taken for maximum iterations 10.1229\n",
      "The values of intercept is -34.63728 and slope is 9.09687 \n",
      "\n",
      "\n",
      "-----------------------------------------------------------------------------------\n",
      "Running Gradient Descent with 0.0200 as learning rate and 100000 maximum iterations\n",
      "Convergence achieved after 14957 iterations\n",
      "Time taken for convergence 1.5771\n",
      "The values of intercept is -34.64419 and slope is 9.09795 \n",
      "\n",
      "\n"
     ]
    }
   ],
   "source": [
    "#introduce constant\n",
    "data['CONST'] = 1\n",
    "\n",
    "#select the features we want to run gradient descent\n",
    "features = ['RM']\n",
    "\n",
    "#append the constant\n",
    "features = ['CONST'] + features\n",
    "\n",
    "#set the target \n",
    "target = 'MEDV'\n",
    "\n",
    "#subset data and convert to matrix\n",
    "y = np.matrix(data[target].values).T\n",
    "X = data.as_matrix(features)\n",
    "\n",
    "#run Gradient Descent  with learning rate as 0.005 and 1000000 iterations\n",
    "gd_run1 = bivariate_ols(X,y,0.005,1000000)\n",
    "\n",
    "#run Gradient Descent  with learning rate as 0.003 and 100000 iterations\n",
    "gd_run2 = bivariate_ols(X,y,0.003,100000)\n",
    "\n",
    "#run Gradient Descent  with learning rate as 0.02 and 100000 iterations\n",
    "gd_run3 = bivariate_ols(X,y,0.02,100000)"
   ]
  },
  {
   "cell_type": "markdown",
   "metadata": {
    "ein.tags": [
     "worksheet-0"
    ],
    "slideshow": {
     "slide_type": "-"
    }
   },
   "source": [
    "### 2.2 Data normalization (done for you!)\n",
    "\n",
    "Soon, you will implement a version of gradient descent that can use an arbitrary number of independent variables. Before doing this, we want to give you some code in case you want to standardize your features."
   ]
  },
  {
   "cell_type": "code",
   "execution_count": 18,
   "metadata": {
    "autoscroll": "json-false",
    "collapsed": false,
    "ein.tags": [
     "worksheet-0"
    ],
    "slideshow": {
     "slide_type": "-"
    }
   },
   "outputs": [],
   "source": [
    "def standardize(raw_data):\n",
    "    \"\"\"\n",
    "    standardizes raw data and returns\n",
    "    standardized data, mean by column, sd by column\n",
    "    \"\"\"\n",
    "    mu = np.mean(raw_data, axis = 0)\n",
    "    sd = np.std(raw_data, axis = 0)\n",
    "    return (raw_data - mu) / sd, mu, sd\n"
   ]
  },
  {
   "cell_type": "code",
   "execution_count": 19,
   "metadata": {
    "collapsed": false
   },
   "outputs": [],
   "source": [
    "#normalize the entire dataset\n",
    "norm_data = standardize(data)\n",
    "\n",
    "#store only the dataset\n",
    "norm_data = norm_data[0]"
   ]
  },
  {
   "cell_type": "markdown",
   "metadata": {
    "ein.tags": [
     "worksheet-0"
    ],
    "slideshow": {
     "slide_type": "-"
    }
   },
   "source": [
    "### 2.3 Implement gradient descent with an arbitrary number of independent variables\n",
    "\n",
    "Now that you have a simple version of gradient descent working, create a version of gradient descent that can take more than one independent variable.  Assume all independent variables will be continuous.  Test your algorithm using CRIM and RM as independent variables. Standardize these variables before before inputting them to the gradient descent algorithm. \n",
    "\n",
    "As before,  report and interpret your estimated coefficients, the number of iterations before convergence, and the total running time of your algorithm. Experiment with the following values of R: 0.1, 0.01, and 0.001.\n",
    "\n",
    "* *Hint 1: Be careful to implement this efficiently, otherwise it might take a long time for your code to run. Commands like `np.dot` can be a good friend to you on this problem*"
   ]
  },
  {
   "cell_type": "code",
   "execution_count": 51,
   "metadata": {
    "autoscroll": "json-false",
    "collapsed": false,
    "ein.tags": [
     "worksheet-0"
    ],
    "slideshow": {
     "slide_type": "-"
    }
   },
   "outputs": [],
   "source": [
    "def multiple_ols (xvalues,yvalues,R,MaxIterations):\n",
    "    \"\"\"\n",
    "    Function\n",
    "    --------\n",
    "    multiple_ols\n",
    "        Gradient Decent to minimize OLS. Used to find co-efficients of bivariate OLS Linear regression\n",
    "\n",
    "    Parameters\n",
    "    ----------\n",
    "    xvalue_matrix, yvalues : narray\n",
    "        xvalue_matrix: independent variable\n",
    "        yvalues: dependent variable\n",
    "\n",
    "    R: float\n",
    "        Learning rate\n",
    "\n",
    "    MaxIterations: Int\n",
    "        maximum number of iterations\n",
    "\n",
    "    Returns\n",
    "    -------\n",
    "    beta: array[float], coefficients\n",
    "    \"\"\"\n",
    "    #convert for easy notations\n",
    "    X = xvalues\n",
    "    y = yvalues\n",
    "    \n",
    "    #set it to MaxIterations\n",
    "    it = MaxIterations\n",
    "    \n",
    "    #set previous loss to Inf\n",
    "    prevLoss = float('Inf')\n",
    "    \n",
    "    print('-----------------------------------------------------------------------------------')\n",
    "    print('Running Gradient Descent with %0.4f as learning rate and %d maximum iterations' % (R,MaxIterations))\n",
    "    \n",
    "    #initialize betas with initial weights as 0\n",
    "    beta = np.array([0.00000] * X.shape[1])\n",
    "    \n",
    "    #set convergence\n",
    "    convergence = False\n",
    "    \n",
    "    #reshape \n",
    "    beta = beta.reshape(X.shape[1],1)\n",
    "    \n",
    "    #start the time\n",
    "    t = time.time()\n",
    "    \n",
    "    #start gradient descent \n",
    "    for i in range(1,MaxIterations):\n",
    "        \n",
    "        #calculate predictions\n",
    "        predictions = np.dot(X,beta)\n",
    "        \n",
    "        #find the difference to reduce the number of calculations\n",
    "        diff = predictions - y\n",
    "        \n",
    "        #calculate the sum of squared errors\n",
    "        loss = np.dot(diff.T,diff)\n",
    "        \n",
    "        #compute the gradient\n",
    "        gradient = (np.dot(X.T,diff) * (2/ X.shape[0]))\n",
    "        \n",
    "        #update beta\n",
    "        beta = beta - (R*gradient)\n",
    "        \n",
    "        #check if the derivative/slope/gradient is near zero\n",
    "        if np.asscalar(sum((abs(gradient)) < 0.000001) >0 ):\n",
    "            print('Convergence achieved after %d iterations' % i)\n",
    "            it = i\n",
    "            #set the flag to true\n",
    "            convergence = True\n",
    "            break\n",
    "        \n",
    "        #check if there is any significant difference in the loss \n",
    "        if (prevLoss - np.asscalar(loss)) < 0.0001:\n",
    "            print('The loss remains same after %d iterations' % i)\n",
    "            it = i\n",
    "            break\n",
    "        else:\n",
    "            prevLoss = np.asscalar(loss)\n",
    "            \n",
    "    #stop the timer\n",
    "    ttaken = float(time.time() - t)\n",
    "    \n",
    "    #print message accordingly if/not converged\n",
    "    if convergence:\n",
    "        print('Time taken for convergence %0.4f' % ttaken)\n",
    "    else:\n",
    "        print('Time taken for maximum iterations %0.4f' % ttaken)\n",
    "    \n",
    "    #show values of betas\n",
    "    betas= np.squeeze(np.asarray(beta))\n",
    "    \n",
    "    print(\"The values of Betas are\" , [i for i in betas])\n",
    "    \n",
    "    print('\\n')\n",
    "    \n",
    "    return beta,ttaken,it,convergence, predictions"
   ]
  },
  {
   "cell_type": "code",
   "execution_count": 21,
   "metadata": {
    "collapsed": false
   },
   "outputs": [
    {
     "name": "stdout",
     "output_type": "stream",
     "text": [
      "-----------------------------------------------------------------------------------\n",
      "Running Gradient Descent with 0.1000 as learning rate and 100000 maximum iterations\n",
      "The loss remains same after 51 iterations\n",
      "Time taken for maximum iterations 0.0156\n",
      "The values of Betas are [22.532549044944052, -2.2489257554031092, 5.8940948787532026]\n",
      "\n",
      "\n",
      "-----------------------------------------------------------------------------------\n",
      "Running Gradient Descent with 0.0100 as learning rate and 100000 maximum iterations\n",
      "The loss remains same after 469 iterations\n",
      "Time taken for maximum iterations 0.0781\n",
      "The values of Betas are [22.531077125875594, -2.2497142498027096, 5.8932358095425954]\n",
      "\n",
      "\n",
      "-----------------------------------------------------------------------------------\n",
      "Running Gradient Descent with 0.0010 as learning rate and 100000 maximum iterations\n",
      "The loss remains same after 4100 iterations\n",
      "Time taken for maximum iterations 0.5227\n",
      "The values of Betas are [22.526668215595169, -2.2514516564413327, 5.8912102516026099]\n",
      "\n",
      "\n"
     ]
    }
   ],
   "source": [
    "#norm_data is already normalized. Using the same data for this question\n",
    "#introduce constant\n",
    "norm_data['CONST'] = 1\n",
    "\n",
    "#select the features we want to run gradient descent\n",
    "features = ['CRIM','RM']\n",
    "\n",
    "#append the constant\n",
    "features = ['CONST'] + features\n",
    "\n",
    "#set the target \n",
    "target = 'MEDV'\n",
    "\n",
    "#subset data and convert to matrix\n",
    "y = np.matrix(data[target].values).T\n",
    "X = norm_data.as_matrix(features)\n",
    "\n",
    "#run Gradient Descent  with learning rate as 0.1 and 1000000 iterations\n",
    "gd_run1 = multiple_ols(X,y,0.1,100000)\n",
    "\n",
    "#run Gradient Descent  with learning rate as 0.01 and 1000000 iterations\n",
    "gd_run2 = multiple_ols(X,y,0.01,100000)\n",
    "\n",
    "#run Gradient Descent  with learning rate as 0.001 and 1000000 iterations\n",
    "gd_run3 = multiple_ols(X,y,0.001,100000)\n"
   ]
  },
  {
   "cell_type": "markdown",
   "metadata": {
    "ein.tags": [
     "worksheet-0"
    ],
    "slideshow": {
     "slide_type": "-"
    }
   },
   "source": [
    "### 2.4 Compare standardized vs. non-standardized results\n",
    "\n",
    "Repeat the analysis from 2.3, but this time do not standardize your variables - i.e., use the original data. Use the same three values of R (0.1, 0.01, and 0.001). What do you notice about the running time and convergence properties of your algorithm?"
   ]
  },
  {
   "cell_type": "code",
   "execution_count": 22,
   "metadata": {
    "autoscroll": "json-false",
    "collapsed": false,
    "ein.tags": [
     "worksheet-0"
    ],
    "slideshow": {
     "slide_type": "-"
    }
   },
   "outputs": [
    {
     "name": "stdout",
     "output_type": "stream",
     "text": [
      "-----------------------------------------------------------------------------------\n",
      "Running Gradient Descent with 0.0100 as learning rate and 100000 maximum iterations\n",
      "The loss remains same after 22434 iterations\n",
      "Time taken for maximum iterations 2.7696\n",
      "The values of Betas are [-29.105724406650875, -0.26247744011077795, 8.3670749846719001]\n",
      "\n",
      "\n",
      "-----------------------------------------------------------------------------------\n",
      "Running Gradient Descent with 0.0100 as learning rate and 100000 maximum iterations\n",
      "The loss remains same after 22434 iterations\n",
      "Time taken for maximum iterations 3.2590\n",
      "The values of Betas are [-29.105724406650875, -0.26247744011077795, 8.3670749846719001]\n",
      "\n",
      "\n",
      "-----------------------------------------------------------------------------------\n",
      "Running Gradient Descent with 0.0010 as learning rate and 100000 maximum iterations\n",
      "Time taken for maximum iterations 36.4241\n",
      "The values of Betas are [-26.122289055869253, -0.2724428540470229, 7.9033728664944416]\n",
      "\n",
      "\n"
     ]
    }
   ],
   "source": [
    "#introduce constant\n",
    "data['CONST'] = 1\n",
    "\n",
    "#select the features we want to run gradient descent\n",
    "features = ['CRIM','RM']\n",
    "\n",
    "#append the constant\n",
    "features = ['CONST'] + features\n",
    "\n",
    "#set the target \n",
    "target = 'MEDV'\n",
    "\n",
    "#subset data and convert to matrix\n",
    "y = np.matrix(data[target].values).T\n",
    "X = data.as_matrix(features)\n",
    "\n",
    "#run Gradient Descent  with learning rate as 0.1 and 1000000 iterations\n",
    "gd_run1 = multiple_ols(X,y,0.01,100000)\n",
    "\n",
    "#run Gradient Descent  with learning rate as 0.01 and 1000000 iterations\n",
    "gd_run2 = multiple_ols(X,y,0.01,100000)\n",
    "\n",
    "#run Gradient Descent  with learning rate as 0.001 and 1000000 iterations\n",
    "gd_run3 = multiple_ols(X,y,0.001,100000)"
   ]
  },
  {
   "cell_type": "markdown",
   "metadata": {},
   "source": [
    "- Without normalization, it takes more number of iterations to converge. In the last case where learning rate is 0.001, the data that is not normalized does not converge."
   ]
  },
  {
   "cell_type": "markdown",
   "metadata": {
    "ein.tags": [
     "worksheet-0"
    ],
    "slideshow": {
     "slide_type": "-"
    }
   },
   "source": [
    "## 3. Prediction\n",
    "\n",
    "Let's use our fitted model to make predictions about housing prices. Since the focus is now on prediction rather than the interpretation of the coefficients, first standardize your features before proceeding.\n",
    "\n",
    "### 3.1 Cross-Validation\n",
    "\n",
    "Unless you were careful above, you probably overfit your data again. Let's fix that in one of two ways. If you're feeling confident, use k-fold cross-validation to re-fit the multiple regression from 2.3 above, and report your estimated coefficients (there should be three, corresponding to the intercept and the two coefficients for CRIM and RM). Or if you want to do the quick and dirty version, randomly divide your data into a training set (66%) and testing set (34%) and use the training set to re-fit the regression from 2.3 above. "
   ]
  },
  {
   "cell_type": "code",
   "execution_count": 59,
   "metadata": {
    "autoscroll": "json-false",
    "collapsed": false,
    "ein.tags": [
     "worksheet-0"
    ],
    "slideshow": {
     "slide_type": "-"
    }
   },
   "outputs": [
    {
     "name": "stdout",
     "output_type": "stream",
     "text": [
      "-----------------------------------------------------------------------------------\n",
      "Running Gradient Descent with 0.1000 as learning rate and 100000 maximum iterations\n",
      "The loss remains same after 48 iterations\n",
      "Time taken for maximum iterations 0.0089\n",
      "The values of Betas are [22.340617018908613, -2.4031271575972384, 5.8539403024498524]\n",
      "\n",
      "\n",
      "-----------------------------------------------------------------------------------\n",
      "Running Gradient Descent with 0.0100 as learning rate and 100000 maximum iterations\n",
      "The loss remains same after 448 iterations\n",
      "Time taken for maximum iterations 0.0530\n",
      "The values of Betas are [22.338512725329192, -2.4031420168998054, 5.8536498766817244]\n",
      "\n",
      "\n",
      "-----------------------------------------------------------------------------------\n",
      "Running Gradient Descent with 0.0010 as learning rate and 100000 maximum iterations\n",
      "Convergence achieved after 3126 iterations\n",
      "Time taken for convergence 0.4220\n",
      "The values of Betas are [22.298575713521462, -2.4032695337015229, 5.8472236762620726]\n",
      "\n",
      "\n"
     ]
    }
   ],
   "source": [
    "#generate indexes\n",
    "indexes = np.random.choice(506,int(norm_data.shape[0]*0.66),replace=False)\n",
    "\n",
    "#create train with the random sample graph\n",
    "norm_train = norm_data.ix[indexes,].reset_index()\n",
    "norm_train_target = data.ix[indexes,'MEDV'].reset_index()\n",
    "\n",
    "#select rows not in index\n",
    "norm_test = norm_data.ix[~norm_data.index.isin(indexes),].reset_index()\n",
    "norm_test_target = data.ix[~data.index.isin(indexes),'MEDV'].reset_index()\n",
    "\n",
    "#introduce constant\n",
    "norm_train['CONST'] = 1\n",
    "\n",
    "#select the features we want to run gradient descent\n",
    "features = ['CRIM','RM']\n",
    "\n",
    "#append the constant\n",
    "features = ['CONST'] + features\n",
    "\n",
    "#set the target \n",
    "target = 'MEDV'\n",
    "\n",
    "#subset data and convert to matrix\n",
    "y = np.matrix(norm_train_target[target].values).T\n",
    "X = norm_train.as_matrix(features)\n",
    "\n",
    "#run Gradient Descent  with learning rate as 0.1 and 1000000 iterations\n",
    "gd_run1 = multiple_ols(X,y,0.1,100000)\n",
    "\n",
    "#run Gradient Descent  with learning rate as 0.01 and 1000000 iterations\n",
    "gd_run2 = multiple_ols(X,y,0.01,100000)\n",
    "\n",
    "#run Gradient Descent  with learning rate as 0.001 and 1000000 iterations\n",
    "gd_run3 = multiple_ols(X,y,0.001,100000)"
   ]
  },
  {
   "cell_type": "markdown",
   "metadata": {
    "ein.tags": [
     "worksheet-0"
    ],
    "slideshow": {
     "slide_type": "-"
    }
   },
   "source": [
    "### 3.2 Predicted values and RMSE\n",
    "\n",
    "Let's figure out how accurate this predictive model turned out to be. Compute the RMSE on your test cases, i.e. take the model parameters that you found above and compare the actual to the predicted values for just the test instances. If you did this the k-fold way above, this will be the average RMSE across the k test sets. If you did this the quick and dirty way above, this will just be the RMSE on your single test set.\n",
    "\n",
    "What is your test RMSE?  How does it compare to the performance of your nearest neighbor algorithm from the last problem set?  How does it compare to RMSE from a simpler model where number of rooms is the only explanatory variable?"
   ]
  },
  {
   "cell_type": "code",
   "execution_count": 57,
   "metadata": {
    "autoscroll": "json-false",
    "collapsed": false,
    "ein.tags": [
     "worksheet-0"
    ],
    "slideshow": {
     "slide_type": "-"
    }
   },
   "outputs": [],
   "source": [
    "def compute_rmse(predictions,yvalues):\n",
    "    #translate the formula above into python\n",
    "    rmse = np.sqrt(((predictions-yvalues) ** 2).mean())\n",
    "    \n",
    "    #return the calculated value\n",
    "    return rmse"
   ]
  },
  {
   "cell_type": "code",
   "execution_count": 60,
   "metadata": {
    "collapsed": false
   },
   "outputs": [
    {
     "name": "stdout",
     "output_type": "stream",
     "text": [
      "The RMSE for test data with learning rate as 0.1 and 1000000 iterations is  5.82553622112\n",
      "The RMSE for test data with learning rate as 0.01 and 1000000 iterations is  5.82574133803\n",
      "The RMSE for test data with learning rate as 0.001 and 1000000 iterations is  5.82977133251\n"
     ]
    }
   ],
   "source": [
    "beta_estimate = np.squeeze(np.asarray(gd_run1[0]))\n",
    "pred1 = beta_estimate[0] + beta_estimate[1] * norm_test.ix[:,'CRIM'] +  beta_estimate[2] * norm_test.ix[:,'RM'] \n",
    "rmse1 = compute_rmse(np.squeeze(np.asarray(pred1)),np.squeeze(np.asarray(norm_test_target.MEDV)))\n",
    "print('The RMSE for test data with learning rate as 0.1 and 1000000 iterations is ', rmse1)\n",
    "\n",
    "beta_estimate = np.squeeze(np.asarray(gd_run2[0]))\n",
    "pred2 = beta_estimate[0] + beta_estimate[1] * norm_test.ix[:,'CRIM'] +  beta_estimate[2] * norm_test.ix[:,'RM'] \n",
    "rmse2 = compute_rmse(np.squeeze(np.asarray(pred2)),np.squeeze(np.asarray(norm_test_target.MEDV)))\n",
    "print('The RMSE for test data with learning rate as 0.01 and 1000000 iterations is ', rmse2)\n",
    "\n",
    "beta_estimate = np.squeeze(np.asarray(gd_run3[0]))\n",
    "pred3 = beta_estimate[0] + beta_estimate[1] * norm_test.ix[:,'CRIM'] +  beta_estimate[2] * norm_test.ix[:,'RM'] \n",
    "rmse3 = compute_rmse(np.squeeze(np.asarray(pred3)),np.squeeze(np.asarray(norm_test_target.MEDV)))\n",
    "print('The RMSE for test data with learning rate as 0.001 and 1000000 iterations is ', rmse3)\n",
    "#norm_test.ix[:,'CRIM'] *2 + 1"
   ]
  },
  {
   "cell_type": "markdown",
   "metadata": {},
   "source": [
    "- Better than k-NN with same features CRIM, RM which was 6.7. \n",
    "- Also, with the previous feature set where we used only RM, the RMSE descreased by a good margin."
   ]
  },
  {
   "cell_type": "markdown",
   "metadata": {
    "ein.tags": [
     "worksheet-0"
    ],
    "slideshow": {
     "slide_type": "-"
    }
   },
   "source": [
    "### Extra Credit 1: Logistic Regression\n",
    "\n",
    "For extra credit, implement logistic regression using gradient descent. Create a new variable (EXPENSIVE) to indicate whether the median housing price is more than $40,000. Use your model  a logistic regression of EXPENSIVE on CHAS and RM. Report your results."
   ]
  },
  {
   "cell_type": "code",
   "execution_count": null,
   "metadata": {
    "autoscroll": "json-false",
    "collapsed": false,
    "ein.tags": [
     "worksheet-0"
    ],
    "slideshow": {
     "slide_type": "-"
    }
   },
   "outputs": [],
   "source": [
    "\n"
   ]
  },
  {
   "cell_type": "markdown",
   "metadata": {
    "ein.tags": [
     "worksheet-0"
    ],
    "slideshow": {
     "slide_type": "-"
    }
   },
   "source": [
    "## 4 Regularization \n",
    "\n",
    "### 4.1 Get prepped\n",
    "\n",
    "Step 1: Create new interaction variables between each possible pair of the F_s features.  Note: as all the original features are numeric, you can just multiply.  If you originally had *K* features, you should now have K+(K*(K+1))/2 features. Standardize all of your features.\n",
    "\n",
    "Step 2: For simplicity, generate a single training and testing set.  Randomly sample 66% of your data and call this the training set, and set aside the remaining 34% as your test set."
   ]
  },
  {
   "cell_type": "markdown",
   "metadata": {},
   "source": [
    "#### Step 1: Introduce Interaction terms"
   ]
  },
  {
   "cell_type": "code",
   "execution_count": 26,
   "metadata": {
    "autoscroll": "json-false",
    "collapsed": false,
    "ein.tags": [
     "worksheet-0"
    ],
    "slideshow": {
     "slide_type": "-"
    }
   },
   "outputs": [],
   "source": [
    "# create interaction terms \n",
    "from sklearn.preprocessing import PolynomialFeatures\n",
    "\n",
    "#create polynomial features\n",
    "poly = PolynomialFeatures(interaction_only=False)\n",
    "idf = poly.fit_transform(data.ix[:,(data.columns).difference(['CONST','constant','MEDV'])])\n",
    "\n",
    "#standardize except constant\n",
    "norm_idf = standardize(idf[:,1:])\n",
    "\n",
    "#convert into dataframe\n",
    "norm_idf = pd.DataFrame(norm_idf[0])\n",
    "\n",
    "#set column names back again\n",
    "norm_idf.columns = (poly.get_feature_names((data.columns).difference(['CONST','constant','MEDV'])))[1:]\n",
    "\n",
    "#store the column names\n",
    "columns_list = list(norm_idf.columns)"
   ]
  },
  {
   "cell_type": "markdown",
   "metadata": {},
   "source": [
    "#### Step 2: Training - Test split (66-34)"
   ]
  },
  {
   "cell_type": "code",
   "execution_count": 48,
   "metadata": {
    "collapsed": false
   },
   "outputs": [],
   "source": [
    "#generate indexes\n",
    "indexes = np.random.choice(506,int(norm_idf.shape[0]*0.66),replace=False)\n",
    "\n",
    "#create train with the random sample numbers\n",
    "norm_idf_train = norm_idf.ix[indexes,].reset_index()\n",
    "#drop index\n",
    "norm_idf_train.drop('index',axis=1, inplace=True)\n",
    "#create constant\n",
    "norm_idf_train['CONST'] = 1\n",
    "#subset to train data\n",
    "norm_idf_train_target = data.ix[indexes,'MEDV'].reset_index()\n",
    "#subset train target\n",
    "norm_idf_train_target.drop('index',axis=1, inplace=True)\n",
    "\n",
    "\n",
    "#select rows not in index\n",
    "norm_idf_test = norm_idf.ix[~norm_data.index.isin(indexes),].reset_index()\n",
    "#drop index\n",
    "norm_idf_test.drop('index',axis=1, inplace=True)\n",
    "#create constant\n",
    "norm_idf_test['CONST'] = 1\n",
    "#subset to test data\n",
    "norm_idf_test_target = data.ix[~data.index.isin(indexes),'MEDV'].reset_index()\n",
    "#subset test target\n",
    "norm_idf_test_target.drop('index',axis=1, inplace=True)"
   ]
  },
  {
   "cell_type": "markdown",
   "metadata": {
    "ein.tags": [
     "worksheet-0"
    ],
    "slideshow": {
     "slide_type": "-"
    }
   },
   "source": [
    "### 4.2 Let's overfit!\n",
    "Now, using your version of multiple regression from 2.3, let's overfit the training data. Using your training set, regress housing price on as many of those K+(K*(K+1))/2 features as you can.  If you get too greedy, it's possible this will take a long time to compute, so start with 5-10 features, and if you have the time, add more features.\n",
    "\n",
    "Report the RMSE when you apply your model to your training set and to your testing set. How do these numbers compare to each other, and to the RMSE from 3.2 and nearest neighbors?"
   ]
  },
  {
   "cell_type": "markdown",
   "metadata": {},
   "source": [
    "- This function will be for predicting and computing rmse for test and train for the remainder of the assignment"
   ]
  },
  {
   "cell_type": "code",
   "execution_count": 124,
   "metadata": {
    "collapsed": true
   },
   "outputs": [],
   "source": [
    "def predict(features,train,test,beta, train_actual_values,test_actual_values):\n",
    "    \n",
    "    \n",
    "    print('-----------------------------------------------------------------')\n",
    "    \n",
    "\n",
    "    #subset train and test\n",
    "    train = train.ix[:,features]\n",
    "    test = test.ix[:,features]\n",
    "    \n",
    "    #make predictions\n",
    "    predictions_train = np.squeeze(np.array(train.as_matrix() * beta))\n",
    "    \n",
    "    #compute RMSE\n",
    "    train_rmse = compute_rmse(predictions_train,train_actual_values)\n",
    "    \n",
    "    print('The RMSE for train dataset is %0.8f' % (train_rmse))\n",
    "    \n",
    "    predictions_test = np.squeeze(np.array(test.as_matrix() * beta))\n",
    "    \n",
    "    #compute RMSE\n",
    "    test_rmse = compute_rmse(predictions_test,test_actual_values)\n",
    "    \n",
    "    print('The RMSE for test dataset is %0.8f' % (test_rmse))\n",
    "    \n",
    "    print('\\n')\n",
    "    \n",
    "    return train_rmse,test_rmse"
   ]
  },
  {
   "cell_type": "code",
   "execution_count": 125,
   "metadata": {
    "collapsed": false
   },
   "outputs": [
    {
     "name": "stdout",
     "output_type": "stream",
     "text": [
      "-----------------------------------------------------------------------------------\n",
      "Running Gradient Descent with 0.0500 as learning rate and 10000 maximum iterations\n",
      "Convergence achieved after 2713 iterations\n",
      "Time taken for convergence 0.7796\n",
      "The values of Betas are [22.308519894993129, 14.224959756777285, -11.1971382670634, 0.16517767462419114, -0.27490869205198609, -0.0099014393473556127, -0.80653553193540362, -10.650454649859727, 6.449864591031135, 0.28215253235504228, -0.39370650902869725, 0.67758965901687129]\n",
      "\n",
      "\n",
      "-----------------------------------------------------------------\n",
      "The RMSE for train dataset is 4.49860256\n",
      "The RMSE for test dataset is 4.37392859\n",
      "\n",
      "\n",
      "-----------------------------------------------------------------------------------\n",
      "Running Gradient Descent with 0.0500 as learning rate and 10000 maximum iterations\n",
      "Convergence achieved after 9481 iterations\n",
      "Time taken for convergence 2.1737\n",
      "The values of Betas are [22.424593555731136, 25.269213904482104, -21.877441722794828, -0.14939964652141638, 0.52349925046944334, 0.21747379721677948, -4.3519991647473688, -1.760378517618161, 0.22428115965019654]\n",
      "\n",
      "\n",
      "-----------------------------------------------------------------\n",
      "The RMSE for train dataset is 4.77088479\n",
      "The RMSE for test dataset is 4.36836308\n",
      "\n",
      "\n",
      "-----------------------------------------------------------------------------------\n",
      "Running Gradient Descent with 0.0500 as learning rate and 10000 maximum iterations\n",
      "Time taken for maximum iterations 2.0590\n",
      "The values of Betas are [22.352940964570884, 25.42531224793256, -21.760451403196054, -1.2312276943778284, -4.41082480599764, -4.7167392695898149, 5.5883233871298437]\n",
      "\n",
      "\n",
      "-----------------------------------------------------------------\n",
      "The RMSE for train dataset is 4.60166726\n",
      "The RMSE for test dataset is 4.39535417\n",
      "\n",
      "\n",
      "-----------------------------------------------------------------------------------\n",
      "Running Gradient Descent with 0.0100 as learning rate and 10000 maximum iterations\n",
      "Convergence achieved after 1169 iterations\n",
      "Time taken for convergence 2.7249\n",
      "The values of Betas are [22.249085339452243, 0.60222054270935577, 0.034464287937069675, 0.505259118517557, 0.11667286820578102, -0.75138637180285828, 0.32522033845131515, -0.33543759494780867, -0.030203755646794565, -0.14795877342294186, 1.040613350976388, 1.6723852571665265, 0.057617103419888752, -0.3307250210248735, 0.28662582817840204, -0.21327422517561284, 1.0952213886317066, -0.059485464354683382, -0.21628134064609175, 0.31160443019984324, -0.062222105247575522, 0.016715481874771527, 0.04953250122166767, 0.44154914911755688, -0.8437311525440423, -0.081023830975921626, -0.11808257306051848, -0.87057494852356265, 1.3506644238153456, 0.030096337573894839, -0.47470055807683464, 0.41703263896320181, -1.3393341554218308, 0.020882463317406834, -0.12794899945833507, 0.89861206972101415, 1.9091744245159847, -0.00073196630921631956, -0.28801180393930043, 0.505259118517557, 2.3266973362113896, 0.32125240470410737, -0.324257391165168, -0.7688951762301417, -1.7479778580685741, 0.53237801360921089, -1.2640806000177556, -0.78931310294483281, -0.46699278020023621, -0.18472866649771755, 0.24234519731810888, -0.41845628462735407, 0.12220209068346542, 0.085225460870492722, -0.36891034730731787, 0.067096702277567311, -0.092860870359764286, -1.3482592010469168, 0.0081852770295266046, 0.67276486024012694, 0.49639812645802245, -0.64427952115945786, 0.78685853611317369, -1.1966051905438853, 0.23022767202992087, 0.56698309662086099, 0.74373696900737718, -0.97798232573972055, -0.39131505247889786, 0.87294956698478898, 0.078255585044162732, 0.28511276394143542, 0.043355854260684071, 0.74419085374146665, -1.9308528324235419, 0.943643361290886, -0.40613996410900155, 3.1845146959441042, -0.37290125999133111, -0.24371057882801275, -1.7081085131178786, -3.5478824732007257, -1.1586301868770081, -0.5180884194665859, -0.020681122627852863, -0.80557644504407422, 0.038684548308947464, -0.93223871367807287, -0.36267511663097957, -0.1653988985885719, 0.0090211399125356313, 0.92284401597856702, -1.102956053943122, 0.34507297023110217, 0.34234765388839405, 0.45549608864595065, -1.0209516518648529, 0.59755643702565497, -0.73794289579357097, 3.5919489769631445, -2.2445983894932162, 0.77624245089299471, 0.38522201841679704, 0.64174595356744302, 0.66640157283915269]\n",
      "\n",
      "\n",
      "-----------------------------------------------------------------\n",
      "The RMSE for train dataset is 3.24284391\n",
      "The RMSE for test dataset is 3.76347724\n",
      "\n",
      "\n"
     ]
    }
   ],
   "source": [
    "#create target for gradient descent\n",
    "y = np.matrix(norm_idf_train_target.MEDV.values).T\n",
    "\n",
    "#for computing rmse\n",
    "y_train = norm_idf_train_target.MEDV.values\n",
    "y_test = norm_idf_test_target.MEDV.values\n",
    "\n",
    "#-------------------------------------Start Overfitting---------------------------------\n",
    "\n",
    "#create features\n",
    "features = ['CONST']\n",
    "features += ['RM^2','RM','INDUS','CRIM TAX','CRIM^2','CRIM PTRATIO','LSTAT','LSTAT^2', 'CHAS LSTAT', 'NOX', 'CHAS NOX']\n",
    "#subset features\n",
    "X = norm_idf_train.as_matrix(features)\n",
    "#run gradient descent with learning rate as 0.05 and iterations 100000\n",
    "gd_run = multiple_ols(X,y,0.05,10000)\n",
    "#predict and compute rmse\n",
    "results = predict(features,norm_idf_train,norm_idf_test,gd_run[0],y_train,y_test)\n",
    "\n",
    "#create features\n",
    "features = ['CONST']\n",
    "features += ['RM^2','RM','INDUS','CRIM','ZN','LSTAT','CRIM TAX','CRIM^2']\n",
    "#subset features\n",
    "X = norm_idf_train.as_matrix(features)\n",
    "#run gradient descent with learning rate as 0.05 and iterations 100000\n",
    "gd_run = multiple_ols(X,y,0.05,10000)\n",
    "#predict and compute rmse\n",
    "results = predict(features,norm_idf_train,norm_idf_test,gd_run[0],y_train,y_test)\n",
    "\n",
    "\n",
    "#create features\n",
    "features = ['CONST']\n",
    "features += ['RM^2','RM','CRIM RM','LSTAT','CHAS RM', 'CHAS^2']\n",
    "#subset features\n",
    "X = norm_idf_train.as_matrix(features)\n",
    "#run gradient descent with learning rate as 0.05 and iterations 100000\n",
    "gd_run = multiple_ols(X,y,0.05,10000)\n",
    "#predict and compute rmse\n",
    "results = predict(features,norm_idf_train,norm_idf_test,gd_run[0],y_train,y_test)\n",
    "\n",
    "features = ['CONST']\n",
    "features += columns_list\n",
    "#subset features\n",
    "X = norm_idf_train.as_matrix(features)\n",
    "#run gradient descent with learning rate as 0.05 and iterations 100000\n",
    "gd_run = multiple_ols(X,y,0.01,10000)\n",
    "#predict and compute rmse\n",
    "results = predict(features,norm_idf_train,norm_idf_test,gd_run[0],y_train,y_test)\n"
   ]
  },
  {
   "cell_type": "markdown",
   "metadata": {},
   "source": [
    "- When we overfit the data, as in this case, the RMSE value is expected to increase significantly for unseen data, in this case test data. \n",
    "- The RMSE decreases by a great extend when overfit the data. The RMSE varies between 4 to 3 depending on the number of features\n",
    "- This method of overfitting further decreases the RMSE to a new low compare to any other method, k-NN and previous models"
   ]
  },
  {
   "cell_type": "markdown",
   "metadata": {
    "ein.tags": [
     "worksheet-0"
    ],
    "slideshow": {
     "slide_type": "-"
    }
   },
   "source": [
    "### 4.3 Ridge regularization\n",
    "a) Incorporate L2 (Ridge) regularization into your multiple_ols regression. Write a new version of your gradient descent algorithm that includes a regularization term \"lambda\" to penalize excessive complexity. \n",
    "\n",
    "b) Use your regularized regression to re-fit the model from 4.2 above on your training data. Try this for several different values of lambda, and report your RMSE for each lambda separately for your training and testing data. How do these numbers compare to each other, to the RMSE from 4.2,  to the RMSE from 2.3, and to the RMSE from nearest neighbors?\n",
    "\n",
    "c) Go brag to your friends about how you just implemented ridge-regularized multiple regression using gradient descent optimization, from scratch (if you still have any friends left...)"
   ]
  },
  {
   "cell_type": "code",
   "execution_count": 29,
   "metadata": {
    "autoscroll": "json-false",
    "collapsed": false,
    "ein.tags": [
     "worksheet-0"
    ],
    "slideshow": {
     "slide_type": "-"
    }
   },
   "outputs": [],
   "source": [
    "def multiple_ridge_ols (xvalues,yvalues,R,L,MaxIterations):\n",
    "    \"\"\"\n",
    "    Function\n",
    "    --------\n",
    "    multiple_ridge_ols\n",
    "        Gradient Descent to minimize OLS by penalizing betas for Ridge regression\n",
    "\n",
    "    Parameters\n",
    "    ----------\n",
    "    xvalue_matrix, yvalues : narray\n",
    "        xvalue_matrix: independent variable\n",
    "        yvalues: dependent variable\n",
    "\n",
    "    R: float\n",
    "        Learning rate\n",
    "\n",
    "    MaxIterations: Int\n",
    "        maximum number of iterations\n",
    "    \n",
    "    L: Float\n",
    "        lambda penalty in Ridge regression\n",
    "\n",
    "    Returns\n",
    "    -------\n",
    "    beta: array[float], coefficients\n",
    "    \"\"\"\n",
    "    #convert for easy notations\n",
    "    X = xvalues\n",
    "    y = yvalues\n",
    "    \n",
    "    #set it to MaxIterations\n",
    "    it = MaxIterations\n",
    "    \n",
    "    #set previous loss to Inf\n",
    "    prevLoss = float('Inf')\n",
    "    \n",
    "    #create weights\n",
    "    W = np.eye(X.shape[1])\n",
    "    W[0,0] = 0\n",
    "    \n",
    "    print('-----------------------------------------------------------------------------------')\n",
    "    print('Running Gradient Descent with %0.4f as learning rate and %d maximum iterations' % (R,MaxIterations))\n",
    "    \n",
    "    #initialize betas with initial weights as 0\n",
    "    beta = np.array([0.00000] * X.shape[1])\n",
    "    \n",
    "    #set convergence\n",
    "    convergence = False\n",
    "    \n",
    "    #reshape \n",
    "    beta = beta.reshape(X.shape[1],1)\n",
    "    \n",
    "    #start the time\n",
    "    t = time.time()\n",
    "    \n",
    "    #start gradient descent \n",
    "    for i in range(1,MaxIterations):\n",
    "        \n",
    "        #calculate predictions\n",
    "        predictions = np.dot(X,beta)\n",
    "        \n",
    "        #find the difference to reduce the number of calculations\n",
    "        diff = predictions - y\n",
    "        \n",
    "        #calculate the sum of squared errors and subject to L2-norm\n",
    "        loss = np.dot(diff.T,diff) + L * np.dot(np.dot(beta.T,W),beta) \n",
    "        \n",
    "        #compute the gradient\n",
    "        gradient = (np.dot(X.T,diff) * (2/ X.shape[0])) + 2 * L * np.dot(W,beta)\n",
    "        \n",
    "        #update beta\n",
    "        beta = beta - (R*gradient)\n",
    "        \n",
    "        #check if the derivative/slope/gradient is near zero\n",
    "        if np.asscalar(sum((abs(gradient)) < 0.000001) >0 ):\n",
    "            print('Convergence achieved after %d iterations' % i)\n",
    "            it = i\n",
    "            #set the flag to true\n",
    "            convergence = True\n",
    "            break\n",
    "        \n",
    "        #check if there is any significant difference in the loss \n",
    "        if (prevLoss - np.asscalar(loss)) < 0.0001:\n",
    "            print('The loss remains same after %d iterations' % i)\n",
    "            it = i\n",
    "            break\n",
    "        else:\n",
    "            prevLoss = np.asscalar(loss)\n",
    "            \n",
    "    #stop the timer\n",
    "    ttaken = float(time.time() - t)\n",
    "    \n",
    "    #print message accordingly if/not converged\n",
    "    if convergence:\n",
    "        print('Time taken for convergence %0.4f' % ttaken)\n",
    "    else:\n",
    "        print('Time taken for maximum iterations %0.4f' % ttaken)\n",
    "    \n",
    "    #show values of betas\n",
    "    betas= np.squeeze(np.asarray(beta))\n",
    "    \n",
    "    print(\"The values of Betas are\" , [i for i in betas])\n",
    "    \n",
    "    print('\\n')\n",
    "    \n",
    "    return beta,ttaken,it,convergence, predictions"
   ]
  },
  {
   "cell_type": "code",
   "execution_count": 145,
   "metadata": {
    "collapsed": false
   },
   "outputs": [
    {
     "name": "stdout",
     "output_type": "stream",
     "text": [
      "-----------------------------------------------------------------------------------\n",
      "Running Gradient Descent with 0.0010 as learning rate and 10000 maximum iterations\n",
      "Convergence achieved after 2576 iterations\n",
      "Time taken for convergence 6.7244\n",
      "The values of Betas are [22.018479936628736, 0.21778455715564438, 0.10862197379565043, 0.16119475155406113, -0.10581139082564317, -0.17037511212480208, 0.057462221130775412, -0.44146374168362329, -0.53045990530254883, -0.5340109052479326, 0.46945652666258841, 1.2211572036226597, -0.30014657429922165, 0.016952434528459879, 0.25543986726229001, 0.1086269272663123, 0.38180910572114252, -0.14642723415088638, -0.24994611679370526, 0.18604441282033571, 0.12710828771111493, -0.11816469912694501, 0.022934205607017609, 0.33075249987032607, -0.085524436427126829, -0.15141527261177123, -0.1413277432851239, -0.33585081971645142, 0.3544712035565909, 0.60729161553897892, -0.093922397204792604, 0.11273749951750306, -0.70595649000837724, -0.19064415809371252, -0.12110156477273204, 0.72000990033035628, 1.0722955989647112, -0.11999824532809585, 0.021177218186963123, 0.16119475155406113, 1.2969982359721521, 0.061310561709116834, 0.010311060681089159, -0.71142367386975813, -0.50549318552615041, 0.18226631878794922, -0.087286560391831289, -0.075231191105046807, 0.048672525673926444, 0.16076317202458912, -0.5123033827612794, -0.24613957401554151, -0.12231711744493277, 0.056338698217780897, -0.28592183202480237, -0.11186498365274745, -0.14366140025644686, -0.64337192130260168, -0.13178213328682312, 0.68354188977488417, 0.16009539216041987, -0.49372521366421657, -0.69547763451219657, -0.57672417151364297, -0.057540997289233807, 0.23930393997212859, 0.48418354760908633, -0.66644781947282061, -0.088682215265859371, 0.52512671614378381, 0.34989484445306285, -0.094183643437444134, 0.023095029597366735, 0.39268353222044788, -0.67052951375050007, 0.19222156871723325, -0.42308458910119995, 1.1232895658875715, -0.42554677210107705, -0.3694450065349511, -0.41027788449158809, -1.5958508981169066, -0.482303737418464, -0.66945967623685843, -0.51134491799772319, -0.83269480551300479, 0.030821561167472762, -0.45479909467271973, -0.49879438630428369, 0.063040001711361593, -0.52369644263828918, 0.40667163025886827, -0.19460738287596674, -0.24125004461240759, 0.10927604525176242, 0.44457786605923577, -0.10155762422940004, 0.38652613818145393, -0.22551892131377074, 1.9391272320758475, -0.90214225952227378, 0.39804401713553883, 0.064905909325352909, 0.23808300192358967, 0.34741592288424511]\n",
      "\n",
      "\n",
      "-----------------------------------------------------------------\n",
      "The RMSE for train dataset is 3.86901900\n",
      "The RMSE for test dataset is 4.63613615\n",
      "\n",
      "\n",
      "-----------------------------------------------------------------------------------\n",
      "Running Gradient Descent with 0.0050 as learning rate and 10000 maximum iterations\n",
      "The loss remains same after 912 iterations\n",
      "Time taken for maximum iterations 0.2652\n",
      "The values of Betas are [22.330534805783728, 1.7416499956855183, 1.5418554220005907, -0.93776278385692158, -2.1879779535285073, 0.47346454414852429, 0.44211996131684361]\n",
      "\n",
      "\n",
      "-----------------------------------------------------------------\n",
      "The RMSE for train dataset is 5.61269899\n",
      "The RMSE for test dataset is 5.80640208\n",
      "\n",
      "\n",
      "-----------------------------------------------------------------------------------\n",
      "Running Gradient Descent with 0.0050 as learning rate and 10000 maximum iterations\n",
      "The loss remains same after 652 iterations\n",
      "Time taken for maximum iterations 0.2407\n",
      "The values of Betas are [22.290674481330168, 1.6203303170629892, 1.3882172504822428, -0.71830456212904314, -0.37365990032334995, -0.16312832823279849, -0.38216381585588854, -1.511489079660941, -0.80414262041611095, 0.037364688630562103, -0.57718117759653176, 0.66695595063065582]\n",
      "\n",
      "\n",
      "-----------------------------------------------------------------\n",
      "The RMSE for train dataset is 5.57340213\n",
      "The RMSE for test dataset is 5.84881538\n",
      "\n",
      "\n",
      "-----------------------------------------------------------------------------------\n",
      "Running Gradient Descent with 0.0050 as learning rate and 10000 maximum iterations\n",
      "The loss remains same after 757 iterations\n",
      "Time taken for maximum iterations 0.1291\n",
      "The values of Betas are [22.38712764065064, -0.23725445258888622, 0.50015644811743543]\n",
      "\n",
      "\n",
      "-----------------------------------------------------------------\n",
      "The RMSE for train dataset is 8.80786448\n",
      "The RMSE for test dataset is 8.66521717\n",
      "\n",
      "\n"
     ]
    }
   ],
   "source": [
    "features = ['CONST']\n",
    "features += columns_list\n",
    "#subset features\n",
    "X = norm_idf_train.as_matrix(features)\n",
    "#run gradient descent with learning rate as 0.001 and iterations 100000\n",
    "gd_ridge_run = multiple_ridge_ols(X,y,0.001,10**-3,10000)\n",
    "#predict and compute rmse\n",
    "results = predict(features,norm_idf_train,norm_idf_test,gd_ridge_run[0],y_train,y_test)\n",
    "\n",
    "\n",
    "features = ['CONST']\n",
    "features += ['RM^2','RM','CRIM RM','LSTAT','CHAS RM', 'CHAS^2']\n",
    "#subset features\n",
    "X = norm_idf_train.as_matrix(features)\n",
    "#run gradient descent with learning rate as 0.005 and iterations 100000\n",
    "gd_ridge_run = multiple_ridge_ols(X,y,0.005,1,10000)\n",
    "#predict and compute rmse\n",
    "results = predict(features,norm_idf_train,norm_idf_test,gd_ridge_run[0],y_train,y_test)\n",
    "\n",
    "\n",
    "features = ['CONST']\n",
    "features += ['RM^2','RM','INDUS','CRIM TAX','CRIM^2','CRIM PTRATIO','LSTAT','LSTAT^2', 'CHAS LSTAT', 'NOX', 'CHAS NOX']\n",
    "#subset features\n",
    "X = norm_idf_train.as_matrix(features)\n",
    "#run gradient descent with learning rate as 0.005 and iterations 100000\n",
    "gd_ridge_run = multiple_ridge_ols(X,y,0.005,1,10000)\n",
    "#predict and compute rmse\n",
    "results = predict(features,norm_idf_train,norm_idf_test,gd_ridge_run[0],y_train,y_test)\n",
    "\n",
    "\n",
    "features = ['CONST']\n",
    "features += ['CRIM','RM']\n",
    "#subset features\n",
    "X = norm_idf_train.as_matrix(features)\n",
    "#run gradient descent with learning rate as 0.005 and iterations 100000\n",
    "gd_ridge_run = multiple_ridge_ols(X,y,0.005,12,10000)\n",
    "#predict and compute rmse\n",
    "results = predict(features,norm_idf_train,norm_idf_test,gd_ridge_run[0],y_train,y_test)"
   ]
  },
  {
   "cell_type": "markdown",
   "metadata": {},
   "source": [
    "#####  Comparison with other methods and models\n",
    "\n",
    "- The RMSE for this method is higher than for all of the previous models and methods. This is expected because here we penalize beta and sort of compromise the values of beta and try to bring to the ridge of the intersection. Whereas, in the case of other methods and models, the predictions depends only on betas and no penalty whatsoever.\n",
    "- In ridge regression, since we aim to counter overfitting and try to balance the bias-variance tradeoff, the RMSE is expected to higher than the other methods, where we can overfit the data. "
   ]
  },
  {
   "cell_type": "markdown",
   "metadata": {
    "ein.tags": [
     "worksheet-0"
    ],
    "slideshow": {
     "slide_type": "-"
    }
   },
   "source": [
    "### Extra Credit 2: Cross-validate lambda\n",
    "\n",
    "Use k-fold cross-validation to select the optimal value of lambda. Report the average RMSE across all training sets, and the average RMSE across all testing sets. How do these numbers compare to each other, to the RMSE from your previous efforts?  Finally, create a plot that shows RMSE as a function of lambda."
   ]
  },
  {
   "cell_type": "code",
   "execution_count": null,
   "metadata": {
    "autoscroll": "json-false",
    "collapsed": false,
    "ein.tags": [
     "worksheet-0"
    ],
    "slideshow": {
     "slide_type": "-"
    }
   },
   "outputs": [],
   "source": [
    "\n"
   ]
  },
  {
   "cell_type": "markdown",
   "metadata": {
    "ein.tags": [
     "worksheet-0"
    ],
    "slideshow": {
     "slide_type": "-"
    }
   },
   "source": [
    "### (Showoff) Extra Credit 3: Lambda and coefficients\n",
    "\n",
    "If you're feeling extra-special, create a parameter plot that shows how the different coefficient estimates change as a function of lambda. To make this graph intelligible, only include the *K* original F_s features in this plot"
   ]
  },
  {
   "cell_type": "code",
   "execution_count": null,
   "metadata": {
    "autoscroll": "json-false",
    "collapsed": false,
    "ein.tags": [
     "worksheet-0"
    ],
    "slideshow": {
     "slide_type": "-"
    }
   },
   "outputs": [],
   "source": [
    "\n",
    "    "
   ]
  }
 ],
 "metadata": {
  "anaconda-cloud": {},
  "kernelspec": {
   "display_name": "Python 3",
   "language": "python",
   "name": "python3"
  },
  "language_info": {
   "codemirror_mode": {
    "name": "ipython",
    "version": 3
   },
   "file_extension": ".py",
   "mimetype": "text/x-python",
   "name": "python",
   "nbconvert_exporter": "python",
   "pygments_lexer": "ipython3",
   "version": "3.5.2"
  },
  "name": "INFX574-PS4-solutions.ipynb"
 },
 "nbformat": 4,
 "nbformat_minor": 0
}
