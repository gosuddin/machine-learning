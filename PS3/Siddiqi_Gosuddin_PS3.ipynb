{
 "cells": [
  {
   "cell_type": "markdown",
   "metadata": {
    "ein.tags": [
     "worksheet-0"
    ],
    "slideshow": {
     "slide_type": "-"
    }
   },
   "source": [
    "# Problem Set 3, due May 9th at 3:30pm.\n",
    "\n",
    "### Before You Start\n",
    "\n",
    "Make sure the following libraries load correctly (hit Ctrl-Enter). Note that while you are loading several powerful libraries, including machine learning libraries, the goal of this problem set is to implement several algorithms from scratch. In particular, you should *not* be using any built-in libraries for nearest neighbors, distance metrics, or cross-validation -- your mission is to write those algorithms in Python!\n",
    "\n",
    "*Also note:* For this assignment we are requiring you to use base **matplotlib** - no more Seaborn or other packages. This will help you become familiar with techniques for maintaining fine-grained control over your data visualizations. It will also help our graders, who spent countless hours trying to make various versions import for grading."
   ]
  },
  {
   "cell_type": "code",
   "execution_count": 1,
   "metadata": {
    "autoscroll": "json-false",
    "collapsed": false,
    "ein.tags": [
     "worksheet-0"
    ],
    "slideshow": {
     "slide_type": "-"
    }
   },
   "outputs": [],
   "source": [
    "import IPython\n",
    "import numpy as np\n",
    "import scipy as sp\n",
    "import pandas as pd\n",
    "import matplotlib.pyplot as plt\n",
    "%matplotlib inline\n",
    "import sklearn"
   ]
  },
  {
   "cell_type": "markdown",
   "metadata": {
    "ein.tags": [
     "worksheet-0"
    ],
    "slideshow": {
     "slide_type": "-"
    }
   },
   "source": [
    "---\n",
    "\n",
    "## Introduction to the assignment\n",
    "\n",
    "For this assignment, you will be using the [Boston Housing Prices Data Set](http://archive.ics.uci.edu/ml/datasets/Housing).  Please read about the dataset carefully before continuing.  Use the following commands to load the dataset and print some descriptive information\n"
   ]
  },
  {
   "cell_type": "code",
   "execution_count": 2,
   "metadata": {
    "autoscroll": "json-false",
    "collapsed": false,
    "ein.tags": [
     "worksheet-0"
    ],
    "slideshow": {
     "slide_type": "-"
    }
   },
   "outputs": [],
   "source": [
    "from sklearn.datasets import load_boston\n",
    "bdata = load_boston()"
   ]
  },
  {
   "cell_type": "markdown",
   "metadata": {
    "ein.tags": [
     "worksheet-0"
    ],
    "slideshow": {
     "slide_type": "-"
    }
   },
   "source": [
    "The following commands will provide some basic information about the shape of the data:"
   ]
  },
  {
   "cell_type": "code",
   "execution_count": 3,
   "metadata": {
    "autoscroll": "json-false",
    "collapsed": false,
    "ein.tags": [
     "worksheet-0"
    ],
    "slideshow": {
     "slide_type": "-"
    }
   },
   "outputs": [
    {
     "name": "stdout",
     "output_type": "stream",
     "text": [
      "dict_keys(['target', 'data', 'DESCR', 'feature_names'])\n",
      "['CRIM' 'ZN' 'INDUS' 'CHAS' 'NOX' 'RM' 'AGE' 'DIS' 'RAD' 'TAX' 'PTRATIO'\n",
      " 'B' 'LSTAT']\n",
      "(506, 13)\n",
      "(506,)\n",
      "Boston House Prices dataset\n",
      "\n",
      "Notes\n",
      "------\n",
      "Data Set Characteristics:  \n",
      "\n",
      "    :Number of Instances: 506 \n",
      "\n",
      "    :Number of Attributes: 13 numeric/categorical predictive\n",
      "    \n",
      "    :Median Value (attribute 14) is usually the target\n",
      "\n",
      "    :Attribute Information (in order):\n",
      "        - CRIM     per capita crime rate by town\n",
      "        - ZN       proportion of residential land zoned for lots over 25,000 sq.ft.\n",
      "        - INDUS    proportion of non-retail business acres per town\n",
      "        - CHAS     Charles River dummy variable (= 1 if tract bounds river; 0 otherwise)\n",
      "        - NOX      nitric oxides concentration (parts per 10 million)\n",
      "        - RM       average number of rooms per dwelling\n",
      "        - AGE      proportion of owner-occupied units built prior to 1940\n",
      "        - DIS      weighted distances to five Boston employment centres\n",
      "        - RAD      index of accessibility to radial highways\n",
      "        - TAX      full-value property-tax rate per $10,000\n",
      "        - PTRATIO  pupil-teacher ratio by town\n",
      "        - B        1000(Bk - 0.63)^2 where Bk is the proportion of blacks by town\n",
      "        - LSTAT    % lower status of the population\n",
      "        - MEDV     Median value of owner-occupied homes in $1000's\n",
      "\n",
      "    :Missing Attribute Values: None\n",
      "\n",
      "    :Creator: Harrison, D. and Rubinfeld, D.L.\n",
      "\n",
      "This is a copy of UCI ML housing dataset.\n",
      "http://archive.ics.uci.edu/ml/datasets/Housing\n",
      "\n",
      "\n",
      "This dataset was taken from the StatLib library which is maintained at Carnegie Mellon University.\n",
      "\n",
      "The Boston house-price data of Harrison, D. and Rubinfeld, D.L. 'Hedonic\n",
      "prices and the demand for clean air', J. Environ. Economics & Management,\n",
      "vol.5, 81-102, 1978.   Used in Belsley, Kuh & Welsch, 'Regression diagnostics\n",
      "...', Wiley, 1980.   N.B. Various transformations are used in the table on\n",
      "pages 244-261 of the latter.\n",
      "\n",
      "The Boston house-price data has been used in many machine learning papers that address regression\n",
      "problems.   \n",
      "     \n",
      "**References**\n",
      "\n",
      "   - Belsley, Kuh & Welsch, 'Regression diagnostics: Identifying Influential Data and Sources of Collinearity', Wiley, 1980. 244-261.\n",
      "   - Quinlan,R. (1993). Combining Instance-Based and Model-Based Learning. In Proceedings on the Tenth International Conference of Machine Learning, 236-243, University of Massachusetts, Amherst. Morgan Kaufmann.\n",
      "   - many more! (see http://archive.ics.uci.edu/ml/datasets/Housing)\n",
      "\n"
     ]
    }
   ],
   "source": [
    "print (bdata.keys())\n",
    "print (bdata.feature_names)\n",
    "print (bdata.data.shape)\n",
    "print (bdata.target.shape)\n",
    "# uncomment the following if you want to see a lengthy description of the dataset\n",
    "print (bdata.DESCR)\n"
   ]
  },
  {
   "cell_type": "code",
   "execution_count": 4,
   "metadata": {
    "collapsed": false
   },
   "outputs": [
    {
     "data": {
      "text/plain": [
       "Index(['CRIM', 'ZN', 'INDUS', 'CHAS', 'NOX', 'RM', 'AGE', 'DIS', 'RAD', 'TAX',\n",
       "       'PTRATIO', 'B', 'LSTAT', 'MEDV'],\n",
       "      dtype='object')"
      ]
     },
     "execution_count": 4,
     "metadata": {},
     "output_type": "execute_result"
    }
   ],
   "source": [
    "#create a data frame\n",
    "#save the data into easily accessible variable\n",
    "data = pd.DataFrame(bdata.data)\n",
    "target = pd.DataFrame(bdata.target)\n",
    "\n",
    "#join data and target variable\n",
    "data = pd.concat((data,target),axis=1)\n",
    "\n",
    "#save the column names\n",
    "cols = np.append(bdata.feature_names,'MEDV')\n",
    "\n",
    "data.columns = cols\n",
    "\n",
    "data.columns\n"
   ]
  },
  {
   "cell_type": "markdown",
   "metadata": {
    "ein.tags": [
     "worksheet-0"
    ],
    "slideshow": {
     "slide_type": "-"
    }
   },
   "source": [
    "---\n",
    "\n",
    "## Part 1: Descriptive analysis\n",
    "\n",
    "The goal of this section is to explore the data and make a few nice\n",
    "visualizations -- before beginning the \"real\" work, we should dig into\n",
    "the data a bit do see what we are dealing with.  If you're new to data visualization, [this guide](http://pubs.aeaweb.org/doi/pdfplus/10.1257/jep.28.1.209) is a good place to start.\n",
    "  \n",
    "\n",
    "### 1.1: Histogram of housing prices\n",
    "\n",
    "Your first task is to make a histogram of 'MEDV' (the median hose\n",
    "                                                  value, your target\n",
    "                                                  variable), and make this graph look pretty by doing the following:\n",
    "\n",
    "1. Add appropriate labels to the x and y axes, make sure to include units\n",
    "2. Change the bin width on the histogram to be $1000\n",
    "3. Remove the axes on the top and right side of the plot window\n",
    "4. Change the color of the bars to be green, and remove the black borders from the bars\n"
   ]
  },
  {
   "cell_type": "code",
   "execution_count": 5,
   "metadata": {
    "autoscroll": "json-false",
    "collapsed": false,
    "ein.tags": [
     "worksheet-0"
    ],
    "slideshow": {
     "slide_type": "-"
    }
   },
   "outputs": [
    {
     "data": {
      "text/plain": [
       "(array([  3.,   1.,   7.,  10.,   3.,  10.,   9.,   9.,  24.,  18.,  16.,\n",
       "         16.,  22.,  25.,  37.,  36.,  31.,  35.,  37.,  25.,  11.,   8.,\n",
       "          9.,  10.,  10.,   7.,   8.,   7.,   9.,   5.,   4.,   6.,   5.,\n",
       "          1.,   1.,   0.,   2.,   2.,   3.,   2.,   1.,   2.,   0.,   3.,\n",
       "         16.]),\n",
       " array([  5.,   6.,   7.,   8.,   9.,  10.,  11.,  12.,  13.,  14.,  15.,\n",
       "         16.,  17.,  18.,  19.,  20.,  21.,  22.,  23.,  24.,  25.,  26.,\n",
       "         27.,  28.,  29.,  30.,  31.,  32.,  33.,  34.,  35.,  36.,  37.,\n",
       "         38.,  39.,  40.,  41.,  42.,  43.,  44.,  45.,  46.,  47.,  48.,\n",
       "         49.,  50.]),\n",
       " <a list of 45 Patch objects>)"
      ]
     },
     "execution_count": 5,
     "metadata": {},
     "output_type": "execute_result"
    },
    {
     "data": {
      "image/png": "[encoded data removed]",
      "text/plain": [
       "<matplotlib.figure.Figure at 0x21c30448198>"
      ]
     },
     "metadata": {},
     "output_type": "display_data"
    }
   ],
   "source": [
    "#set the figure size\n",
    "plt.figure(figsize=(15,5))\n",
    "\n",
    "#create a subplot\n",
    "ax = plt.subplot(111)\n",
    "\n",
    "#remove right and top border\n",
    "ax.spines['right'].set_visible(False)\n",
    "ax.spines['top'].set_visible(False)\n",
    "\n",
    "#keep left and bottom ticks\n",
    "ax.yaxis.set_ticks_position('left')\n",
    "ax.xaxis.set_ticks_position('bottom')\n",
    "\n",
    "#set the labels\n",
    "plt.xlabel('Median House Value in $1000s')\n",
    "plt.ylabel('Frequency')\n",
    "\n",
    "#set title\n",
    "plt.title('Distribution of Median House Value')\n",
    "\n",
    "#plot the data\n",
    "plt.hist(bdata.target, bins = int(bdata.target.max()-bdata.target.min()), color = 'g', lw =0)"
   ]
  },
  {
   "cell_type": "markdown",
   "metadata": {
    "ein.tags": [
     "worksheet-0"
    ],
    "slideshow": {
     "slide_type": "-"
    }
   },
   "source": [
    "### 1.2: Scatter plot of housing prices and crime\n",
    "\n",
    "Use matplotlib to create a scatter plot that shows the relationship\n",
    "between the median value of the home (y-axis) and the per-capita crime\n",
    "rate (x-axis).  Properly label your axes, and make sure that your\n",
    "graphic looks polished and professional.  \n"
   ]
  },
  {
   "cell_type": "code",
   "execution_count": 6,
   "metadata": {
    "autoscroll": "json-false",
    "collapsed": false,
    "ein.tags": [
     "worksheet-0"
    ],
    "slideshow": {
     "slide_type": "-"
    }
   },
   "outputs": [
    {
     "data": {
      "text/plain": [
       "<matplotlib.legend.Legend at 0x21c3073e668>"
      ]
     },
     "execution_count": 6,
     "metadata": {},
     "output_type": "execute_result"
    },
    {
     "data": {
      "image/png": "[encoded data removed]",
      "text/plain": [
       "<matplotlib.figure.Figure at 0x21c30435da0>"
      ]
     },
     "metadata": {},
     "output_type": "display_data"
    }
   ],
   "source": [
    "#set the plotsize\n",
    "plt.figure(figsize=(10,4))\n",
    "\n",
    "#set the limits of x-axis\n",
    "plt.xlim(0,100)\n",
    "plt.xticks(np.arange(min(data.CRIM), 101, 10))\n",
    "\n",
    "\n",
    "#set the axis label\n",
    "plt.xlabel('Per-Capita Crime Rate', fontsize= 12)\n",
    "plt.ylabel('Median value of the Home',fontsize= 12)\n",
    "\n",
    "#set the title\n",
    "plt.title('Median value of the Home against Per-Capita Crime Rate', fontsize = 16)\n",
    "\n",
    "#make the scatter plot\n",
    "plt.scatter(data.CRIM,data.MEDV, alpha = 0.4, color = 'steelblue', marker='o', label = 'instances')\n",
    "\n",
    "#show legend\n",
    "plt.legend(loc = 'best')"
   ]
  },
  {
   "cell_type": "markdown",
   "metadata": {
    "ein.tags": [
     "worksheet-0"
    ],
    "slideshow": {
     "slide_type": "-"
    }
   },
   "source": [
    "### 1.3 Create your own (creative and effective) visualization\n",
    "\n",
    "Use another type of graph or chart to illustrate an interesting pattern in the data.  Be creative in your visualization, and make sure to produce a \"publication-quality\" graph.  Points will be given for useful and creative graphs; points will be deducted for confusing issues like unlabeled axes.  "
   ]
  },
  {
   "cell_type": "code",
   "execution_count": 9,
   "metadata": {
    "collapsed": false,
    "scrolled": true
   },
   "outputs": [
    {
     "data": {
      "text/plain": [
       "<matplotlib.colorbar.Colorbar at 0x21c31f269e8>"
      ]
     },
     "execution_count": 9,
     "metadata": {},
     "output_type": "execute_result"
    },
    {
     "data": {
      "image/png": "[encoded data removed]",
      "text/plain": [
       "<matplotlib.figure.Figure at 0x21c31b262e8>"
      ]
     },
     "metadata": {},
     "output_type": "display_data"
    }
   ],
   "source": [
    "from matplotlib import cm as cm\n",
    "\n",
    "#set the figure size\n",
    "fig = plt.figure(figsize=(15,10))\n",
    "\n",
    "#set the subplot\n",
    "ax = fig.add_subplot(111)\n",
    "\n",
    "#initialize color map\n",
    "cmap = cm.get_cmap('jet', 30)\n",
    "\n",
    "#create the correlation matrix matrix \n",
    "cax = ax.imshow(data.corr(), interpolation=\"nearest\", cmap=cmap)\n",
    "\n",
    "#set grids to true\n",
    "ax.grid(True)\n",
    "\n",
    "#set the title\n",
    "plt.title('Correlation Matrix for Boston Pricing' , fontsize = 16)\n",
    "\n",
    "#store the labels\n",
    "labels=data.columns\n",
    "\n",
    "#set labels\n",
    "ax.set_xticklabels(labels,fontsize=10)\n",
    "ax.set_yticklabels(labels,fontsize=10)\n",
    "\n",
    "#show all features on the axis\n",
    "ax.set_xticks(range(0,14))\n",
    "ax.set_yticks(range(0,14))\n",
    "\n",
    "# Add colorbar, make sure to specify tick locations to match desired ticklabels\n",
    "fig.colorbar(cax, fraction = 0.045, pad = 0.05)"
   ]
  },
  {
   "cell_type": "markdown",
   "metadata": {
    "ein.tags": [
     "worksheet-0"
    ],
    "slideshow": {
     "slide_type": "-"
    }
   },
   "source": [
    "---\n",
    "\n",
    "## Part 2: Experimental Setup\n",
    "\n",
    "The goal of the next few sections is to design an experiment to predict the median home value for an instance in the data.\n",
    "\n",
    "### 2.1 Begin by writing a function to compute the Root Mean Squared Error for a list of numbers\n",
    "\n",
    "You can find the sqrt function in the Numpy package. \n",
    "Details of RMSE can be found in Hastie, Tibishrani, Friedman _The\n",
    "Elements of Statistical Learning_, Ch 2.5.  (Available on the web)\n",
    "\n"
   ]
  },
  {
   "cell_type": "markdown",
   "metadata": {},
   "source": [
    "The RMSE is given by $\\sqrt( \\frac {\\sum_{i=1}^{n}  (\\hat{y}_{i} - y_{i})^2} {n} )$"
   ]
  },
  {
   "cell_type": "code",
   "execution_count": 10,
   "metadata": {
    "autoscroll": "json-false",
    "collapsed": false,
    "ein.tags": [
     "worksheet-0"
    ],
    "slideshow": {
     "slide_type": "-"
    }
   },
   "outputs": [],
   "source": [
    "\"\"\"\n",
    "Function\n",
    "--------\n",
    "compute_rmse\n",
    "\n",
    "Given two arrays, one of actual values and one of predicted values,\n",
    "compute the Roote Mean Squared Error\n",
    "\n",
    "Parameters\n",
    "----------\n",
    "predictions : array\n",
    "    Array of numerical values corresponding to predictions for each of the N observations\n",
    "\n",
    "yvalues : array\n",
    "    Array of numerical values corresponding to the actual values for each of the N observations\n",
    "\n",
    "Returns\n",
    "-------\n",
    "rmse : int\n",
    "    Root Mean Squared Error of the prediction\n",
    "\n",
    "Example\n",
    "-------\n",
    ">>> print compute_rmse((2,2,3),(0,2,6)\n",
    "2.08\n",
    "\"\"\"\n",
    "def compute_rmse(predictions,yvalues):\n",
    "    #translate the formula above into python\n",
    "    rmse = np.sqrt(((predictions-yvalues) ** 2).mean())\n",
    "    \n",
    "    #return the calculated value\n",
    "    return rmse"
   ]
  },
  {
   "cell_type": "code",
   "execution_count": 11,
   "metadata": {
    "collapsed": false
   },
   "outputs": [
    {
     "data": {
      "text/plain": [
       "2.0816659994661326"
      ]
     },
     "execution_count": 11,
     "metadata": {},
     "output_type": "execute_result"
    }
   ],
   "source": [
    "#testing the function with random sample data\n",
    "d = np.array([2, 2, 3])\n",
    "p = np.array([0, 2, 6])\n",
    "\n",
    "compute_rmse(d,p)"
   ]
  },
  {
   "cell_type": "markdown",
   "metadata": {
    "ein.tags": [
     "worksheet-0"
    ],
    "slideshow": {
     "slide_type": "-"
    }
   },
   "source": [
    "### 2.2 Divide your data into training and testing datasets\n",
    "\n",
    "\n",
    "Randomly select 66% of the data and put this in a training dataset\n",
    "(call this \"bdata_train\"), and place the remaining 34% in a testing\n",
    "dataset (call this \"bdata_test\").  Please us 'np.random' for random numbers.\n"
   ]
  },
  {
   "cell_type": "code",
   "execution_count": 157,
   "metadata": {
    "autoscroll": "json-false",
    "collapsed": false,
    "ein.tags": [
     "worksheet-0"
    ],
    "slideshow": {
     "slide_type": "-"
    }
   },
   "outputs": [],
   "source": [
    "# leave the following line untouched, it will help ensure that your \"random\" split is the same \"random\" split used by the rest of the class\n",
    "np.random.seed(seed=13579)\n",
    "\n",
    "#generate indexes\n",
    "indexes = np.random.choice(506,int(bdata.data.shape[0]*0.66),replace=False)\n",
    "\n",
    "#create train with the random sample graph\n",
    "bdata_train = data.ix[indexes,].reset_index()\n",
    "\n",
    "#select rows not in index\n",
    "bdata_test = data.ix[~data.index.isin(indexes),].reset_index()"
   ]
  },
  {
   "cell_type": "markdown",
   "metadata": {
    "ein.tags": [
     "worksheet-0"
    ],
    "slideshow": {
     "slide_type": "-"
    }
   },
   "source": [
    "### 2.3 Use a trivial baseline model for prediction, and compute RMSE\n",
    "Create a model that predicts, for every observation x_i, that the median home value is the average (mean) of the median values for all instances in the training set.  Compute the RMSE on the training set.  Now compute the RMSE on the test data set (but use the model you trained on the training set!).  How does RMSE compare for training vs. testing datasets? Is this what you expected, and why?"
   ]
  },
  {
   "cell_type": "code",
   "execution_count": 159,
   "metadata": {
    "autoscroll": "json-false",
    "collapsed": false,
    "ein.tags": [
     "worksheet-0"
    ],
    "slideshow": {
     "slide_type": "-"
    }
   },
   "outputs": [
    {
     "name": "stdout",
     "output_type": "stream",
     "text": [
      "The baseline model results 22.056756756757\n",
      "The RMSE for training dataset is 8.584967883776\n",
      "The RMSE for test dataset is 10.281671624777\n"
     ]
    }
   ],
   "source": [
    "#compute the mean value\n",
    "baseline_train = bdata_train.MEDV.mean()\n",
    "\n",
    "print(\"The baseline model results %.12f\" % baseline_train)\n",
    "\n",
    "#retrieve the RMSE value for the training model against baseline mean model\n",
    "print(\"The RMSE for training dataset is %.12f\" % compute_rmse(baseline_train,bdata_train.MEDV))\n",
    "\n",
    "#retrieve the RMSE value for the test model against baseline mean model\n",
    "print(\"The RMSE for test dataset is %.12f\" % compute_rmse(baseline_train,bdata_test.MEDV))"
   ]
  },
  {
   "cell_type": "markdown",
   "metadata": {},
   "source": [
    "- We sampled the data randomly, hence the RMSE value is for training and test dataset is somewhat close. The metric RMSE value is dependent on the study. Since our target variable is measured as a unit equivalent to 1000\\$, the RMSE value of \\$8.45k and \\$9.95k is unacceptable in predicting the median value of the houses in Boston.\n",
    "\n",
    "- The RMSE values was expected to be large because this is our baseline model which is simply based on the average of the median value. The baseline model was expected to perform terribly bad and hence such huge RMSE values.\n",
    "\n",
    "- A reason for such difference could be because we are considering the mean of the train data."
   ]
  },
  {
   "cell_type": "markdown",
   "metadata": {
    "ein.tags": [
     "worksheet-0"
    ],
    "slideshow": {
     "slide_type": "-"
    }
   },
   "source": [
    "## Part 3: Nearest Neighbors\n"
   ]
  },
  {
   "cell_type": "markdown",
   "metadata": {
    "ein.tags": [
     "worksheet-0"
    ],
    "slideshow": {
     "slide_type": "-"
    }
   },
   "source": [
    "### 3.1 Nearest Neighbors: Distance function\n",
    "Let's try and build a machine learning algorithm to beat the \"Average\n",
    "Value\" baseline that you computed above.  Soon you will implement the\n",
    "Nearest Neighbor algorithm, but first you need to create a distance\n",
    "metric to measure the distance (and similarity) between two instances.\n",
    "Write a generic function to compute the Lp-Norm distance. Verify that\n",
    "your function works by computing the L-2 (Euclidean) distance and L-1 (Manhattan) distance between the points (3,4) and (6,8), and between (6,8) and (3,4).  Ensure that your distance is correct and positive in both cases!\n"
   ]
  },
  {
   "cell_type": "code",
   "execution_count": 14,
   "metadata": {
    "autoscroll": "json-false",
    "collapsed": false,
    "ein.tags": [
     "worksheet-0"
    ],
    "slideshow": {
     "slide_type": "-"
    }
   },
   "outputs": [],
   "source": [
    "def distance(x1,x2,ln):\n",
    "    \"\"\"\n",
    "    Function\n",
    "    --------\n",
    "    distance\n",
    "\n",
    "    Given two instances and a value for L, return the L-Norm distance between them\n",
    "\n",
    "    Parameters\n",
    "    ----------\n",
    "    x1, x2 : array\n",
    "        Array of numerical values corresponding to predictions for each of the N observations\n",
    "\n",
    "    L: int\n",
    "        Value of L to use in computing distances\n",
    "\n",
    "    Returns\n",
    "    -------\n",
    "    dist : int\n",
    "        The L-norm distance between instances\n",
    "\n",
    "    Example\n",
    "    -------\n",
    "    >>> print distance((3,4),(5,9),1)\n",
    "    7\n",
    "\n",
    "    \"\"\"\n",
    "    if ln == 1:\n",
    "        #print(\"Calculating L-1 norm distance...\")\n",
    "        d = sum(abs(x1-x2))\n",
    "        return d\n",
    "    elif ln == 2:\n",
    "        #print(\"Calculating L-2 norm distance...\")\n",
    "        d = np.sqrt( sum((x1-x2)**2) )\n",
    "        return d\n",
    "        "
   ]
  },
  {
   "cell_type": "code",
   "execution_count": 15,
   "metadata": {
    "collapsed": false
   },
   "outputs": [
    {
     "name": "stdout",
     "output_type": "stream",
     "text": [
      "The distance L-1 is  7\n",
      "The distance L-2 is  5.0\n"
     ]
    }
   ],
   "source": [
    "print(\"The distance L-1 is \" ,distance(np.array([3,4]),np.array([6,8]),1))\n",
    "print(\"The distance L-2 is \" ,distance(np.array([3,4]),np.array([6,8]),2))"
   ]
  },
  {
   "cell_type": "markdown",
   "metadata": {
    "ein.tags": [
     "worksheet-0"
    ],
    "slideshow": {
     "slide_type": "-"
    }
   },
   "source": [
    "### 3.2 Basic Nearest Neighbor algorithm\n",
    "\n",
    "Now things get fun.  Your task is to implement a basic nearest neighbor algorithm from scratch.  Your simple model will use two input features (CRIM and RM) and a single output (MEDV).  In other words, you are modelling the relationship between median home value and crime rates and house size.\n",
    "\n",
    "Use your training data (bdata_train) to \"fit\" your model, although as\n",
    "you know, with Nearest Neighbors there is no real training, you just\n",
    "need to keep your training data in memory.  Write a function that\n",
    "predicts, for each instance in the testing data (bdata_test), the\n",
    "median home value using the nearest neighbor algorithm we discussed in\n",
    "class.  Since this is a small dataset, you can simply compare your\n",
    "test instance to every instance in the training set, and return the\n",
    "MEDV value of the closest training instance.  You can just loop over\n",
    "the instances to find the nearest neighbor.  Have your function take L as an input, where L is passed to the distance function.\n",
    "\n",
    "Compute the RMSE for the Nearest Neighbor predictions on the test set, using the Euclidean distance.  Report an estimate of the total time taken by your code to predict the nearest neighbors for all the values in the test data set.\n",
    "\n",
    "Plot the true vs predicted price for your test data\n"
   ]
  },
  {
   "cell_type": "code",
   "execution_count": 16,
   "metadata": {
    "autoscroll": "json-false",
    "collapsed": false,
    "ein.tags": [
     "worksheet-0"
    ],
    "slideshow": {
     "slide_type": "-"
    }
   },
   "outputs": [],
   "source": [
    "def bnn(train_data,test_data,predictors,target,l,k=1):  \n",
    "    \"\"\"\n",
    "    function\n",
    "    --------\n",
    "    bnn is a function that predicts the median value of the house using the Basic Nearest Neighbor (i.e only one neighbour)\n",
    "    \n",
    "    inputs\n",
    "    ------\n",
    "    train_data : training data\n",
    "    test_data  : test data\n",
    "    predictors : list of the predictors that will be used in building model\n",
    "    k          : number of neighbor, here k=1 \n",
    "    l          : L norm distance parameter\n",
    "    \n",
    "    output\n",
    "    ------\n",
    "    predicted : predicted median value of the house\n",
    "    \n",
    "    \"\"\"\n",
    "    #create an empty list\n",
    "    predicted = []\n",
    "    \n",
    "    #convert the df to matrix for faster execution\n",
    "    train_data = (train_data.ix[:,predictors+target]).as_matrix()\n",
    "    test_data = (test_data.ix[:,predictors]).as_matrix()\n",
    "    \n",
    "    #run through every instance in test data\n",
    "    for i in range(0,test_data.shape[0]):\n",
    "        #prepare a list that stores index for the smallest distance and the distance itself\n",
    "        distances = [[x,distance(train_data[x,:(train_data.shape[1]-1)],test_data[i,:],l)] for x in range(0,train_data.shape[0])]\n",
    "        \n",
    "        #extract the index by sorting the list on the basis on the distances in ascending order\n",
    "        nearest = (sorted(distances, key = lambda x:x[1]))[0]\n",
    "        \n",
    "        #extract the associated target value and append it in the final list of predicted values\n",
    "        predicted.append(train_data[nearest[0],train_data.shape[1]-1])\n",
    "    \n",
    "    #return predicted values\n",
    "    return predicted\n"
   ]
  },
  {
   "cell_type": "code",
   "execution_count": 17,
   "metadata": {
    "collapsed": false
   },
   "outputs": [
    {
     "name": "stdout",
     "output_type": "stream",
     "text": [
      "The RMSE is 7.45009989\n"
     ]
    }
   ],
   "source": [
    "#calculate the median value with features - 'CRIM','RM' and 'MEDV' as target, L-2 norm = Eucledian distance\n",
    "pred_values =bnn(bdata_train,bdata_test,['CRIM','RM'],['MEDV'],2)\n",
    "\n",
    "#print the RMSE value\n",
    "print('The RMSE is %.8f'%compute_rmse(pred_values,bdata_test.MEDV))"
   ]
  },
  {
   "cell_type": "markdown",
   "metadata": {},
   "source": [
    "- Estimating the runtime of the algorithm"
   ]
  },
  {
   "cell_type": "code",
   "execution_count": 155,
   "metadata": {
    "collapsed": false,
    "scrolled": true
   },
   "outputs": [
    {
     "name": "stdout",
     "output_type": "stream",
     "text": [
      "10 loops, best of 3: 795 ms per loop\n"
     ]
    }
   ],
   "source": [
    "#time the execution with 10 loops and best of 3\n",
    "%timeit -n 10 -r 3 pred_values =bnn(bdata_train,bdata_test,['CRIM','RM'],['MEDV'],2)"
   ]
  },
  {
   "cell_type": "code",
   "execution_count": 21,
   "metadata": {
    "collapsed": false
   },
   "outputs": [
    {
     "data": {
      "text/plain": [
       "<matplotlib.legend.Legend at 0x21c30738400>"
      ]
     },
     "execution_count": 21,
     "metadata": {},
     "output_type": "execute_result"
    },
    {
     "data": {
      "image/png": "[encoded data removed]",
      "text/plain": [
       "<matplotlib.figure.Figure at 0x21c31aef320>"
      ]
     },
     "metadata": {},
     "output_type": "display_data"
    }
   ],
   "source": [
    "#plot the predicted vs actual prices\n",
    "\n",
    "#set figure size\n",
    "plt.figure(figsize=(10,5))\n",
    "\n",
    "#set title\n",
    "plt.title('Predicted prices vs Actual prices', fontsize = 16)\n",
    "\n",
    "#set labels\n",
    "plt.xlabel('Predicted values (in $1000s)',fontsize = 12)\n",
    "plt.ylabel('Actual Values (in $1000s)',fontsize = 12)\n",
    "\n",
    "#create a scatter plot\n",
    "plt.scatter(pred_values,bdata_test.MEDV, color = 'purple', alpha = 0.3,label='instances')\n",
    "\n",
    "#plot legend\n",
    "plt.legend(loc='best')"
   ]
  },
  {
   "cell_type": "markdown",
   "metadata": {
    "ein.tags": [
     "worksheet-0"
    ],
    "slideshow": {
     "slide_type": "-"
    }
   },
   "source": [
    "### 3.3 Results and Normalization\n",
    "\n",
    "If you were being astute, you would have noticed that we never normalized our features -- a big no-no with Nearest Neighbor algorithms.  Normalization is similar to Mahalanobis disctance (if the features are independent).  Read more in Daume (2017), _A Course in Machine Learning_ Chapter 4.3.  Write a simple generic normalization function that takes as input an array of values for a given feature, and returns the normalized array.  Do it well, you will need it in the future as well ;-)\n",
    "\n",
    "Re-run the Nearest Neighbor algorithm on the normalized dataset (still just using CRIM and RM as input), and compare the RMSE from this method with your previous RMSE evaluations.\n",
    "\n",
    "*NOTE*: To normalize properly, best practice is to compute the mean and standard deviation on the training set, and use these values to normalize the testing dataset. However, for this problem set, it is okay if you separately normalize each dataset using the respective mean and standard deviation."
   ]
  },
  {
   "cell_type": "code",
   "execution_count": 22,
   "metadata": {
    "autoscroll": "json-false",
    "collapsed": false,
    "ein.tags": [
     "worksheet-0"
    ],
    "slideshow": {
     "slide_type": "-"
    }
   },
   "outputs": [],
   "source": [
    "def normalize_feature(data_array):\n",
    "    \"\"\"\n",
    "    function\n",
    "    --------\n",
    "    perform normalization on the basis of mean and standard deviation\n",
    "    \n",
    "    Input\n",
    "    -----\n",
    "    data_array: array of data to be normalized\n",
    "    \n",
    "    Output\n",
    "    ------\n",
    "    normalized dataset\n",
    "    \"\"\"\n",
    "    #compute mean\n",
    "    m = data_array.mean()\n",
    "    \n",
    "    #compute standard deviation\n",
    "    s = data_array.std()\n",
    "    \n",
    "    #normalize the array\n",
    "    norm_data_array = (data_array - m )/s\n",
    "    \n",
    "    #return normalized array\n",
    "    return norm_data_array\n",
    "    "
   ]
  },
  {
   "cell_type": "code",
   "execution_count": 23,
   "metadata": {
    "collapsed": false
   },
   "outputs": [
    {
     "name": "stdout",
     "output_type": "stream",
     "text": [
      "----NORMALIZED TRAIN DATA----\n",
      "       CRIM        ZN     INDUS      CHAS       NOX        RM       AGE  \\\n",
      "0  2.314858 -0.499800  1.040405 -0.231594  1.664086 -0.594180  0.876706   \n",
      "1 -0.414450 -0.499800 -0.058397 -0.231594 -0.524360 -0.080033 -0.853758   \n",
      "2 -0.412056 -0.499800 -0.058397  4.304929 -0.524360 -0.609718 -0.459212   \n",
      "3 -0.433354  2.880846 -1.385446 -0.231594 -1.265467  1.226524 -1.054492   \n",
      "4 -0.256417 -0.499800  1.256946 -0.231594  0.487034  1.766096  0.821331   \n",
      "\n",
      "        DIS       RAD       TAX   PTRATIO         B     LSTAT  MEDV  \n",
      "0 -0.941888  1.738266  1.574267  0.812968  0.393392  1.266359  10.5  \n",
      "1  0.018084 -0.606175 -0.772459  0.067316  0.416113 -0.469570  25.0  \n",
      "2 -0.117102 -0.606175 -0.772459  0.067316  0.388076  0.431355  22.4  \n",
      "3  1.571067 -0.840620 -0.458758 -2.728879  0.006292 -0.587679  30.3  \n",
      "4 -0.893548 -0.488953 -0.012337 -1.750211  0.215997 -1.532552  50.0   \n",
      "\n",
      "\n",
      "----NORMALIZED TEST DATA----\n",
      "       CRIM        ZN     INDUS      CHAS       NOX        RM       AGE  \\\n",
      "0 -0.384301 -0.461459 -1.335319 -0.339791 -0.912217  0.911467 -0.968974   \n",
      "1 -0.380502 -0.461459 -1.335319 -0.339791 -0.912217  1.128805 -0.651953   \n",
      "2 -0.370042  0.089413 -0.513116 -0.339791 -0.351567 -0.538425  0.544425   \n",
      "3 -0.364360  0.089413 -0.513116 -0.339791 -0.351567  0.005649  0.861446   \n",
      "4 -0.375487  0.089413 -0.513116 -0.339791 -0.351567 -0.531132  0.431203   \n",
      "\n",
      "        DIS       RAD       TAX   PTRATIO         B     LSTAT  MEDV  \n",
      "0  1.257437 -0.807024 -1.105159  0.110755  0.395307 -1.349530  33.4  \n",
      "1  1.257437 -0.807024 -1.105159  0.110755  0.423138 -1.001167  36.2  \n",
      "2  1.525985 -0.585237 -0.593888 -1.474634  0.298208  0.714411  18.9  \n",
      "3  1.401619 -0.585237 -0.593888 -1.474634  0.369439  1.202702  15.0  \n",
      "4  1.340804 -0.585237 -0.593888 -1.474634  0.423138  0.156155  18.9  \n"
     ]
    }
   ],
   "source": [
    "#create an empty zero arrays\n",
    "norm_bdata_train = np.zeros((bdata_train.shape[0],bdata_train.shape[1]))\n",
    "norm_bdata_test = np.zeros((bdata_test.shape[0],bdata_test.shape[1]))\n",
    "\n",
    "#normalize train-dataset\n",
    "for i in range(1,bdata_train.shape[1]-1):\n",
    "    norm_bdata_train[:,i] = normalize_feature(bdata_train.ix[:,i])\n",
    "\n",
    "#normalize test-dataset\n",
    "for i in range(1,bdata_test.shape[1]-1):\n",
    "    norm_bdata_test[:,i] = normalize_feature(bdata_test.ix[:,i])\n",
    "\n",
    "#append the median values\n",
    "norm_bdata_train[:,norm_bdata_train.shape[1]-1] = bdata_train.MEDV\n",
    "norm_bdata_test[:,norm_bdata_test.shape[1]-1] = bdata_test.MEDV\n",
    "\n",
    "#convert back to dataframes, as normalized dataframes\n",
    "norm_bdata_train = pd.DataFrame(norm_bdata_train[:,1:], columns = bdata_train.columns[1:])\n",
    "norm_bdata_test = pd.DataFrame(norm_bdata_test[:,1:], columns = bdata_test.columns[1:])\n",
    "\n",
    "#validation check\n",
    "print('----NORMALIZED TRAIN DATA----')\n",
    "print(norm_bdata_train.head(),'\\n\\n')\n",
    "print('----NORMALIZED TEST DATA----')\n",
    "print(norm_bdata_test.head())"
   ]
  },
  {
   "cell_type": "markdown",
   "metadata": {},
   "source": [
    "- Re-running the Basic Nearest Neighbour with feature CRIM and RM, using Eucledian distance"
   ]
  },
  {
   "cell_type": "code",
   "execution_count": 24,
   "metadata": {
    "collapsed": false
   },
   "outputs": [
    {
     "name": "stdout",
     "output_type": "stream",
     "text": [
      "The RMSE is 7.74269001\n"
     ]
    }
   ],
   "source": [
    "#calculate the median value with features - 'CRIM','RM' and 'MEDV' as target, L-2 norm = Eucledian distance\n",
    "pred_values =bnn(norm_bdata_train,norm_bdata_test,['CRIM','RM'],['MEDV'],l=2)\n",
    "\n",
    "#print the RMSE value\n",
    "print('The RMSE is %.8f'%compute_rmse(pred_values,norm_bdata_test.MEDV))"
   ]
  },
  {
   "cell_type": "markdown",
   "metadata": {
    "ein.tags": [
     "worksheet-0"
    ],
    "slideshow": {
     "slide_type": "-"
    }
   },
   "source": [
    "### 3.4 Optimization\n",
    "\n",
    "\n",
    "A lot of the decisions we've made so far have been arbitrary.  Try to increase the performance of your nearest neighbor algorithm by adding features that you think might be relevant, and by using different values of L in the distance function.  Try a model that uses a different set of 2 features, then try at least one model that uses more than 4 features, then try using a different value of L.  If you're having fun, try a few different combinations of features and L!  \n",
    "\n",
    "What combination of features and distance function provide the lowest RMSE?  Compre RMSEs with the corresponding true-predicted plots.\n",
    "\n",
    "Do your decisions affect the running time of the algorithm?"
   ]
  },
  {
   "cell_type": "code",
   "execution_count": 25,
   "metadata": {
    "autoscroll": "json-false",
    "collapsed": false,
    "ein.tags": [
     "worksheet-0"
    ],
    "slideshow": {
     "slide_type": "-"
    }
   },
   "outputs": [
    {
     "data": {
      "text/plain": [
       "'\\n6 - AGE      proportion of owner-occupied units built prior to 1940\\n11 - B        1000(Bk - 0.63)^2 where Bk is the proportion of blacks by town\\n9 - TAX      full-value property-tax rate per $10,000\\n3 - CHAS     Charles River dummy variable (= 1 if tract bounds river; 0 otherwise)\\n5 - NOX      nitric oxides concentration (parts per 10 million)\\n'"
      ]
     },
     "execution_count": 25,
     "metadata": {},
     "output_type": "execute_result"
    }
   ],
   "source": [
    "'''\n",
    "6 - AGE      proportion of owner-occupied units built prior to 1940\n",
    "11 - B        1000(Bk - 0.63)^2 where Bk is the proportion of blacks by town\n",
    "9 - TAX      full-value property-tax rate per $10,000\n",
    "3 - CHAS     Charles River dummy variable (= 1 if tract bounds river; 0 otherwise)\n",
    "5 - NOX      nitric oxides concentration (parts per 10 million)\n",
    "'''"
   ]
  },
  {
   "cell_type": "code",
   "execution_count": 40,
   "metadata": {
    "collapsed": false
   },
   "outputs": [
    {
     "name": "stdout",
     "output_type": "stream",
     "text": [
      "10 loops, best of 3: 3 s per loop\n",
      "The RMSE is 7.70750329\n"
     ]
    }
   ],
   "source": [
    "#calculate the median value with features - 'CRIM','RM','AGE' and 'MEDV' as target, L-2 norm = Eucledian distance\n",
    "%timeit -n 10 pred_values_age =bnn(norm_bdata_train,norm_bdata_test,['CRIM','RM','AGE'],['MEDV'],l=2)\n",
    "\n",
    "rmse_values_age = compute_rmse(pred_values_age,norm_bdata_test.MEDV)\n",
    "#print the RMSE value\n",
    "print('The RMSE is %.8f'%rmse_values_age)"
   ]
  },
  {
   "cell_type": "code",
   "execution_count": 41,
   "metadata": {
    "collapsed": false
   },
   "outputs": [
    {
     "name": "stdout",
     "output_type": "stream",
     "text": [
      "10 loops, best of 3: 2.93 s per loop\n",
      "The RMSE is 6.79957071\n"
     ]
    }
   ],
   "source": [
    "#calculate the median value with features - 'CRIM','RM','AGE','CHAS' and 'MEDV' as target, L-2 norm = Eucledian distance\n",
    "%timeit -n 10 pred_values_age_chas =bnn(norm_bdata_train,norm_bdata_test,['CRIM','RM','AGE','CHAS'],['MEDV'],l=2)\n",
    "\n",
    "rmse_values_age_chas = compute_rmse(pred_values_age_chas,norm_bdata_test.MEDV)\n",
    "#print the RMSE value\n",
    "print('The RMSE is %.8f'%rmse_values_age_chas)"
   ]
  },
  {
   "cell_type": "code",
   "execution_count": 42,
   "metadata": {
    "collapsed": false
   },
   "outputs": [
    {
     "name": "stdout",
     "output_type": "stream",
     "text": [
      "10 loops, best of 3: 1.81 s per loop\n",
      "The RMSE is 7.76538934\n"
     ]
    }
   ],
   "source": [
    "#calculate the median value with features - 'CRIM','RM','AGE','NOX' and 'MEDV' as target, L-2 norm = Eucledian distance\n",
    "%timeit -n 10 pred_values_age_nox =bnn(norm_bdata_train,norm_bdata_test,['CRIM','RM','AGE','NOX'],['MEDV'],l=1)\n",
    "\n",
    "rmse_values_age_nox= compute_rmse(pred_values_age_nox,norm_bdata_test.MEDV)\n",
    "\n",
    "#print the RMSE value\n",
    "print('The RMSE is %.8f'%rmse_values_age_nox)"
   ]
  },
  {
   "cell_type": "code",
   "execution_count": 43,
   "metadata": {
    "collapsed": false
   },
   "outputs": [
    {
     "name": "stdout",
     "output_type": "stream",
     "text": [
      "10 loops, best of 3: 1.68 s per loop\n",
      "The RMSE is 6.94676704\n"
     ]
    }
   ],
   "source": [
    "#calculate the median value with features - 'CRIM','RM','CHAS' and 'MEDV' as target, L-1 norm = Manhattan distance\n",
    "%timeit -n 10 pred_values_chas =bnn(norm_bdata_train,norm_bdata_test,['CRIM','RM','CHAS'],['MEDV'],l=1)\n",
    "\n",
    "rmse_values_chas = compute_rmse(pred_values_chas,norm_bdata_test.MEDV)\n",
    "\n",
    "#print the RMSE value\n",
    "print('The RMSE is %.8f'%rmse_values_chas)"
   ]
  },
  {
   "cell_type": "code",
   "execution_count": 44,
   "metadata": {
    "collapsed": false
   },
   "outputs": [
    {
     "name": "stdout",
     "output_type": "stream",
     "text": [
      "10 loops, best of 3: 1.68 s per loop\n",
      "The RMSE is 7.69738714\n"
     ]
    }
   ],
   "source": [
    "#calculate the median value with features - 'CRIM','RM','TAX','AGE' and 'MEDV' as target, L-1 norm = Manhattan distance\n",
    "%timeit -n 10 pred_values_tax_age =bnn(norm_bdata_train,norm_bdata_test,['CRIM','RM','TAX','AGE'],['MEDV'],l=1)\n",
    "\n",
    "rmse_values_tax_age = compute_rmse(pred_values_tax_age,norm_bdata_test.MEDV)\n",
    "#print the RMSE value\n",
    "print('The RMSE is %.8f'%rmse_values_tax_age)"
   ]
  },
  {
   "cell_type": "code",
   "execution_count": 163,
   "metadata": {
    "collapsed": false
   },
   "outputs": [
    {
     "data": {
      "image/png": "[encoded data removed]",
      "text/plain": [
       "<matplotlib.figure.Figure at 0x21c32d08978>"
      ]
     },
     "metadata": {},
     "output_type": "display_data"
    }
   ],
   "source": [
    "#true vs predicted plots\n",
    "plt_fig = plt.figure(figsize=(16,9))\n",
    "\n",
    "#create subplot that plots predicted values vs true values for combinations\n",
    "ax = plt_fig.add_subplot(121)\n",
    "\n",
    "#plot every combination\n",
    "ax.scatter(pred_values, bdata_test.MEDV, c='#00FF00',alpha = 0.4, marker=\"o\", label='C1')\n",
    "ax.scatter(pred_values_age,bdata_test.MEDV, c='#FF0000',alpha = 0.4, marker=\"o\", label='C2')\n",
    "ax.scatter(pred_values_age_chas,bdata_test.MEDV, c='#0000FF',alpha = 0.4, marker=\"o\", label='C3')\n",
    "ax.scatter(pred_values_age_nox,bdata_test.MEDV, c='#3574B2',alpha = 0.4, marker=\"o\", label='C4')\n",
    "ax.scatter(pred_values_chas,bdata_test.MEDV, c='#FDE74C',alpha = 0.4, marker=\"o\", label='C5')\n",
    "ax.scatter(pred_values_tax_age,bdata_test.MEDV, c='#404E4D',alpha = 0.4, marker=\"o\", label='C6')\n",
    "\n",
    "#set title\n",
    "plt.title('Predicted prices vs Actual prices', fontsize = 16)\n",
    "\n",
    "#set labels\n",
    "plt.xlabel('Predicted values (in $1000s)',fontsize = 12)\n",
    "plt.ylabel('Actual Values (in $1000s)',fontsize = 12)\n",
    "\n",
    "plt.legend(loc='lower right');\n",
    "\n",
    "rmse_values = [rmse_values_age,rmse_values_age_chas,rmse_values_age_nox,rmse_values_chas,rmse_values_tax_age]\n",
    "\n",
    "#subplot 2. for RMSE comparison\n",
    "ax2 = plt_fig.add_subplot(122)\n",
    "\n",
    "#set title\n",
    "plt.title('RMSE plot',fontsize = 16)\n",
    "\n",
    "#set labels\n",
    "plt.xlabel('Combination number',fontsize = 12)\n",
    "plt.ylabel('RMSE value',fontsize = 12)\n",
    "ax2.plot([1,2,3,4,5],rmse_values)#, width = 0.3)\n",
    "ax2.set_xticks([1,2,3,4,5])\n",
    "\n",
    "#show grid\n",
    "plt.grid()\n"
   ]
  },
  {
   "cell_type": "markdown",
   "metadata": {},
   "source": [
    "- We can see that for the combination of CRIM, RM, AGE and CHAS features we obtain the least RMSE = 6.79957071\n",
    "- For some combinations when we add features that has more number of possible values such as age, the algorithm tends to run slow. Again, the run-time sporadically changes. It is not constant across runs. "
   ]
  },
  {
   "cell_type": "markdown",
   "metadata": {
    "ein.tags": [
     "worksheet-0"
    ],
    "slideshow": {
     "slide_type": "-"
    }
   },
   "source": [
    "### 3.5 Cross-Validation\n",
    "\n",
    "The more you tinkered with your features and distance function, the higher the risk that you overfit your training data.  To prevent this sort of overfitting, you need to use cross-validation (see Daume (2017) _A Course in Machine Learning_, Ch 4.6).  Here you must implement a simple k-fold cross-validation algorithm yourself.  Essentially you have to partition your dataset into 10 equally-sized samples, and for each of 10 iterations (the \"folds\"), use 9 samples as \"training data\" (even though there is no training in k-NN!), and the remaining 1 sample for testing.  The function you write here will be used several more times in this problem set, so do your best to write efficient code! (Note that the sklearn package has a built-in K-fold iterator -- do *not* use that here.)\n",
    "\n",
    "Use Euclidean distance with CRIM and RM (0 and 5) as features.  Compute the RMSE of that particular test set, then move on to the next iteration.  Report the average RMSE across the 10 iterations, and the total running time for all 10 iterations.  Compare the k-fold RMSE with the training-testing split RMSE above for the same hyperparameter values."
   ]
  },
  {
   "cell_type": "code",
   "execution_count": 49,
   "metadata": {
    "autoscroll": "json-false",
    "collapsed": false,
    "ein.tags": [
     "worksheet-0"
    ],
    "slideshow": {
     "slide_type": "-"
    }
   },
   "outputs": [],
   "source": [
    "def perform_kfolds_validation (data,nfolds,neighbors,features,target,l,helper):\n",
    "    \"\"\"\n",
    "    function\n",
    "    --------\n",
    "    divides the dataset into nfolds folds and performs the nearest neighbor algorithm\n",
    "    \n",
    "    input\n",
    "    -----\n",
    "    data   : dataset\n",
    "    nfolds : number of folds\n",
    "    \n",
    "    output\n",
    "    ------\n",
    "    list of RMSE values for each iteration\n",
    "    \"\"\"\n",
    "    nrows = data.shape[0]\n",
    "    #determine the size of each fold\n",
    "    set_nrows = np.floor(nrows/nfolds)\n",
    "    #print('Each training set has %d' % set_nrows)\n",
    "    #print('Test set has %d' % (set_nrows+(nrows%nfolds)))\n",
    "    \n",
    "    #get all the indexes\n",
    "    indexes = np.array(data.index)\n",
    "    \n",
    "    #shuffle the order\n",
    "    np.random.shuffle(indexes)\n",
    "     \n",
    "    rmses = []\n",
    "    \n",
    "    #partition the dataset into nfolds -1 for training sets. Append each fold in the list\n",
    "    for i in range(0,nfolds):\n",
    "        #start index\n",
    "        start_ind = int(i*set_nrows)\n",
    "        #end index\n",
    "        end_ind = int(start_ind + set_nrows)\n",
    "        if helper:\n",
    "            print('--------------------------------------------------')\n",
    "            print(\"Iteration : \",i+1,\" ---START---\", start_ind ,\"---END---\",end_ind)\n",
    "        test_indexes = indexes[start_ind:end_ind]\n",
    "        test_data = data.ix[test_indexes,:]\n",
    "        train_data = data.ix[~data.index.isin(test_indexes),:]\n",
    "        if helper:\n",
    "            print(\"Train :\" , train_data.shape[0], \"Test :\", test_data.shape[0])\n",
    "        p_val = knn(train_data,test_data,features,target,l,neighbors)\n",
    "        rmse = compute_rmse(p_val,test_data.MEDV)\n",
    "        if helper:\n",
    "            print('RMSE :', rmse)\n",
    "        rmses.append(rmse)\n",
    "    #print(\"Partition : \",nfolds,\" ---START---\", end_ind+1 ,\"---END---\",indexes.shape[0])\n",
    "    #folds.append(data.ix[indexes[end_ind]:,:])\n",
    "    \n",
    "    return rmses\n",
    "    "
   ]
  },
  {
   "cell_type": "code",
   "execution_count": 50,
   "metadata": {
    "collapsed": false
   },
   "outputs": [
    {
     "name": "stdout",
     "output_type": "stream",
     "text": [
      "--------------------------------------------------\n",
      "Iteration :  1  ---START--- 0 ---END--- 50\n",
      "Train : 456 Test : 50\n",
      "RMSE : 7.86351066636\n",
      "--------------------------------------------------\n",
      "Iteration :  2  ---START--- 50 ---END--- 100\n",
      "Train : 456 Test : 50\n",
      "RMSE : 8.26442980489\n",
      "--------------------------------------------------\n",
      "Iteration :  3  ---START--- 100 ---END--- 150\n",
      "Train : 456 Test : 50\n",
      "RMSE : 9.61934509205\n",
      "--------------------------------------------------\n",
      "Iteration :  4  ---START--- 150 ---END--- 200\n",
      "Train : 456 Test : 50\n",
      "RMSE : 4.45102235447\n",
      "--------------------------------------------------\n",
      "Iteration :  5  ---START--- 200 ---END--- 250\n",
      "Train : 456 Test : 50\n",
      "RMSE : 7.07679305901\n",
      "--------------------------------------------------\n",
      "Iteration :  6  ---START--- 250 ---END--- 300\n",
      "Train : 456 Test : 50\n",
      "RMSE : 4.71332154643\n",
      "--------------------------------------------------\n",
      "Iteration :  7  ---START--- 300 ---END--- 350\n",
      "Train : 456 Test : 50\n",
      "RMSE : 6.91942194117\n",
      "--------------------------------------------------\n",
      "Iteration :  8  ---START--- 350 ---END--- 400\n",
      "Train : 456 Test : 50\n",
      "RMSE : 8.1451335164\n",
      "--------------------------------------------------\n",
      "Iteration :  9  ---START--- 400 ---END--- 450\n",
      "Train : 456 Test : 50\n",
      "RMSE : 6.25120788328\n",
      "--------------------------------------------------\n",
      "Iteration :  10  ---START--- 450 ---END--- 500\n",
      "Train : 456 Test : 50\n",
      "RMSE : 6.07238009351\n",
      "Average RMSE values 6.93765659576\n"
     ]
    }
   ],
   "source": [
    "#create kfolds\n",
    "rmses = perform_kfolds_validation(data,10,1,['CRIM','RM'],['MEDV'],2,True)\n",
    "\n",
    "print('Average RMSE values',np.mean(rmses))"
   ]
  },
  {
   "cell_type": "markdown",
   "metadata": {},
   "source": [
    "- Estimating run-time"
   ]
  },
  {
   "cell_type": "code",
   "execution_count": 164,
   "metadata": {
    "collapsed": false
   },
   "outputs": [
    {
     "name": "stdout",
     "output_type": "stream",
     "text": [
      "10 loops, best of 3: 2.86 s per loop\n"
     ]
    }
   ],
   "source": [
    "%timeit -n 10 rmses = perform_kfolds_validation(data,10,1,['CRIM','RM'],['MEDV'],2,False)"
   ]
  },
  {
   "cell_type": "markdown",
   "metadata": {
    "ein.tags": [
     "worksheet-0"
    ],
    "slideshow": {
     "slide_type": "-"
    }
   },
   "source": [
    "### 3.6 K-Nearest Neighbors Algorithm\n",
    "\n",
    "Implement the K-Nearest Neighbors algorithm.  Using 10-fold cross validation, report the RMSE for K=3 and the running time of the algorithm."
   ]
  },
  {
   "cell_type": "code",
   "execution_count": 51,
   "metadata": {
    "autoscroll": "json-false",
    "collapsed": false,
    "ein.tags": [
     "worksheet-0"
    ],
    "slideshow": {
     "slide_type": "-"
    }
   },
   "outputs": [],
   "source": [
    "def knn(train_data,test_data,predictors,target,l,k):  \n",
    "    \"\"\"\n",
    "    function\n",
    "    --------\n",
    "    bnn is a function that predicts the median value of the house using the Basic Nearest Neighbor (i.e only one neighbour)\n",
    "    \n",
    "    inputs\n",
    "    ------\n",
    "    train_data : training data\n",
    "    test_data  : test data\n",
    "    predictors : list of the predictors that will be used in building model\n",
    "    k          : number of neighbor\n",
    "    l          : L norm distance parameter\n",
    "    \n",
    "    output\n",
    "    ------\n",
    "    predicted : predicted median value of the house\n",
    "    \n",
    "    \"\"\"\n",
    "    #create an empty list\n",
    "    predicted = []\n",
    "    \n",
    "    #convert the df to matrix for faster execution\n",
    "    train_data = (train_data.ix[:,predictors+target]).as_matrix()\n",
    "    test_data = (test_data.ix[:,predictors]).as_matrix()\n",
    "    \n",
    "    #run through every instance in test data\n",
    "    for i in range(0,test_data.shape[0]):\n",
    "        #prepare a list that stores index for the smallest distance and the distance itself\n",
    "        distances = [[x,distance(train_data[x,:(train_data.shape[1]-1)],test_data[i,:],l)] for x in range(0,train_data.shape[0])]\n",
    "        \n",
    "        #extract the index by sorting the list on the basis on the distances in ascending order\n",
    "        nearest = (sorted(distances, key = lambda x:x[1]))\n",
    "        \n",
    "        kneighbours = []\n",
    "        for j in nearest[:k]:\n",
    "            #print('For i: ',i, 'j : ',train_data[j[0],train_data.shape[1]-1])\n",
    "            kneighbours.append(train_data[j[0],train_data.shape[1]-1])\n",
    "        \n",
    "        #extract the associated target value and append it in the final list of predicted values\n",
    "        predicted.append(np.mean(kneighbours))\n",
    "        \n",
    "    return predicted\n"
   ]
  },
  {
   "cell_type": "code",
   "execution_count": 52,
   "metadata": {
    "collapsed": false
   },
   "outputs": [
    {
     "name": "stdout",
     "output_type": "stream",
     "text": [
      "The RMSE is 6.70820345\n"
     ]
    }
   ],
   "source": [
    "#calculate the median value with features - 'CRIM','RM' and 'MEDV' as target, L-2 norm = Eucledian distance, k = 3\n",
    "pred_values = knn(bdata_train,bdata_test,['CRIM','RM'],['MEDV'],2,3)\n",
    "\n",
    "rmse = compute_rmse(pred_values, bdata_test.MEDV)\n",
    "\n",
    "print('The RMSE is %.8f'%rmse)"
   ]
  },
  {
   "cell_type": "markdown",
   "metadata": {},
   "source": [
    "- Estimating run-time for k-NN algorithm"
   ]
  },
  {
   "cell_type": "code",
   "execution_count": 165,
   "metadata": {
    "collapsed": false
   },
   "outputs": [
    {
     "name": "stdout",
     "output_type": "stream",
     "text": [
      "10 loops, best of 3: 720 ms per loop\n"
     ]
    }
   ],
   "source": [
    "%timeit -n 10 pred_values = knn(bdata_train,bdata_test,['CRIM','RM'],['MEDV'],2,3)"
   ]
  },
  {
   "cell_type": "markdown",
   "metadata": {
    "ein.tags": [
     "worksheet-0"
    ],
    "slideshow": {
     "slide_type": "-"
    }
   },
   "source": [
    "### 3.7 Using cross validation to find K\n",
    "\n",
    "What is the best choice of K?  Compute the RMSE for values of K between 1 and 25 using 10-fold cross-validation.  Use the following features in your model, and don't forget to normalize: CRIM, ZN, RM, AGE, DIS, TAX.  Create a graph that shows how RMSE changes as K increases from 1 to 25.  Label your axes, and summarize what you see.  What do you think is a reasonable choice of K for this model?"
   ]
  },
  {
   "cell_type": "code",
   "execution_count": 54,
   "metadata": {
    "autoscroll": "json-false",
    "collapsed": false,
    "ein.tags": [
     "worksheet-0"
    ],
    "slideshow": {
     "slide_type": "-"
    }
   },
   "outputs": [],
   "source": [
    "'''\n",
    "CRIM - 0\n",
    "ZN - 1\n",
    "RM - 5\n",
    "AGE - 6\n",
    "DIS - 7\n",
    "TAX - 9\n",
    "'''\n",
    "#merge normalized datasets\n",
    "norm_data = pd.concat([norm_bdata_train,norm_bdata_test],axis=0).reset_index()"
   ]
  },
  {
   "cell_type": "code",
   "execution_count": 56,
   "metadata": {
    "collapsed": false
   },
   "outputs": [
    {
     "name": "stdout",
     "output_type": "stream",
     "text": [
      "Neighbors :  1 RMSE :  6.05082374843\n",
      "Neighbors :  2 RMSE :  5.14327269927\n",
      "Neighbors :  3 RMSE :  5.01501462332\n",
      "Neighbors :  4 RMSE :  4.94344121851\n",
      "Neighbors :  5 RMSE :  5.19738100352\n",
      "Neighbors :  6 RMSE :  5.2137125247\n",
      "Neighbors :  7 RMSE :  5.17469209064\n",
      "Neighbors :  8 RMSE :  5.20396830857\n",
      "Neighbors :  9 RMSE :  5.1978583001\n",
      "Neighbors :  10 RMSE :  5.21898624701\n",
      "Neighbors :  11 RMSE :  5.22984270228\n",
      "Neighbors :  12 RMSE :  5.3046929506\n",
      "Neighbors :  13 RMSE :  4.99513177378\n",
      "Neighbors :  14 RMSE :  5.37626442385\n",
      "Neighbors :  15 RMSE :  5.20880280599\n",
      "Neighbors :  16 RMSE :  5.23517085478\n",
      "Neighbors :  17 RMSE :  5.3548514043\n",
      "Neighbors :  18 RMSE :  5.30833677274\n",
      "Neighbors :  19 RMSE :  5.23554071146\n",
      "Neighbors :  20 RMSE :  5.35333129482\n",
      "Neighbors :  21 RMSE :  5.35745902022\n",
      "Neighbors :  22 RMSE :  5.37828410244\n",
      "Neighbors :  23 RMSE :  5.37927541541\n",
      "Neighbors :  24 RMSE :  5.34007547059\n",
      "Neighbors :  25 RMSE :  5.33106871322\n"
     ]
    }
   ],
   "source": [
    "rmses = []\n",
    "for k in range(1,26):\n",
    "    #use normalized data 10-folds and k neighors. Features\n",
    "    r = perform_kfolds_validation(data = norm_data,nfolds = 10,neighbors = k, features = ['CRIM','RM','ZN','AGE','DIS','TAX'],\n",
    "                              target = ['MEDV'],l = 2,helper = False)\n",
    "    r = np.mean(r)\n",
    "    print('Neighbors : ', k ,'RMSE : ',r)\n",
    "    rmses.append(r)"
   ]
  },
  {
   "cell_type": "code",
   "execution_count": 62,
   "metadata": {
    "collapsed": false
   },
   "outputs": [
    {
     "data": {
      "text/plain": [
       "<matplotlib.legend.Legend at 0x21c32d35860>"
      ]
     },
     "execution_count": 62,
     "metadata": {},
     "output_type": "execute_result"
    },
    {
     "data": {
      "image/png": "[encoded data removed]",
      "text/plain": [
       "<matplotlib.figure.Figure at 0x21c32d600b8>"
      ]
     },
     "metadata": {},
     "output_type": "display_data"
    }
   ],
   "source": [
    "plt.figure(figsize=(15,5))\n",
    "plt.title('RMSEs with increasing number of neighbors', fontsize = 16)\n",
    "plt.xlabel('Neighbors', fontsize = 12)\n",
    "plt.ylabel('RMSE', fontsize = 12)\n",
    "plt.xticks(range(1,26))\n",
    "plt.grid()\n",
    "plt.plot(range(1,26),rmses, label = 'RMSE')\n",
    "plt.legend()"
   ]
  },
  {
   "cell_type": "markdown",
   "metadata": {},
   "source": [
    "- The RMSE values decreases with increasing number of neighbors. This phenomena occurs upto 4 neighbors, where the RMSE is the least. After that, the RMSEs keeps on increasing, except for 13 neighbors.\n",
    "- Based on the values of RMSEs for each number of neighbors we add, 4 neighbors is a reasonable value. "
   ]
  },
  {
   "cell_type": "markdown",
   "metadata": {
    "ein.tags": [
     "worksheet-0"
    ],
    "slideshow": {
     "slide_type": "-"
    }
   },
   "source": [
    "### Extra-Credit: Forward selection\n",
    "\n",
    "Thus far the choice of predictor variables has been rather arbitrary. For extra credit, implement a basic [forward selection](http://www.stat.ubc.ca/~rollin/teach/643w04/lec/node41.html) algorithm to progressively include features that decrease the cross-validated RMSE of the model. Note that the optimal value of K may be different for each model, so you may want to use cross-validation to choose K each time (but it is also fine if you fix K at the optimal value from 2.7).  Create a graph that shows RMSE as a function of the number of features in the model. Label each point on the x-axis with the name of the feature that is added at that step in the forward selection algorithm. *(For instance, if the optimal single-feature model has CRIM with RMSE = 10, and the optimal two-feature model has CRIM+ZN with RMSE=9, the first x-axis label will say CRIM and the second x-axis lable with say ZN)*"
   ]
  },
  {
   "cell_type": "markdown",
   "metadata": {},
   "source": [
    "- For performing forward selection, I will use 4 neighbors, perform 10 folds cross validation"
   ]
  },
  {
   "cell_type": "code",
   "execution_count": 212,
   "metadata": {
    "collapsed": false
   },
   "outputs": [
    {
     "name": "stdout",
     "output_type": "stream",
     "text": [
      "Index(['CRIM', 'ZN', 'INDUS', 'CHAS', 'NOX', 'RM', 'AGE', 'DIS', 'RAD', 'TAX',\n",
      "       'PTRATIO', 'B', 'LSTAT'],\n",
      "      dtype='object')\n"
     ]
    }
   ],
   "source": [
    "#get all features labels\n",
    "f_labels = norm_data.columns\n",
    "\n",
    "#remove index\n",
    "f_labels = f_labels[1:-1]\n",
    "\n",
    "#view features\n",
    "print(f_labels)\n",
    "\n",
    "#do not consider target variables in counting \n",
    "nfeatures = len(f_labels)"
   ]
  },
  {
   "cell_type": "code",
   "execution_count": 217,
   "metadata": {
    "collapsed": false
   },
   "outputs": [
    {
     "name": "stdout",
     "output_type": "stream",
     "text": [
      "Remaining features:  ['AGE', 'B', 'CHAS', 'CRIM', 'DIS', 'INDUS', 'LSTAT', 'NOX', 'PTRATIO', 'RAD', 'RM', 'TAX', 'ZN']\n",
      "Searching for next best combination .... ..... ....\n",
      "Lowest RMSE:  LSTAT  with value : 5.7177354615\n",
      "Add feature : ['LSTAT']\n",
      "Remaining features:  ['AGE', 'B', 'CHAS', 'CRIM', 'DIS', 'INDUS', 'NOX', 'PTRATIO', 'RAD', 'RM', 'TAX', 'ZN']\n",
      "Searching for next best combination .... ..... ....\n",
      "Lowest RMSE:  RM  with value : 4.85228175974\n",
      "Add feature : ['RM']\n",
      "Remaining features:  ['AGE', 'B', 'CHAS', 'CRIM', 'DIS', 'INDUS', 'NOX', 'PTRATIO', 'RAD', 'TAX', 'ZN']\n",
      "Searching for next best combination .... ..... ....\n",
      "Lowest RMSE:  CRIM  with value : 4.07738524397\n",
      "Add feature : ['CRIM']\n",
      "Remaining features:  ['AGE', 'B', 'CHAS', 'DIS', 'INDUS', 'NOX', 'PTRATIO', 'RAD', 'TAX', 'ZN']\n",
      "Searching for next best combination .... ..... ....\n",
      "Lowest RMSE:  NOX  with value : 3.95989654612\n",
      "Add feature : ['NOX']\n",
      "Remaining features:  ['AGE', 'B', 'CHAS', 'DIS', 'INDUS', 'PTRATIO', 'RAD', 'TAX', 'ZN']\n",
      "Searching for next best combination .... ..... ....\n",
      "Lowest RMSE:  PTRATIO  with value : 3.70823780476\n",
      "Add feature : ['PTRATIO']\n",
      "Remaining features:  ['AGE', 'B', 'CHAS', 'DIS', 'INDUS', 'RAD', 'TAX', 'ZN']\n",
      "Searching for next best combination .... ..... ....\n",
      "Lowest RMSE:  TAX  with value : 3.70087762581\n",
      "Add feature : ['TAX']\n",
      "Remaining features:  ['AGE', 'B', 'CHAS', 'DIS', 'INDUS', 'RAD', 'ZN']\n",
      "Searching for next best combination .... ..... ....\n",
      "Lowest RMSE:  AGE  with value : 3.49580604385\n",
      "Add feature : ['AGE']\n",
      "Remaining features:  ['B', 'CHAS', 'DIS', 'INDUS', 'RAD', 'ZN']\n",
      "Searching for next best combination .... ..... ....\n",
      "Lowest RMSE:  INDUS  with value : 3.45880796466\n",
      "Add feature : ['INDUS']\n",
      "Remaining features:  ['B', 'CHAS', 'DIS', 'RAD', 'ZN']\n",
      "Searching for next best combination .... ..... ....\n",
      "Lowest RMSE:  RAD  with value : 3.45456355127\n",
      "Add feature : ['RAD']\n",
      "Remaining features:  ['B', 'CHAS', 'DIS', 'ZN']\n",
      "Searching for next best combination .... ..... ....\n",
      "Lowest RMSE:  RAD  with value : 3.45456355127\n",
      "No other feature yields lower RMSE\n",
      "==================================================================================================\n",
      "End of Forward Feature Selection\n"
     ]
    }
   ],
   "source": [
    "#store step RMSEs\n",
    "fwd_rmses = []\n",
    "\n",
    "#store predictors\n",
    "predictors = []\n",
    "\n",
    "#store RMSEs for each round\n",
    "round_rmse = []\n",
    "\n",
    "#feature set difference\n",
    "remaining_features = []\n",
    "\n",
    "#exhuast all features \n",
    "for i in range(0,nfeatures):\n",
    "    \n",
    "    #get the set difference\n",
    "    remaining_features = f_labels.difference(predictors)\n",
    "    \n",
    "    #show the remaining features\n",
    "    print('Remaining features: ',[x for x in remaining_features])\n",
    "    \n",
    "    print('Searching for next best combination .... ..... ....')\n",
    "    #test for the optimal combination with previous feature\n",
    "    for j in remaining_features:\n",
    "        \n",
    "        #test for RMSEs\n",
    "        rmses = perform_kfolds_validation(data = norm_data,nfolds = 10,neighbors = 4, features = [j]+predictors,\n",
    "                              target = ['MEDV'],l = 2,helper = False) \n",
    "        #mean of RMSEs from 10-fold\n",
    "        rmses = np.mean(rmses)\n",
    "        #print('RMSE for feature(s): ',[j]+predictors, ' - ',rmses)\n",
    "        \n",
    "        #append to test minimum RMSE yielding feature\n",
    "        round_rmse.append([j,rmses])\n",
    "    \n",
    "    #get the feature that produces lowest RMSE with previous feature\n",
    "    lowest_score = sorted(round_rmse, key = lambda x:x[1])[0]\n",
    "    print('Lowest RMSE: ',lowest_score[0], ' with value :',lowest_score[1])\n",
    "    \n",
    "    #if selecting the first feature\n",
    "    if i == 0:\n",
    "        print('Add feature :',[lowest_score[0]] )\n",
    "        fwd_rmses.append([lowest_score[0],lowest_score[1]]) \n",
    "        predictors.append(lowest_score[0])\n",
    "    #if the combination yeilds lower RMSE than the previous one\n",
    "    elif lowest_score[1] < fwd_rmses[-1][1]:\n",
    "        print('Add feature :',[lowest_score[0]] )\n",
    "        fwd_rmses.append([lowest_score[0],lowest_score[1]]) \n",
    "        predictors.append(lowest_score[0])\n",
    "    #if no feature gives the best combination then stop trying\n",
    "    else:\n",
    "        print('No other feature yields lower RMSE')\n",
    "        break\n",
    "print('==================================================================================================')\n",
    "print('End of Forward Feature Selection')\n",
    "            "
   ]
  },
  {
   "cell_type": "code",
   "execution_count": 218,
   "metadata": {
    "collapsed": false
   },
   "outputs": [
    {
     "data": {
      "text/plain": [
       "<matplotlib.legend.Legend at 0x21c368929e8>"
      ]
     },
     "execution_count": 218,
     "metadata": {},
     "output_type": "execute_result"
    },
    {
     "data": {
      "image/png": "[encoded data removed]",
      "text/plain": [
       "<matplotlib.figure.Figure at 0x21c35c32eb8>"
      ]
     },
     "metadata": {},
     "output_type": "display_data"
    }
   ],
   "source": [
    "#set figure size\n",
    "plt.figure(figsize=(16,9))\n",
    "\n",
    "#set subplot\n",
    "ax = plt.subplot(111)\n",
    "\n",
    "#set title\n",
    "plt.title('Decreasing RMSE in Forward Selection Algorithm', fontsize= 16)\n",
    "\n",
    "#set X-axis\n",
    "ax.set_xticks(range(0,len(fwd_rmses)))\n",
    "ax.set_xticklabels([x[0] for x in fwd_rmses])\n",
    "ax.set_xlabel('Forward Selected features',fontsize=14)\n",
    "\n",
    "#set Y-axis\n",
    "ax.set_ylabel('RMSE',fontsize = 14)\n",
    "\n",
    "#plot rmses \n",
    "plt.plot([x[1] for x in fwd_rmses], label= 'RMSE value')\n",
    "\n",
    "#show grid\n",
    "plt.grid()\n",
    "\n",
    "#show legend\n",
    "plt.legend(loc = 'upper right', fontsize=14)"
   ]
  }
 ],
 "metadata": {
  "anaconda-cloud": {},
  "kernelspec": {
   "display_name": "Python 3",
   "language": "python",
   "name": "python3"
  },
  "language_info": {
   "codemirror_mode": {
    "name": "ipython",
    "version": 3
   },
   "file_extension": ".py",
   "mimetype": "text/x-python",
   "name": "python",
   "nbconvert_exporter": "python",
   "pygments_lexer": "ipython3",
   "version": "3.5.2"
  },
  "name": "infx573-ps3-solutions.ipynb"
 },
 "nbformat": 4,
 "nbformat_minor": 0
}
