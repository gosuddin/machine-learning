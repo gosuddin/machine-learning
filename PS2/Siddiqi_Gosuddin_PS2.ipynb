{
 "cells": [
  {
   "cell_type": "markdown",
   "metadata": {
    "ein.tags": [
     "worksheet-0"
    ],
    "slideshow": {
     "slide_type": "-"
    }
   },
   "source": [
    "# Problem Set 2, due April 27th at 3:30 pm\n",
    "\n",
    "**Please Note:** This assignment will likely take you a _long_ time, especially if you are new to Python. Start early!"
   ]
  },
  {
   "cell_type": "markdown",
   "metadata": {
    "ein.tags": [
     "worksheet-0"
    ],
    "slideshow": {
     "slide_type": "-"
    }
   },
   "source": [
    "## Introduction to the assignment\n",
    "\n",
    "For this assignment, you will be using data from the [Progresa program](http://en.wikipedia.org/wiki/Oportunidades), a government social assistance program in Mexico. This program, as well as the details of its impact, are described in the paper \"[School subsidies for the poor: evaluating the Mexican Progresa poverty program](http://www.sciencedirect.com/science/article/pii/S0304387803001858)\", by Paul Shultz (available on Canvas). Please familiarize yourself with the PROGRESA program before beginning this problem set, so you have a rough sense of where the data come from and how they were generated. If you just proceed into the problem set without understanding Progresa or the data, it will be very difficult!\n",
    "\n",
    "The goal of this problem set is to implement some of the basic econometric techniques that you are learning in class to measure the impact of Progresa on secondary school enrollment rates. The timeline of the program was:\n",
    "\n",
    " * Baseline survey conducted in 1997\n",
    " * Intervention begins in 1998, \"Wave 1\" of data collected in 1998\n",
    " * \"Wave 2 of data\" collected in 1999\n",
    " * Evaluation ends in 2000, at which point the control villages were treated. \n",
    " \n",
    "When you are ready, download the progresa_sample.csv data from Canvas. The data are actual data collected to evaluate the impact of the Progresa program.  In this file, each row corresponds to an observation taken for a given child for a given year. There are two years of data (1997 and 1998), and just under 40,000 children who are surveyed in each year. For each child-year observation, the following variables are collected:\n",
    "\n",
    "| Variable name | Description|\n",
    "|---------|---------|\n",
    "|year\t  |year in which data is collected\n",
    "|sex\t  |male = 1|\n",
    "|indig\t  |indigenous = 1|\n",
    "|dist_sec |nearest distance to a secondary school|\n",
    "|sc\t      |enrolled in school in year of survey|\n",
    "|grc      |grade enrolled|\n",
    "|fam_n    |family size|\n",
    "|min_dist |\tmin distance to an urban center|\n",
    "|dist_cap |\tmin distance to the capital|\n",
    "|poor     |\tpoor = 'pobre'|\n",
    "|progresa |treatment = 'basal'|\n",
    "|hohedu\t  |years of schooling of head of household|\n",
    "|hohwag\t  |monthly wages of head of household|\n",
    "|welfare_index|\twelfare index used to classify poor|\n",
    "|hohsex\t  |gender of head of household (male=1)|\n",
    "|hohage   |age of head of household|\n",
    "|age      |years old|\n",
    "|folnum\t  |individual id|\n",
    "|village  |\tvillage id|\n",
    "|sc97\t  |schooling in 1997|"
   ]
  },
  {
   "cell_type": "code",
   "execution_count": 84,
   "metadata": {
    "autoscroll": "json-false",
    "collapsed": false,
    "ein.tags": [
     "worksheet-0"
    ],
    "slideshow": {
     "slide_type": "-"
    }
   },
   "outputs": [
    {
     "name": "stdout",
     "output_type": "stream",
     "text": [
      "3.5.2 |Continuum Analytics, Inc.| (default, Jul  5 2016, 11:41:13) [MSC v.1900 64 bit (AMD64)]\n"
     ]
    }
   ],
   "source": [
    "#import necessary libraries\n",
    "import sys; print(sys.version)\n",
    "import numpy as np\n",
    "import pandas as pd\n",
    "from scipy import stats\n",
    "import matplotlib.pyplot as plt\n",
    "%matplotlib inline\n",
    "import statsmodels.formula.api as smf"
   ]
  },
  {
   "cell_type": "code",
   "execution_count": 2,
   "metadata": {
    "collapsed": true
   },
   "outputs": [],
   "source": [
    "#load the data\n",
    "data = pd.read_csv('progresa_sample.csv')"
   ]
  },
  {
   "cell_type": "code",
   "execution_count": 3,
   "metadata": {
    "collapsed": false
   },
   "outputs": [
    {
     "name": "stdout",
     "output_type": "stream",
     "text": [
      "(77250, 21)\n",
      "Index(['year', 'sex', 'indig', 'dist_sec', 'sc', 'grc', 'fam_n', 'min_dist',\n",
      "       'dist_cap', 'poor', 'progresa', 'hohedu', 'hohwag', 'welfare_index',\n",
      "       'hohsex', 'hohage', 'age', 'village', 'folnum', 'grc97', 'sc97'],\n",
      "      dtype='object')\n"
     ]
    }
   ],
   "source": [
    "#check the dimensions \n",
    "print(data.shape)\n",
    "\n",
    "#print column names\n",
    "print(data.columns)"
   ]
  },
  {
   "cell_type": "markdown",
   "metadata": {
    "ein.tags": [
     "worksheet-0"
    ],
    "slideshow": {
     "slide_type": "-"
    }
   },
   "source": [
    "---\n",
    "##Part 1: Descriptive analysis\n",
    "\n",
    "### 1.1\tSummary Statistics\n",
    "\n",
    "a) Present number of missing observations for every single variable\n"
   ]
  },
  {
   "cell_type": "code",
   "execution_count": 4,
   "metadata": {
    "autoscroll": "json-false",
    "collapsed": false,
    "ein.tags": [
     "worksheet-0"
    ],
    "slideshow": {
     "slide_type": "-"
    }
   },
   "outputs": [
    {
     "name": "stdout",
     "output_type": "stream",
     "text": [
      "Number of missing values ... \n"
     ]
    },
    {
     "data": {
      "text/plain": [
       "year                0\n",
       "sex                24\n",
       "indig             300\n",
       "dist_sec            0\n",
       "sc               8453\n",
       "grc              6549\n",
       "fam_n               0\n",
       "min_dist            0\n",
       "dist_cap            0\n",
       "poor                0\n",
       "progresa            0\n",
       "hohedu              0\n",
       "hohwag              0\n",
       "welfare_index     210\n",
       "hohsex             20\n",
       "hohage             10\n",
       "age                 0\n",
       "village             0\n",
       "folnum              0\n",
       "grc97               0\n",
       "sc97             3872\n",
       "dtype: int64"
      ]
     },
     "execution_count": 4,
     "metadata": {},
     "output_type": "execute_result"
    }
   ],
   "source": [
    "#check the number of missing values for each variable in the dataset\n",
    "a = (pd.isnull(data)).sum()\n",
    "print(\"Number of missing values ... \")\n",
    "(pd.isnull(data)).sum()"
   ]
  },
  {
   "cell_type": "markdown",
   "metadata": {
    "ein.tags": [
     "worksheet-0"
    ],
    "slideshow": {
     "slide_type": "-"
    }
   },
   "source": [
    "b) Present summary statistics (mean and standard deviation) for all of the demographic variables in the dataset (i.e., everything except year, folnum, village). Present these in a single table alphabetized by variable name. Do NOT simply expect the grader to scroll through your output!"
   ]
  },
  {
   "cell_type": "code",
   "execution_count": 6,
   "metadata": {
    "autoscroll": "json-false",
    "collapsed": false,
    "ein.tags": [
     "worksheet-0"
    ],
    "slideshow": {
     "slide_type": "-"
    }
   },
   "outputs": [
    {
     "name": "stderr",
     "output_type": "stream",
     "text": [
      "C:\\Miniconda3\\lib\\site-packages\\numpy\\lib\\function_base.py:3823: RuntimeWarning: Invalid value encountered in percentile\n",
      "  RuntimeWarning)\n"
     ]
    },
    {
     "data": {
      "text/plain": [
       "Index(['year', 'sex', 'indig', 'dist_sec', 'sc', 'grc', 'fam_n', 'min_dist',\n",
       "       'dist_cap', 'hohedu', 'hohwag', 'welfare_index', 'hohsex', 'hohage',\n",
       "       'age', 'village', 'folnum', 'grc97', 'sc97'],\n",
       "      dtype='object')"
      ]
     },
     "execution_count": 6,
     "metadata": {},
     "output_type": "execute_result"
    }
   ],
   "source": [
    "sum_stat = data.describe()\n",
    "sum_stat.columns"
   ]
  },
  {
   "cell_type": "code",
   "execution_count": 7,
   "metadata": {
    "collapsed": false
   },
   "outputs": [
    {
     "data": {
      "text/html": [
       "<div>\n",
       "<table border=\"1\" class=\"dataframe\">\n",
       "  <thead>\n",
       "    <tr style=\"text-align: right;\">\n",
       "      <th></th>\n",
       "      <th>mean</th>\n",
       "      <th>std</th>\n",
       "    </tr>\n",
       "  </thead>\n",
       "  <tbody>\n",
       "    <tr>\n",
       "      <th>sex</th>\n",
       "      <td>0.512211</td>\n",
       "      <td>0.499854</td>\n",
       "    </tr>\n",
       "    <tr>\n",
       "      <th>indig</th>\n",
       "      <td>0.298324</td>\n",
       "      <td>0.457525</td>\n",
       "    </tr>\n",
       "    <tr>\n",
       "      <th>dist_sec</th>\n",
       "      <td>2.418910</td>\n",
       "      <td>2.234109</td>\n",
       "    </tr>\n",
       "    <tr>\n",
       "      <th>sc</th>\n",
       "      <td>0.819818</td>\n",
       "      <td>0.384342</td>\n",
       "    </tr>\n",
       "    <tr>\n",
       "      <th>grc</th>\n",
       "      <td>3.963537</td>\n",
       "      <td>2.499063</td>\n",
       "    </tr>\n",
       "    <tr>\n",
       "      <th>fam_n</th>\n",
       "      <td>7.215715</td>\n",
       "      <td>2.352900</td>\n",
       "    </tr>\n",
       "    <tr>\n",
       "      <th>min_dist</th>\n",
       "      <td>103.447520</td>\n",
       "      <td>42.089441</td>\n",
       "    </tr>\n",
       "    <tr>\n",
       "      <th>dist_cap</th>\n",
       "      <td>147.674452</td>\n",
       "      <td>76.063134</td>\n",
       "    </tr>\n",
       "    <tr>\n",
       "      <th>hohedu</th>\n",
       "      <td>2.768104</td>\n",
       "      <td>2.656106</td>\n",
       "    </tr>\n",
       "    <tr>\n",
       "      <th>hohwag</th>\n",
       "      <td>586.985312</td>\n",
       "      <td>788.133664</td>\n",
       "    </tr>\n",
       "    <tr>\n",
       "      <th>welfare_index</th>\n",
       "      <td>690.346564</td>\n",
       "      <td>139.491130</td>\n",
       "    </tr>\n",
       "    <tr>\n",
       "      <th>hohsex</th>\n",
       "      <td>0.925185</td>\n",
       "      <td>0.263095</td>\n",
       "    </tr>\n",
       "    <tr>\n",
       "      <th>hohage</th>\n",
       "      <td>44.436717</td>\n",
       "      <td>11.620372</td>\n",
       "    </tr>\n",
       "    <tr>\n",
       "      <th>age</th>\n",
       "      <td>11.366460</td>\n",
       "      <td>3.167744</td>\n",
       "    </tr>\n",
       "    <tr>\n",
       "      <th>grc97</th>\n",
       "      <td>3.705372</td>\n",
       "      <td>2.572387</td>\n",
       "    </tr>\n",
       "    <tr>\n",
       "      <th>sc97</th>\n",
       "      <td>0.813922</td>\n",
       "      <td>0.389172</td>\n",
       "    </tr>\n",
       "  </tbody>\n",
       "</table>\n",
       "</div>"
      ],
      "text/plain": [
       "                     mean         std\n",
       "sex              0.512211    0.499854\n",
       "indig            0.298324    0.457525\n",
       "dist_sec         2.418910    2.234109\n",
       "sc               0.819818    0.384342\n",
       "grc              3.963537    2.499063\n",
       "fam_n            7.215715    2.352900\n",
       "min_dist       103.447520   42.089441\n",
       "dist_cap       147.674452   76.063134\n",
       "hohedu           2.768104    2.656106\n",
       "hohwag         586.985312  788.133664\n",
       "welfare_index  690.346564  139.491130\n",
       "hohsex           0.925185    0.263095\n",
       "hohage          44.436717   11.620372\n",
       "age             11.366460    3.167744\n",
       "grc97            3.705372    2.572387\n",
       "sc97             0.813922    0.389172"
      ]
     },
     "execution_count": 7,
     "metadata": {},
     "output_type": "execute_result"
    }
   ],
   "source": [
    "#select rows by labels and select required columns and then transpose it\n",
    "sum_stat.ix[['mean','std'],['sex', 'indig', 'dist_sec', 'sc', 'grc', 'fam_n', 'min_dist',\n",
    "       'dist_cap', 'hohedu', 'hohwag', 'welfare_index', 'hohsex', 'hohage',\n",
    "       'age', 'grc97', 'sc97']].T"
   ]
  },
  {
   "cell_type": "markdown",
   "metadata": {
    "ein.tags": [
     "worksheet-0"
    ],
    "slideshow": {
     "slide_type": "-"
    }
   },
   "source": [
    "### 1.2 Differences at baseline?\n",
    "\n",
    "Are the baseline (1997) demographic characteristics **for the poor**  different in treatment and control villages? Hint: Use a T-Test to determine whether there is a statistically significant difference in the average values of each of the variables in the dataset. Focus only on the data from 1997 for individuals who are poor (i.e., poor=='pobre').\n",
    "\n",
    "Present your results in a single table with the following columns and 14 (or so) rows:\n",
    "\n",
    "| Variable name | Average value (Treatment villages) | Average value (Control villages) | Difference (Treat - Control) | p-value |\n",
    "|------|------|------|------|------|\n",
    "|Male  |?     |?     |?     |?     |\n"
   ]
  },
  {
   "cell_type": "code",
   "execution_count": 28,
   "metadata": {
    "collapsed": true
   },
   "outputs": [],
   "source": [
    "def performttest(df,subvar,cols):\n",
    "    \"\"\"\n",
    "    df:  pandas Dataframe\n",
    "    subvar: the variable basis on which 2 groups will be created\n",
    "    cols: variables of the dataframe to test\n",
    "    ----------------------------------------------------------------------------------------------------------------------\n",
    "    This function returns a pandas dataframe that will contain the means of all variables mentioned in the cols series. The \n",
    "    groups for the variable is created based on the subvar provided\n",
    "    \"\"\"\n",
    "    #test\n",
    "    #df= data\n",
    "    #subvar = 'progresa'\n",
    "    #cols = cols\n",
    "    \n",
    "    #get the unique values of the variable \n",
    "    uni_values = df[subvar].unique()\n",
    "    \n",
    "    #determine two subset groups \n",
    "    #control group uni_values[0] = 0\n",
    "    group1 = df.loc[df[subvar] == uni_values[0],cols]\n",
    "    #treatment group uni_values[0] = 'basal'\n",
    "    group2 = df.loc[df[subvar] == uni_values[1],cols]\n",
    "    \n",
    "    #compute the mean for each of the group and variable\n",
    "    g1_mean = group1.mean()\n",
    "    g2_mean = group2.mean()\n",
    "    \n",
    "    #reset the index\n",
    "    g1_mean.reset_index(drop=True, inplace = True)\n",
    "    g2_mean.reset_index(drop=True, inplace = True)\n",
    "    \n",
    "    #compute the difference (Treatment - control)\n",
    "    g_mean_diff = g2_mean - g1_mean\n",
    "    \n",
    "    #perform t-tests and save the results\n",
    "    ttresults = stats.ttest_ind(group1.dropna(),group2.dropna())\n",
    "    \n",
    "    #capture p-values\n",
    "    ttpval = ttresults.pvalue\n",
    "    \n",
    "    #convert to series\n",
    "    ttpval = pd.Series(ttpval)\n",
    "    \n",
    "    #create a dataframe . Bind all the columns\n",
    "    ttdf = pd.concat([pd.Series(cols),g2_mean,g1_mean,g_mean_diff,ttpval],axis=1)   \n",
    "    \n",
    "    #define column names\n",
    "    ttdf.columns = ['variable name','treatment-mean','control-mean','Difference', 'p-value']\n",
    "    \n",
    "    #return dataframe\n",
    "    return ttdf\n",
    "    "
   ]
  },
  {
   "cell_type": "code",
   "execution_count": 136,
   "metadata": {
    "collapsed": false
   },
   "outputs": [
    {
     "name": "stdout",
     "output_type": "stream",
     "text": [
      "    variable name  treatment-mean  control-mean  Difference       p-value\n",
      "0        dist_sec        2.453122      2.507662   -0.054540  9.820915e-01\n",
      "1              sc        0.822697      0.815186    0.007511  9.410266e-02\n",
      "2             grc        3.531599      3.543050   -0.011450  3.999990e-01\n",
      "3           fam_n        7.281327      7.302469   -0.021142  4.312448e-01\n",
      "4        min_dist      107.152915    103.237854    3.915060  2.471868e-18\n",
      "5             sex        0.519317      0.505052    0.014265  1.913967e-02\n",
      "6           indig        0.325986      0.332207   -0.006222  1.246761e-01\n",
      "7            sc97        0.822697      0.815186    0.007511  9.410266e-02\n",
      "8        dist_cap      150.829074    153.769730   -2.940656  3.372619e-03\n",
      "9          hohedu        2.663139      2.590348    0.072791  2.598679e-02\n",
      "10         hohwag      544.339544    573.163558  -28.824015  2.688555e-04\n",
      "11  welfare_index      655.428377    659.579100   -4.150723  4.083306e-04\n",
      "12         hohage       43.648828     44.276918   -0.628090  1.853819e-06\n",
      "13            age       10.716991     10.742023   -0.025032  2.500126e-01\n",
      "14          grc97        3.531599      3.543050   -0.011450  3.999990e-01\n"
     ]
    }
   ],
   "source": [
    "#define columns\n",
    "cols = ['dist_sec', 'sc', 'grc', 'fam_n', 'min_dist', 'sex', 'indig','sc97',\n",
    "       'dist_cap', 'hohedu', 'hohwag', 'welfare_index','hohage', 'age',  'grc97']\n",
    "\n",
    "\n",
    "#store the results\n",
    "q1_2 = performttest(data.loc[((data.year==97) & (data.poor == 'pobre')),],'progresa',cols)\n",
    "\n",
    "#print results\n",
    "print(q1_2)"
   ]
  },
  {
   "cell_type": "markdown",
   "metadata": {
    "ein.tags": [
     "worksheet-0"
    ],
    "slideshow": {
     "slide_type": "-"
    }
   },
   "source": [
    "### 1.3 Interpretation\n",
    "\n",
    "* A: Are there statistically significant differences between treatment and control villages as baseline? \n",
    "* B: Why does it matter if there are differences at baseline?\n",
    "* C: What does this imply about how to measure the impact of the treatment?"
   ]
  },
  {
   "cell_type": "markdown",
   "metadata": {
    "autoscroll": "json-false",
    "collapsed": false,
    "ein.tags": [
     "worksheet-0"
    ],
    "slideshow": {
     "slide_type": "-"
    }
   },
   "source": [
    "- A. We observe that there are very few p-values less than 0.05, which implies there is no statistical differences between treatement and control villages at baseline.\n",
    "- B. If there were differences it would mean that the groups were not randomly choosen. This could effect our study where we are trying to find if treatment is the reason for the increase in the enrollment rates.\n",
    "- C. Since there are no signicant differences in the means of the two sample group, we can measure the effect of the treatment as the only effect on enrollment rates."
   ]
  },
  {
   "cell_type": "markdown",
   "metadata": {
    "ein.tags": [
     "worksheet-0"
    ],
    "slideshow": {
     "slide_type": "-"
    }
   },
   "source": [
    "### 1.4 Graphical exploration, part 1\n",
    "\n",
    "For each level of household head education, compute the average enrollment rate in 1997. Create a scatterplot that shows this relationship. What do you notice?"
   ]
  },
  {
   "cell_type": "code",
   "execution_count": 18,
   "metadata": {
    "autoscroll": "json-false",
    "collapsed": false,
    "ein.tags": [
     "worksheet-0"
    ],
    "slideshow": {
     "slide_type": "-"
    }
   },
   "outputs": [
    {
     "data": {
      "text/plain": [
       "<matplotlib.collections.PathCollection at 0x1b1836c66a0>"
      ]
     },
     "execution_count": 18,
     "metadata": {},
     "output_type": "execute_result"
    },
    {
     "data": {
      "image/png": "[encoded data removed]",
      "text/plain": [
       "<matplotlib.figure.Figure at 0x1b183658dd8>"
      ]
     },
     "metadata": {},
     "output_type": "display_data"
    }
   ],
   "source": [
    "plt.scatter(data.hohedu.unique(),data[(data.year==97)].groupby('hohedu')['sc'].mean())"
   ]
  },
  {
   "cell_type": "markdown",
   "metadata": {},
   "source": [
    "There is an steady increase in the average enrollment with an increase in the grade of head of household, but we observe a phenomenal dip in the grade 20"
   ]
  },
  {
   "cell_type": "markdown",
   "metadata": {
    "ein.tags": [
     "worksheet-0"
    ],
    "slideshow": {
     "slide_type": "-"
    }
   },
   "source": [
    "### 1.5 Graphical exploration, part 2\n",
    "\n",
    "Create a histogram of village enrollment rates **among poor households in treated villages**, before and after treatment. Specifically, for each village, calculate the average rate of enrollment of poor households in treated villages in 1997, then compute the average rate of enrollment of poor households in treated villages in 1998. Create two separate histograms showing the distribution of these average enrollments rates, one histogram for 1997 and one histogram for 1998. On each histogram, draw a vertical line that intersects the x-axis at the average value (across all households).\n",
    "* Does there appear to be a difference? Is this difference statistically significant?\n",
    "* Which D estimator in Schultz (2004) does this approach correspond to?"
   ]
  },
  {
   "cell_type": "code",
   "execution_count": 101,
   "metadata": {
    "autoscroll": "json-false",
    "collapsed": false,
    "ein.tags": [
     "worksheet-0"
    ],
    "slideshow": {
     "slide_type": "-"
    }
   },
   "outputs": [
    {
     "data": {
      "text/plain": [
       "<matplotlib.legend.Legend at 0x2b06ae57f98>"
      ]
     },
     "execution_count": 101,
     "metadata": {},
     "output_type": "execute_result"
    },
    {
     "data": {
      "image/png": "[encoded data removed]",
      "text/plain": [
       "<matplotlib.figure.Figure at 0x2b067419a20>"
      ]
     },
     "metadata": {},
     "output_type": "display_data"
    }
   ],
   "source": [
    "#define the plot area size. \n",
    "plt.figure(figsize=(17, 5))\n",
    "\n",
    "#divide the plot into 1 row and 2 columns. Plot the first histogram in the first subplot.\n",
    "plt.subplot(1,2,1)\n",
    "plt.title(\"Average Enrollement Rate for treated villages in 1997\")\n",
    "plt.xlabel(\"Average Enrollment Rate\")\n",
    "plt.xlim(0,1)\n",
    "\n",
    "#calculate average enrollment rate of poor villages household in 1997  under treatment\n",
    "plt.hist((data[((data.year==97)&(data.poor =='pobre')&(data.progresa == 'basal'))].groupby('village')['sc'].mean()), bins = 30)\n",
    "#plot the overall average enrollment rate of por villages households in 1997 under treatment\n",
    "plt.axvline(x = data[((data.year==97)&(data.poor =='pobre')&(data.progresa == 'basal'))].sc.mean(),color = 'r'\n",
    "            , linewidth = 2, label = \"mean\")\n",
    "#plot legend\n",
    "plt.legend(loc= \"upper left\")\n",
    "\n",
    "\n",
    "#Plot the second histogram in the seecond subplot.\n",
    "plt.subplot(1,2,2)\n",
    "plt.title(\"Average Enrollement Rate for treated villages in 1998\")\n",
    "plt.xlabel(\"Average Enrollment Rate\")\n",
    "plt.xlim(0,1)\n",
    "\n",
    "#calculate average enrollment rate of poor villages household in 1998  under treatment\n",
    "plt.hist((data[((data.year==98)&(data.poor =='pobre')&(data.progresa == 'basal'))].groupby('village')['sc'].mean()), bins = 30)\n",
    "#plot the overall average enrollment rate of por villages households in 1998 under treatment\n",
    "plt.axvline(x = data[((data.year==98)&(data.poor =='pobre')&(data.progresa == 'basal'))].sc.mean(), color = 'r'\n",
    "            , linewidth= 2, label = \"mean\")\n",
    "#plot legend\n",
    "plt.legend(loc= \"upper left\")"
   ]
  },
  {
   "cell_type": "code",
   "execution_count": 32,
   "metadata": {
    "collapsed": false
   },
   "outputs": [
    {
     "data": {
      "text/plain": [
       "Ttest_indResult(statistic=-2.0157134865156379, pvalue=0.04424870036572115)"
      ]
     },
     "execution_count": 32,
     "metadata": {},
     "output_type": "execute_result"
    }
   ],
   "source": [
    "#conduct t-test\n",
    "stats.ttest_ind((data[((data.year==97)&(data.poor =='pobre')&(data.progresa == 'basal'))].groupby('village')['sc'].mean()),\n",
    "                 (data[((data.year==98)&(data.poor =='pobre')&(data.progresa == 'basal'))].groupby('village')['sc'].mean()))\n"
   ]
  },
  {
   "cell_type": "markdown",
   "metadata": {},
   "source": [
    "- There is a difference in the average enrollment rate in treated villages in 1997 and 1998. There appears to be shift towards right in the average enrollment rate in 1998. \n",
    "- Since the p-value is less that 0.05, the differences between the means are statistically significant.\n",
    "- This approach corresponds to Shultz's D1 estimator."
   ]
  },
  {
   "cell_type": "markdown",
   "metadata": {
    "ein.tags": [
     "worksheet-0"
    ],
    "slideshow": {
     "slide_type": "-"
    }
   },
   "source": [
    "## Part 2: Measuring Impact\n",
    "\n",
    "### 2.1 Simple differences: T-test\n",
    "\n",
    "Start out by estimating the impact of Progresa using \"simple differences.\" Restricting yourself to data from 1998 (after treatment).\n",
    "* calculate the average enrollment rate among **poor** households in the Treatment villages and the average enrollment rate among **poor** households in the control villages.\n",
    "* Which difference estimator in Schultz (2004) does this approach correspond to?\n",
    "* Use a t-test to determine if this difference is statistically significant. What do you conclude?"
   ]
  },
  {
   "cell_type": "code",
   "execution_count": 106,
   "metadata": {
    "autoscroll": "json-false",
    "collapsed": false,
    "ein.tags": [
     "worksheet-0"
    ],
    "slideshow": {
     "slide_type": "-"
    }
   },
   "outputs": [
    {
     "name": "stdout",
     "output_type": "stream",
     "text": [
      "The average enrollment rate among poor households in the treatment vilages is 0.846479\n",
      "The average enrollment rate among poor households in the control vilages is 0.807637\n",
      "Ttest_indResult(statistic=8.3587205674183735, pvalue=6.636344447523235e-17)\n"
     ]
    }
   ],
   "source": [
    "#subset treatment data\n",
    "tm = data[((data.poor == 'pobre') & (data.progresa =='basal') & (data.year == 98))]\n",
    "\n",
    "#print the average enrollment rate \n",
    "print('The average enrollment rate among poor households in the treatment vilages is %f' % tm.sc.mean())\n",
    "\n",
    "#subset control data\n",
    "ct = data[((data.poor == 'pobre') & (data.progresa =='0') & (data.year == 98))]\n",
    "\n",
    "#print the average enrollment rate \n",
    "print('The average enrollment rate among poor households in the control vilages is %f' % ct.sc.mean())\n",
    "\n",
    "#conduct t-test\n",
    "tt_98 = stats.ttest_ind(tm.sc.dropna(),ct.sc.dropna())\n",
    "\n",
    "#showcase t-test\n",
    "print(tt_98)"
   ]
  },
  {
   "cell_type": "markdown",
   "metadata": {},
   "source": [
    "- This approach corresponds to Schultz's D2 estimator.\n",
    "- Since the p-value is less than 0.05 which implies that the difference is statistically significant between the treatment and control group after Progresa treatment took place."
   ]
  },
  {
   "cell_type": "markdown",
   "metadata": {
    "ein.tags": [
     "worksheet-0"
    ],
    "slideshow": {
     "slide_type": "-"
    }
   },
   "source": [
    "### 2.2 Simple differences: Regression\n",
    "\n",
    "Estimate the effects of Progresa on enrollment using a regression model, by regressing the 1998 enrollment rates **of the poor** on treatment assignment. Discuss the following:\n",
    "\n",
    "* Based on this model, how much did Progresa increase the likelihood of a child enrolling?\n",
    "* How does your regression estimate compare to your t-test estimate from part 2.1?\n",
    "* Based on this regression model, can we reject the null hypothesis that the treatment effects are zero? \n",
    "* What is the counterfactual assumption underlying this regression?"
   ]
  },
  {
   "cell_type": "code",
   "execution_count": 107,
   "metadata": {
    "autoscroll": "json-false",
    "collapsed": false,
    "ein.tags": [
     "worksheet-0"
    ],
    "slideshow": {
     "slide_type": "-"
    }
   },
   "outputs": [
    {
     "data": {
      "text/html": [
       "<table class=\"simpletable\">\n",
       "<caption>OLS Regression Results</caption>\n",
       "<tr>\n",
       "  <th>Dep. Variable:</th>           <td>sc</td>        <th>  R-squared:         </th> <td>   0.003</td> \n",
       "</tr>\n",
       "<tr>\n",
       "  <th>Model:</th>                   <td>OLS</td>       <th>  Adj. R-squared:    </th> <td>   0.002</td> \n",
       "</tr>\n",
       "<tr>\n",
       "  <th>Method:</th>             <td>Least Squares</td>  <th>  F-statistic:       </th> <td>   65.64</td> \n",
       "</tr>\n",
       "<tr>\n",
       "  <th>Date:</th>             <td>Mon, 01 May 2017</td> <th>  Prob (F-statistic):</th> <td>5.66e-16</td> \n",
       "</tr>\n",
       "<tr>\n",
       "  <th>Time:</th>                 <td>20:35:43</td>     <th>  Log-Likelihood:    </th> <td> -11171.</td> \n",
       "</tr>\n",
       "<tr>\n",
       "  <th>No. Observations:</th>      <td> 26155</td>      <th>  AIC:               </th> <td>2.235e+04</td>\n",
       "</tr>\n",
       "<tr>\n",
       "  <th>Df Residuals:</th>          <td> 26153</td>      <th>  BIC:               </th> <td>2.236e+04</td>\n",
       "</tr>\n",
       "<tr>\n",
       "  <th>Df Model:</th>              <td>     1</td>      <th>                     </th>     <td> </td>    \n",
       "</tr>\n",
       "<tr>\n",
       "  <th>Covariance Type:</th>      <td>nonrobust</td>    <th>                     </th>     <td> </td>    \n",
       "</tr>\n",
       "</table>\n",
       "<table class=\"simpletable\">\n",
       "<tr>\n",
       "      <td></td>         <th>coef</th>     <th>std err</th>      <th>t</th>      <th>P>|t|</th>  <th>[0.025</th>    <th>0.975]</th>  \n",
       "</tr>\n",
       "<tr>\n",
       "  <th>Intercept</th> <td>    0.8109</td> <td>    0.004</td> <td>  217.190</td> <td> 0.000</td> <td>    0.804</td> <td>    0.818</td>\n",
       "</tr>\n",
       "<tr>\n",
       "  <th>basal</th>     <td>    0.0383</td> <td>    0.005</td> <td>    8.102</td> <td> 0.000</td> <td>    0.029</td> <td>    0.048</td>\n",
       "</tr>\n",
       "</table>\n",
       "<table class=\"simpletable\">\n",
       "<tr>\n",
       "  <th>Omnibus:</th>       <td>7487.800</td> <th>  Durbin-Watson:     </th> <td>   1.734</td> \n",
       "</tr>\n",
       "<tr>\n",
       "  <th>Prob(Omnibus):</th>  <td> 0.000</td>  <th>  Jarque-Bera (JB):  </th> <td>15756.374</td>\n",
       "</tr>\n",
       "<tr>\n",
       "  <th>Skew:</th>           <td>-1.796</td>  <th>  Prob(JB):          </th> <td>    0.00</td> \n",
       "</tr>\n",
       "<tr>\n",
       "  <th>Kurtosis:</th>       <td> 4.245</td>  <th>  Cond. No.          </th> <td>    3.02</td> \n",
       "</tr>\n",
       "</table>"
      ],
      "text/plain": [
       "<class 'statsmodels.iolib.summary.Summary'>\n",
       "\"\"\"\n",
       "                            OLS Regression Results                            \n",
       "==============================================================================\n",
       "Dep. Variable:                     sc   R-squared:                       0.003\n",
       "Model:                            OLS   Adj. R-squared:                  0.002\n",
       "Method:                 Least Squares   F-statistic:                     65.64\n",
       "Date:                Mon, 01 May 2017   Prob (F-statistic):           5.66e-16\n",
       "Time:                        20:35:43   Log-Likelihood:                -11171.\n",
       "No. Observations:               26155   AIC:                         2.235e+04\n",
       "Df Residuals:                   26153   BIC:                         2.236e+04\n",
       "Df Model:                           1                                         \n",
       "Covariance Type:            nonrobust                                         \n",
       "==============================================================================\n",
       "                 coef    std err          t      P>|t|      [0.025      0.975]\n",
       "------------------------------------------------------------------------------\n",
       "Intercept      0.8109      0.004    217.190      0.000       0.804       0.818\n",
       "basal          0.0383      0.005      8.102      0.000       0.029       0.048\n",
       "==============================================================================\n",
       "Omnibus:                     7487.800   Durbin-Watson:                   1.734\n",
       "Prob(Omnibus):                  0.000   Jarque-Bera (JB):            15756.374\n",
       "Skew:                          -1.796   Prob(JB):                         0.00\n",
       "Kurtosis:                       4.245   Cond. No.                         3.02\n",
       "==============================================================================\n",
       "\n",
       "Warnings:\n",
       "[1] Standard Errors assume that the covariance matrix of the errors is correctly specified.\n",
       "\"\"\""
      ]
     },
     "execution_count": 107,
     "metadata": {},
     "output_type": "execute_result"
    }
   ],
   "source": [
    "#drop nas\n",
    "d = data.dropna()\n",
    "\n",
    "#create dummy for progresa variable\n",
    "X = pd.get_dummies(d[((d.poor == 'pobre') & (d.year == 98) )].progresa.dropna())\n",
    "\n",
    "#store our target variable\n",
    "y = d[(d.poor == 'pobre') & (d.year == 98)].sc\n",
    "\n",
    "#merge them\n",
    "modData = X.join(y)\n",
    "\n",
    "#perform linear regression\n",
    "linRegm = smf.ols(formula = 'sc ~ basal',data=modData).fit()\n",
    "\n",
    "#print the summary\n",
    "linRegm.summary()"
   ]
  },
  {
   "cell_type": "markdown",
   "metadata": {},
   "source": [
    "- Progresa increased the likelihood of a child enrolling by 0.0383\n",
    "\n",
    "- The simple difference basically calculated the differences between the means of the treatment and control group after Progresa. Here we are estimating the effect of Progresa on each child and the assiociated likelihood of enrolling after Progresa.\n",
    "\n",
    "- Since the p-value is less than 0.05, we can reject the null hypothesis which states that the treatment had no effect on the enrollment of rate after progresa\n",
    "\n",
    "- The counterfactual assumption is if the treatment was not provided then the enrollment in the treatment and control group would remain same."
   ]
  },
  {
   "cell_type": "markdown",
   "metadata": {
    "ein.tags": [
     "worksheet-0"
    ],
    "slideshow": {
     "slide_type": "-"
    }
   },
   "source": [
    "### 2.3 Multiple Regression\n",
    "\n",
    "Re-run the above regression estimated but this time include a set of control variables. Include, for instance, age, distance to a secondary school, gender, education of household head, indigenous, etc.\n",
    "\n",
    "* How do the controls affect the point estimate of treatment effect?\n",
    "* How do the controls affect the standard error on the treatment effect? \n",
    "* How do you interpret the differences (or similarities) between your estimates of 2.2 and 2.3?"
   ]
  },
  {
   "cell_type": "code",
   "execution_count": 137,
   "metadata": {
    "autoscroll": "json-false",
    "collapsed": false,
    "ein.tags": [
     "worksheet-0"
    ],
    "slideshow": {
     "slide_type": "-"
    }
   },
   "outputs": [
    {
     "data": {
      "text/html": [
       "<table class=\"simpletable\">\n",
       "<caption>OLS Regression Results</caption>\n",
       "<tr>\n",
       "  <th>Dep. Variable:</th>           <td>sc</td>        <th>  R-squared:         </th> <td>   0.268</td> \n",
       "</tr>\n",
       "<tr>\n",
       "  <th>Model:</th>                   <td>OLS</td>       <th>  Adj. R-squared:    </th> <td>   0.268</td> \n",
       "</tr>\n",
       "<tr>\n",
       "  <th>Method:</th>             <td>Least Squares</td>  <th>  F-statistic:       </th> <td>   1666.</td> \n",
       "</tr>\n",
       "<tr>\n",
       "  <th>Date:</th>             <td>Mon, 01 May 2017</td> <th>  Prob (F-statistic):</th>  <td>  0.00</td>  \n",
       "</tr>\n",
       "<tr>\n",
       "  <th>Time:</th>                 <td>21:50:16</td>     <th>  Log-Likelihood:    </th> <td> -7671.8</td> \n",
       "</tr>\n",
       "<tr>\n",
       "  <th>No. Observations:</th>      <td> 27340</td>      <th>  AIC:               </th> <td>1.536e+04</td>\n",
       "</tr>\n",
       "<tr>\n",
       "  <th>Df Residuals:</th>          <td> 27333</td>      <th>  BIC:               </th> <td>1.542e+04</td>\n",
       "</tr>\n",
       "<tr>\n",
       "  <th>Df Model:</th>              <td>     6</td>      <th>                     </th>     <td> </td>    \n",
       "</tr>\n",
       "<tr>\n",
       "  <th>Covariance Type:</th>      <td>nonrobust</td>    <th>                     </th>     <td> </td>    \n",
       "</tr>\n",
       "</table>\n",
       "<table class=\"simpletable\">\n",
       "<tr>\n",
       "      <td></td>         <th>coef</th>     <th>std err</th>      <th>t</th>      <th>P>|t|</th>  <th>[0.025</th>    <th>0.975]</th>  \n",
       "</tr>\n",
       "<tr>\n",
       "  <th>Intercept</th> <td>    1.5235</td> <td>    0.009</td> <td>  161.784</td> <td> 0.000</td> <td>    1.505</td> <td>    1.542</td>\n",
       "</tr>\n",
       "<tr>\n",
       "  <th>age</th>       <td>   -0.0655</td> <td>    0.001</td> <td>  -95.686</td> <td> 0.000</td> <td>   -0.067</td> <td>   -0.064</td>\n",
       "</tr>\n",
       "<tr>\n",
       "  <th>dist_sec</th>  <td>   -0.0119</td> <td>    0.001</td> <td>  -13.642</td> <td> 0.000</td> <td>   -0.014</td> <td>   -0.010</td>\n",
       "</tr>\n",
       "<tr>\n",
       "  <th>sex</th>       <td>    0.0310</td> <td>    0.004</td> <td>    7.995</td> <td> 0.000</td> <td>    0.023</td> <td>    0.039</td>\n",
       "</tr>\n",
       "<tr>\n",
       "  <th>hohedu</th>    <td>    0.0087</td> <td>    0.001</td> <td>   11.147</td> <td> 0.000</td> <td>    0.007</td> <td>    0.010</td>\n",
       "</tr>\n",
       "<tr>\n",
       "  <th>indig</th>     <td>    0.0468</td> <td>    0.004</td> <td>   11.306</td> <td> 0.000</td> <td>    0.039</td> <td>    0.055</td>\n",
       "</tr>\n",
       "<tr>\n",
       "  <th>basal</th>     <td>    0.0356</td> <td>    0.004</td> <td>    8.920</td> <td> 0.000</td> <td>    0.028</td> <td>    0.043</td>\n",
       "</tr>\n",
       "</table>\n",
       "<table class=\"simpletable\">\n",
       "<tr>\n",
       "  <th>Omnibus:</th>       <td>2974.429</td> <th>  Durbin-Watson:     </th> <td>   1.717</td>\n",
       "</tr>\n",
       "<tr>\n",
       "  <th>Prob(Omnibus):</th>  <td> 0.000</td>  <th>  Jarque-Bera (JB):  </th> <td>4048.759</td>\n",
       "</tr>\n",
       "<tr>\n",
       "  <th>Skew:</th>           <td>-0.935</td>  <th>  Prob(JB):          </th> <td>    0.00</td>\n",
       "</tr>\n",
       "<tr>\n",
       "  <th>Kurtosis:</th>       <td> 3.239</td>  <th>  Cond. No.          </th> <td>    60.4</td>\n",
       "</tr>\n",
       "</table>"
      ],
      "text/plain": [
       "<class 'statsmodels.iolib.summary.Summary'>\n",
       "\"\"\"\n",
       "                            OLS Regression Results                            \n",
       "==============================================================================\n",
       "Dep. Variable:                     sc   R-squared:                       0.268\n",
       "Model:                            OLS   Adj. R-squared:                  0.268\n",
       "Method:                 Least Squares   F-statistic:                     1666.\n",
       "Date:                Mon, 01 May 2017   Prob (F-statistic):               0.00\n",
       "Time:                        21:50:16   Log-Likelihood:                -7671.8\n",
       "No. Observations:               27340   AIC:                         1.536e+04\n",
       "Df Residuals:                   27333   BIC:                         1.542e+04\n",
       "Df Model:                           6                                         \n",
       "Covariance Type:            nonrobust                                         \n",
       "==============================================================================\n",
       "                 coef    std err          t      P>|t|      [0.025      0.975]\n",
       "------------------------------------------------------------------------------\n",
       "Intercept      1.5235      0.009    161.784      0.000       1.505       1.542\n",
       "age           -0.0655      0.001    -95.686      0.000      -0.067      -0.064\n",
       "dist_sec      -0.0119      0.001    -13.642      0.000      -0.014      -0.010\n",
       "sex            0.0310      0.004      7.995      0.000       0.023       0.039\n",
       "hohedu         0.0087      0.001     11.147      0.000       0.007       0.010\n",
       "indig          0.0468      0.004     11.306      0.000       0.039       0.055\n",
       "basal          0.0356      0.004      8.920      0.000       0.028       0.043\n",
       "==============================================================================\n",
       "Omnibus:                     2974.429   Durbin-Watson:                   1.717\n",
       "Prob(Omnibus):                  0.000   Jarque-Bera (JB):             4048.759\n",
       "Skew:                          -0.935   Prob(JB):                         0.00\n",
       "Kurtosis:                       3.239   Cond. No.                         60.4\n",
       "==============================================================================\n",
       "\n",
       "Warnings:\n",
       "[1] Standard Errors assume that the covariance matrix of the errors is correctly specified.\n",
       "\"\"\""
      ]
     },
     "execution_count": 137,
     "metadata": {},
     "output_type": "execute_result"
    }
   ],
   "source": [
    "#subset the data\n",
    "d = data.loc[((data.poor == 'pobre') & (data.year == 98)), ]\n",
    "\n",
    "#create dummy for progresa\n",
    "x1 = pd.get_dummies(d.progresa)\n",
    "\n",
    "#join the progresa\n",
    "X = d.join(x1)\n",
    "\n",
    "#remove control dummy\n",
    "X.drop(['progresa','0'],axis =1,inplace=True)\n",
    "\n",
    "#run multiple linear regression\n",
    "MlinRegm = smf.ols(formula='sc ~ age + dist_sec + sex + hohedu + indig + basal',data=X).fit()\n",
    "\n",
    "#print the summary\n",
    "MlinRegm.summary()\n"
   ]
  },
  {
   "cell_type": "markdown",
   "metadata": {},
   "source": [
    "- The control reduces the estimate from 0.0383 to 0.0356.\n",
    "\n",
    "- The standard error in the control reduced to 0.004 from 0.005\n",
    "\n",
    "- With the introduction of more variables, the standard error reduced by just 0.001. There is a difference between the two estimates of 0.0383 - 0.0356 = 0.0027, which is minute and suggest that the other variables have very little effect in estimating the enrollment rate"
   ]
  },
  {
   "cell_type": "markdown",
   "metadata": {
    "ein.tags": [
     "worksheet-0"
    ],
    "slideshow": {
     "slide_type": "-"
    }
   },
   "source": [
    "### 2.4 Difference-in-Difference, version 1 (tabular)\n",
    "\n",
    "Thus far, we have computed the effects of Progresa by estimating the difference in 1998 enrollment rates across villages. An alternative approach would be to compute the treatment effect using a difference-in-differences framework.\n",
    "\n",
    "Begin by estimating the average treatment effects of the program for poor households using data from 1997 and 1998. Specifically, calculate the difference (between 1997 and 1998) in enrollment rates among poor households in treated villages; then compute the difference (between 1997 and 1998) in enrollment rates among poor households in treated villages. The difference between these two differences is your estimate.\n",
    "\n",
    "* What is your estimate of the impact, and how does it compare to your earlier (simple difference) results?\n",
    "* What is the counterfactual assumption underlying this estimate? \n"
   ]
  },
  {
   "cell_type": "code",
   "execution_count": 139,
   "metadata": {
    "autoscroll": "json-false",
    "collapsed": false,
    "ein.tags": [
     "worksheet-0"
    ],
    "slideshow": {
     "slide_type": "-"
    }
   },
   "outputs": [
    {
     "name": "stdout",
     "output_type": "stream",
     "text": [
      "Difference between treatment groups is  0.023782\n",
      "Difference between control groups is  -0.007549\n",
      "Difference-in-Difference is 0.031331\n"
     ]
    }
   ],
   "source": [
    "#mean of treated villages in 1997\n",
    "t_97 = (data[((data.year==97)&(data.poor =='pobre')&(data.progresa == 'basal'))]['sc'].mean())\n",
    "\n",
    "#mean of treated villages in 1998\n",
    "t_98 = (data[((data.year==98)&(data.poor =='pobre')&(data.progresa == 'basal'))]['sc'].mean())\n",
    "\n",
    "#mean of control villages in 1997\n",
    "c_97 = (data[((data.year==97)&(data.poor =='pobre')&(data.progresa == '0'))]['sc'].mean())\n",
    "\n",
    "#mean of control villages in 1998\n",
    "c_98 = (data[((data.year==98)&(data.poor =='pobre')&(data.progresa == '0'))]['sc'].mean())\n",
    "\n",
    "#differences in treatement\n",
    "t_d = t_98 - t_97\n",
    "\n",
    "print(\"Difference between treatment groups is  %f\" % t_d)\n",
    "\n",
    "#differences in control\n",
    "c_d = c_98 - c_97\n",
    "\n",
    "print(\"Difference between control groups is  %f\" % c_d)\n",
    "\n",
    "#difference in differences\n",
    "d_d = t_d - c_d\n",
    "\n",
    "#print difference in differences\n",
    "print (\"Difference-in-Difference is %f\" % d_d)"
   ]
  },
  {
   "cell_type": "markdown",
   "metadata": {},
   "source": [
    "- The estimate for this method is 0.03133. This is lower than the simple difference estimate which was 0.0383.\n",
    "\n",
    "- The counterfactual assumption in this method is that average change in groups (treatment and control) amounts to the counterfactual change in treatment group if the treatment was absent. "
   ]
  },
  {
   "cell_type": "markdown",
   "metadata": {
    "ein.tags": [
     "worksheet-0"
    ],
    "slideshow": {
     "slide_type": "-"
    }
   },
   "source": [
    "### 2.5 Difference-in-Difference, version 1 (regression)\n",
    "\n",
    "Now use a regression specification to estimate the average treatment effect of the program (on the poor) in a difference-in-differences framework. Include at least 5 control variables.\n",
    "\n",
    "* What is your estimate of the impact of Progresa? Be very specific in interpreting your coefficients and standard errors, and make sure to specify exactly what units you are measuring and estimating.\n",
    "* How do these estimates of the treatment effect compare to the estimates based on the simple difference?\n",
    "* How do these estimates compare to the difference-in-difference estimates from 2.4 above? What accounts for these differences?\n",
    "* What is the counterfactual assumption underlying this regression? "
   ]
  },
  {
   "cell_type": "code",
   "execution_count": 160,
   "metadata": {
    "autoscroll": "json-false",
    "collapsed": false,
    "ein.tags": [
     "worksheet-0"
    ],
    "slideshow": {
     "slide_type": "-"
    }
   },
   "outputs": [
    {
     "data": {
      "text/html": [
       "<table class=\"simpletable\">\n",
       "<caption>OLS Regression Results</caption>\n",
       "<tr>\n",
       "  <th>Dep. Variable:</th>           <td>sc</td>        <th>  R-squared:         </th> <td>   0.277</td> \n",
       "</tr>\n",
       "<tr>\n",
       "  <th>Model:</th>                   <td>OLS</td>       <th>  Adj. R-squared:    </th> <td>   0.277</td> \n",
       "</tr>\n",
       "<tr>\n",
       "  <th>Method:</th>             <td>Least Squares</td>  <th>  F-statistic:       </th> <td>   2726.</td> \n",
       "</tr>\n",
       "<tr>\n",
       "  <th>Date:</th>             <td>Mon, 01 May 2017</td> <th>  Prob (F-statistic):</th>  <td>  0.00</td>  \n",
       "</tr>\n",
       "<tr>\n",
       "  <th>Time:</th>                 <td>23:42:04</td>     <th>  Log-Likelihood:    </th> <td> -16224.</td> \n",
       "</tr>\n",
       "<tr>\n",
       "  <th>No. Observations:</th>      <td> 56893</td>      <th>  AIC:               </th> <td>3.247e+04</td>\n",
       "</tr>\n",
       "<tr>\n",
       "  <th>Df Residuals:</th>          <td> 56884</td>      <th>  BIC:               </th> <td>3.255e+04</td>\n",
       "</tr>\n",
       "<tr>\n",
       "  <th>Df Model:</th>              <td>     8</td>      <th>                     </th>     <td> </td>    \n",
       "</tr>\n",
       "<tr>\n",
       "  <th>Covariance Type:</th>      <td>nonrobust</td>    <th>                     </th>     <td> </td>    \n",
       "</tr>\n",
       "</table>\n",
       "<table class=\"simpletable\">\n",
       "<tr>\n",
       "       <td></td>          <th>coef</th>     <th>std err</th>      <th>t</th>      <th>P>|t|</th>  <th>[0.025</th>    <th>0.975]</th>  \n",
       "</tr>\n",
       "<tr>\n",
       "  <th>Intercept</th>   <td>    1.4902</td> <td>    0.007</td> <td>  228.766</td> <td> 0.000</td> <td>    1.477</td> <td>    1.503</td>\n",
       "</tr>\n",
       "<tr>\n",
       "  <th>after</th>       <td>    0.0323</td> <td>    0.004</td> <td>    7.317</td> <td> 0.000</td> <td>    0.024</td> <td>    0.041</td>\n",
       "</tr>\n",
       "<tr>\n",
       "  <th>basal</th>       <td>    0.0044</td> <td>    0.004</td> <td>    1.160</td> <td> 0.246</td> <td>   -0.003</td> <td>    0.012</td>\n",
       "</tr>\n",
       "<tr>\n",
       "  <th>after:basal</th> <td>    0.0305</td> <td>    0.006</td> <td>    5.472</td> <td> 0.000</td> <td>    0.020</td> <td>    0.041</td>\n",
       "</tr>\n",
       "<tr>\n",
       "  <th>age</th>         <td>   -0.0652</td> <td>    0.000</td> <td> -142.276</td> <td> 0.000</td> <td>   -0.066</td> <td>   -0.064</td>\n",
       "</tr>\n",
       "<tr>\n",
       "  <th>dist_sec</th>    <td>   -0.0104</td> <td>    0.001</td> <td>  -16.430</td> <td> 0.000</td> <td>   -0.012</td> <td>   -0.009</td>\n",
       "</tr>\n",
       "<tr>\n",
       "  <th>sex</th>         <td>    0.0338</td> <td>    0.003</td> <td>   12.528</td> <td> 0.000</td> <td>    0.029</td> <td>    0.039</td>\n",
       "</tr>\n",
       "<tr>\n",
       "  <th>hohedu</th>      <td>    0.0073</td> <td>    0.001</td> <td>   13.546</td> <td> 0.000</td> <td>    0.006</td> <td>    0.008</td>\n",
       "</tr>\n",
       "<tr>\n",
       "  <th>indig</th>       <td>    0.0510</td> <td>    0.003</td> <td>   17.604</td> <td> 0.000</td> <td>    0.045</td> <td>    0.057</td>\n",
       "</tr>\n",
       "</table>\n",
       "<table class=\"simpletable\">\n",
       "<tr>\n",
       "  <th>Omnibus:</th>       <td>5543.379</td> <th>  Durbin-Watson:     </th> <td>   1.482</td>\n",
       "</tr>\n",
       "<tr>\n",
       "  <th>Prob(Omnibus):</th>  <td> 0.000</td>  <th>  Jarque-Bera (JB):  </th> <td>7341.146</td>\n",
       "</tr>\n",
       "<tr>\n",
       "  <th>Skew:</th>           <td>-0.877</td>  <th>  Prob(JB):          </th> <td>    0.00</td>\n",
       "</tr>\n",
       "<tr>\n",
       "  <th>Kurtosis:</th>       <td> 3.134</td>  <th>  Cond. No.          </th> <td>    70.7</td>\n",
       "</tr>\n",
       "</table>"
      ],
      "text/plain": [
       "<class 'statsmodels.iolib.summary.Summary'>\n",
       "\"\"\"\n",
       "                            OLS Regression Results                            \n",
       "==============================================================================\n",
       "Dep. Variable:                     sc   R-squared:                       0.277\n",
       "Model:                            OLS   Adj. R-squared:                  0.277\n",
       "Method:                 Least Squares   F-statistic:                     2726.\n",
       "Date:                Mon, 01 May 2017   Prob (F-statistic):               0.00\n",
       "Time:                        23:42:04   Log-Likelihood:                -16224.\n",
       "No. Observations:               56893   AIC:                         3.247e+04\n",
       "Df Residuals:                   56884   BIC:                         3.255e+04\n",
       "Df Model:                           8                                         \n",
       "Covariance Type:            nonrobust                                         \n",
       "===============================================================================\n",
       "                  coef    std err          t      P>|t|      [0.025      0.975]\n",
       "-------------------------------------------------------------------------------\n",
       "Intercept       1.4902      0.007    228.766      0.000       1.477       1.503\n",
       "after           0.0323      0.004      7.317      0.000       0.024       0.041\n",
       "basal           0.0044      0.004      1.160      0.246      -0.003       0.012\n",
       "after:basal     0.0305      0.006      5.472      0.000       0.020       0.041\n",
       "age            -0.0652      0.000   -142.276      0.000      -0.066      -0.064\n",
       "dist_sec       -0.0104      0.001    -16.430      0.000      -0.012      -0.009\n",
       "sex             0.0338      0.003     12.528      0.000       0.029       0.039\n",
       "hohedu          0.0073      0.001     13.546      0.000       0.006       0.008\n",
       "indig           0.0510      0.003     17.604      0.000       0.045       0.057\n",
       "==============================================================================\n",
       "Omnibus:                     5543.379   Durbin-Watson:                   1.482\n",
       "Prob(Omnibus):                  0.000   Jarque-Bera (JB):             7341.146\n",
       "Skew:                          -0.877   Prob(JB):                         0.00\n",
       "Kurtosis:                       3.134   Cond. No.                         70.7\n",
       "==============================================================================\n",
       "\n",
       "Warnings:\n",
       "[1] Standard Errors assume that the covariance matrix of the errors is correctly specified.\n",
       "\"\"\""
      ]
     },
     "execution_count": 160,
     "metadata": {},
     "output_type": "execute_result"
    }
   ],
   "source": [
    "#drop nas\n",
    "d = data.dropna()\n",
    "\n",
    "#subset the data\n",
    "d = d.loc[((data.poor == 'pobre')), ]\n",
    "\n",
    "#create a dummy variable for progresa\n",
    "x1 = pd.get_dummies(d.progresa)\n",
    "\n",
    "#create dummy for years\n",
    "x2 = pd.get_dummies(d.year)\n",
    "\n",
    "#rename the 98 to after\n",
    "x2.rename(columns = { 98 : 'after'}, inplace = True)\n",
    "\n",
    "#join our dummy\n",
    "X = d.join(x1).join(x2)\n",
    "\n",
    "#drop progresa and control\n",
    "X.drop(['progresa','0',97],axis =1,inplace=True)\n",
    "\n",
    "#run multi linear regresssion\n",
    "MlinRegm = smf.ols(formula='sc ~ after*basal + age + dist_sec + sex + hohedu + indig ',data=X).fit()\n",
    "\n",
    "#show summary\n",
    "MlinRegm.summary()"
   ]
  },
  {
   "cell_type": "markdown",
   "metadata": {},
   "source": [
    "- The estimate of the impact of Progresa is year:basal coefficient in the output. That number is .0305. The standard error is extremely low at .006. In other words the treatment increased the likelihood of average enrollment rate by .0305. \n",
    "\n",
    "- In the simple difference framework we only worked with after Progresa. We only saw the differences in the treatment and control group after Progresa and neglected other. Here, in Diff-in-Diff framework we arae considering the both before and after Progresa, signifying the difference between the differences in treatment and control group\n",
    "\n",
    "- There is a slight decrease in the estimate to 0.0305 from 0.031 from the tabular version. This maybe because we are now accounting for other variables as well in our regression.\n",
    "\n",
    "- The counterfactual assumption here is that the difference in differences between treatment and control groups would be zero in absence of treatment."
   ]
  },
  {
   "cell_type": "markdown",
   "metadata": {
    "ein.tags": [
     "worksheet-0"
    ],
    "slideshow": {
     "slide_type": "-"
    }
   },
   "source": [
    "### 2.6 Difference-in-Difference, version 2\n",
    "\n",
    "In the previous problem, you estimated a difference-in-differences model that compared changes in enrollment rates over time across treatment and control villages. An alternative approach would be to compare enrollment rates in 1998 between poor and non-poor across treatment and control villages. \n",
    "\n",
    "* How would we estimate this version of the treatment effects in a regression model? \n",
    "* What is the counterfactual assumption underlying this regression?\n",
    "* How do these treatment effects compare to the estimates above?\n",
    "* Discuss some possible explanations for differences or similarities "
   ]
  },
  {
   "cell_type": "code",
   "execution_count": 151,
   "metadata": {
    "autoscroll": "json-false",
    "collapsed": false,
    "ein.tags": [
     "worksheet-0"
    ],
    "slideshow": {
     "slide_type": "-"
    }
   },
   "outputs": [
    {
     "data": {
      "text/html": [
       "<table class=\"simpletable\">\n",
       "<caption>OLS Regression Results</caption>\n",
       "<tr>\n",
       "  <th>Dep. Variable:</th>           <td>sc</td>        <th>  R-squared:         </th> <td>   0.269</td> \n",
       "</tr>\n",
       "<tr>\n",
       "  <th>Model:</th>                   <td>OLS</td>       <th>  Adj. R-squared:    </th> <td>   0.268</td> \n",
       "</tr>\n",
       "<tr>\n",
       "  <th>Method:</th>             <td>Least Squares</td>  <th>  F-statistic:       </th> <td>   1467.</td> \n",
       "</tr>\n",
       "<tr>\n",
       "  <th>Date:</th>             <td>Mon, 01 May 2017</td> <th>  Prob (F-statistic):</th>  <td>  0.00</td>  \n",
       "</tr>\n",
       "<tr>\n",
       "  <th>Time:</th>                 <td>22:19:19</td>     <th>  Log-Likelihood:    </th> <td> -9335.6</td> \n",
       "</tr>\n",
       "<tr>\n",
       "  <th>No. Observations:</th>      <td> 31975</td>      <th>  AIC:               </th> <td>1.869e+04</td>\n",
       "</tr>\n",
       "<tr>\n",
       "  <th>Df Residuals:</th>          <td> 31966</td>      <th>  BIC:               </th> <td>1.876e+04</td>\n",
       "</tr>\n",
       "<tr>\n",
       "  <th>Df Model:</th>              <td>     8</td>      <th>                     </th>     <td> </td>    \n",
       "</tr>\n",
       "<tr>\n",
       "  <th>Covariance Type:</th>      <td>nonrobust</td>    <th>                     </th>     <td> </td>    \n",
       "</tr>\n",
       "</table>\n",
       "<table class=\"simpletable\">\n",
       "<tr>\n",
       "           <td></td>              <th>coef</th>     <th>std err</th>      <th>t</th>      <th>P>|t|</th>  <th>[0.025</th>    <th>0.975]</th>  \n",
       "</tr>\n",
       "<tr>\n",
       "  <th>Intercept</th>           <td>    1.5423</td> <td>    0.012</td> <td>  133.418</td> <td> 0.000</td> <td>    1.520</td> <td>    1.565</td>\n",
       "</tr>\n",
       "<tr>\n",
       "  <th>poor[T.pobre]</th>       <td>   -0.0154</td> <td>    0.008</td> <td>   -1.863</td> <td> 0.063</td> <td>   -0.032</td> <td>    0.001</td>\n",
       "</tr>\n",
       "<tr>\n",
       "  <th>basal</th>               <td>    0.0261</td> <td>    0.010</td> <td>    2.680</td> <td> 0.007</td> <td>    0.007</td> <td>    0.045</td>\n",
       "</tr>\n",
       "<tr>\n",
       "  <th>poor[T.pobre]:basal</th> <td>    0.0095</td> <td>    0.011</td> <td>    0.901</td> <td> 0.368</td> <td>   -0.011</td> <td>    0.030</td>\n",
       "</tr>\n",
       "<tr>\n",
       "  <th>age</th>                 <td>   -0.0659</td> <td>    0.001</td> <td> -103.053</td> <td> 0.000</td> <td>   -0.067</td> <td>   -0.065</td>\n",
       "</tr>\n",
       "<tr>\n",
       "  <th>dist_sec</th>            <td>   -0.0122</td> <td>    0.001</td> <td>  -14.636</td> <td> 0.000</td> <td>   -0.014</td> <td>   -0.011</td>\n",
       "</tr>\n",
       "<tr>\n",
       "  <th>sex</th>                 <td>    0.0311</td> <td>    0.004</td> <td>    8.571</td> <td> 0.000</td> <td>    0.024</td> <td>    0.038</td>\n",
       "</tr>\n",
       "<tr>\n",
       "  <th>hohedu</th>              <td>    0.0093</td> <td>    0.001</td> <td>   13.414</td> <td> 0.000</td> <td>    0.008</td> <td>    0.011</td>\n",
       "</tr>\n",
       "<tr>\n",
       "  <th>indig</th>               <td>    0.0474</td> <td>    0.004</td> <td>   11.797</td> <td> 0.000</td> <td>    0.040</td> <td>    0.055</td>\n",
       "</tr>\n",
       "</table>\n",
       "<table class=\"simpletable\">\n",
       "<tr>\n",
       "  <th>Omnibus:</th>       <td>3219.038</td> <th>  Durbin-Watson:     </th> <td>   1.721</td>\n",
       "</tr>\n",
       "<tr>\n",
       "  <th>Prob(Omnibus):</th>  <td> 0.000</td>  <th>  Jarque-Bera (JB):  </th> <td>4302.755</td>\n",
       "</tr>\n",
       "<tr>\n",
       "  <th>Skew:</th>           <td>-0.897</td>  <th>  Prob(JB):          </th> <td>    0.00</td>\n",
       "</tr>\n",
       "<tr>\n",
       "  <th>Kurtosis:</th>       <td> 3.119</td>  <th>  Cond. No.          </th> <td>    119.</td>\n",
       "</tr>\n",
       "</table>"
      ],
      "text/plain": [
       "<class 'statsmodels.iolib.summary.Summary'>\n",
       "\"\"\"\n",
       "                            OLS Regression Results                            \n",
       "==============================================================================\n",
       "Dep. Variable:                     sc   R-squared:                       0.269\n",
       "Model:                            OLS   Adj. R-squared:                  0.268\n",
       "Method:                 Least Squares   F-statistic:                     1467.\n",
       "Date:                Mon, 01 May 2017   Prob (F-statistic):               0.00\n",
       "Time:                        22:19:19   Log-Likelihood:                -9335.6\n",
       "No. Observations:               31975   AIC:                         1.869e+04\n",
       "Df Residuals:                   31966   BIC:                         1.876e+04\n",
       "Df Model:                           8                                         \n",
       "Covariance Type:            nonrobust                                         \n",
       "=======================================================================================\n",
       "                          coef    std err          t      P>|t|      [0.025      0.975]\n",
       "---------------------------------------------------------------------------------------\n",
       "Intercept               1.5423      0.012    133.418      0.000       1.520       1.565\n",
       "poor[T.pobre]          -0.0154      0.008     -1.863      0.063      -0.032       0.001\n",
       "basal                   0.0261      0.010      2.680      0.007       0.007       0.045\n",
       "poor[T.pobre]:basal     0.0095      0.011      0.901      0.368      -0.011       0.030\n",
       "age                    -0.0659      0.001   -103.053      0.000      -0.067      -0.065\n",
       "dist_sec               -0.0122      0.001    -14.636      0.000      -0.014      -0.011\n",
       "sex                     0.0311      0.004      8.571      0.000       0.024       0.038\n",
       "hohedu                  0.0093      0.001     13.414      0.000       0.008       0.011\n",
       "indig                   0.0474      0.004     11.797      0.000       0.040       0.055\n",
       "==============================================================================\n",
       "Omnibus:                     3219.038   Durbin-Watson:                   1.721\n",
       "Prob(Omnibus):                  0.000   Jarque-Bera (JB):             4302.755\n",
       "Skew:                          -0.897   Prob(JB):                         0.00\n",
       "Kurtosis:                       3.119   Cond. No.                         119.\n",
       "==============================================================================\n",
       "\n",
       "Warnings:\n",
       "[1] Standard Errors assume that the covariance matrix of the errors is correctly specified.\n",
       "\"\"\""
      ]
     },
     "execution_count": 151,
     "metadata": {},
     "output_type": "execute_result"
    }
   ],
   "source": [
    "#create a dummy variable for progresa\n",
    "d = data.loc[((data.year == 98)), ]\n",
    "\n",
    "#create dummy for progresa\n",
    "x1 = pd.get_dummies(d.progresa)\n",
    "\n",
    "#join the dummy variable\n",
    "X = d.join(x1)\n",
    "\n",
    "#drop progresa and control\n",
    "X.drop(['progresa','0'],axis =1,inplace=True)\n",
    "\n",
    "#run multi linear regression\n",
    "MlinRegm = smf.ols(formula='sc ~ poor*basal + age + dist_sec + sex + hohedu + indig ',data=X).fit()\n",
    "\n",
    "#print summary\n",
    "MlinRegm.summary()"
   ]
  },
  {
   "cell_type": "markdown",
   "metadata": {},
   "source": [
    "- Here, we look at the data after Progresa treatment. The estimate of being poor has a negative effect.This implies that the likelihood of being enrolled increases by 0.0154 if it is not poor. Desipte this, the estimate is not statistically significant.\n",
    "\n",
    "- The counterfactual assumption underlying this regression is that there exists no differences between these groups (poor/not poor, treatment and control)\n",
    "\n",
    "- The treatment term in this regression method is lower than the previous estimate, standing at 0.0261 and is statistically significant. Presence of treatment increases the likelihood of enrollment by 0.0261.\n",
    "\n",
    "- The differences in this method exists because we only consider the data and groups after progresa, whereas in previous we considered before and after for both groups."
   ]
  },
  {
   "cell_type": "markdown",
   "metadata": {
    "ein.tags": [
     "worksheet-0"
    ],
    "slideshow": {
     "slide_type": "-"
    }
   },
   "source": [
    "### 2.7 Spillover effects (extra credit)\n",
    "\n",
    "Thus far, we have focused on the impact of PROGRESA on poor households. Repeat your analysis in 2.5, using a double-difference regression to estimate the impact of PROGRESA on non-poor households. In other words, compare the difference in enrollments between 1997 and 1998 for non-poor households in treatment villages with the difference in enrollments between 1997 and 1998 for non-poor households in control villages.\n",
    "\n",
    "* A: Describe one or two reasons why PROGRESA might have impacted non-poor households.\n",
    "* B: Do you observe any impacts of PROGRESA on the non-poor?\n",
    "* C: What is the identifying assumption that you are using to estimate the impact of PROGRESA on non-poor households."
   ]
  },
  {
   "cell_type": "code",
   "execution_count": 159,
   "metadata": {
    "autoscroll": "json-false",
    "collapsed": false,
    "ein.tags": [
     "worksheet-0"
    ],
    "slideshow": {
     "slide_type": "-"
    }
   },
   "outputs": [
    {
     "data": {
      "text/html": [
       "<table class=\"simpletable\">\n",
       "<caption>OLS Regression Results</caption>\n",
       "<tr>\n",
       "  <th>Dep. Variable:</th>           <td>sc</td>        <th>  R-squared:         </th> <td>   0.282</td>\n",
       "</tr>\n",
       "<tr>\n",
       "  <th>Model:</th>                   <td>OLS</td>       <th>  Adj. R-squared:    </th> <td>   0.281</td>\n",
       "</tr>\n",
       "<tr>\n",
       "  <th>Method:</th>             <td>Least Squares</td>  <th>  F-statistic:       </th> <td>   501.5</td>\n",
       "</tr>\n",
       "<tr>\n",
       "  <th>Date:</th>             <td>Mon, 01 May 2017</td> <th>  Prob (F-statistic):</th>  <td>  0.00</td> \n",
       "</tr>\n",
       "<tr>\n",
       "  <th>Time:</th>                 <td>23:41:23</td>     <th>  Log-Likelihood:    </th> <td> -3632.9</td>\n",
       "</tr>\n",
       "<tr>\n",
       "  <th>No. Observations:</th>      <td> 10229</td>      <th>  AIC:               </th> <td>   7284.</td>\n",
       "</tr>\n",
       "<tr>\n",
       "  <th>Df Residuals:</th>          <td> 10220</td>      <th>  BIC:               </th> <td>   7349.</td>\n",
       "</tr>\n",
       "<tr>\n",
       "  <th>Df Model:</th>              <td>     8</td>      <th>                     </th>     <td> </td>   \n",
       "</tr>\n",
       "<tr>\n",
       "  <th>Covariance Type:</th>      <td>nonrobust</td>    <th>                     </th>     <td> </td>   \n",
       "</tr>\n",
       "</table>\n",
       "<table class=\"simpletable\">\n",
       "<tr>\n",
       "       <td></td>          <th>coef</th>     <th>std err</th>      <th>t</th>      <th>P>|t|</th>  <th>[0.025</th>    <th>0.975]</th>  \n",
       "</tr>\n",
       "<tr>\n",
       "  <th>Intercept</th>   <td>    1.5390</td> <td>    0.017</td> <td>   91.333</td> <td> 0.000</td> <td>    1.506</td> <td>    1.572</td>\n",
       "</tr>\n",
       "<tr>\n",
       "  <th>after</th>       <td>    0.0412</td> <td>    0.011</td> <td>    3.775</td> <td> 0.000</td> <td>    0.020</td> <td>    0.063</td>\n",
       "</tr>\n",
       "<tr>\n",
       "  <th>basal</th>       <td>    0.0263</td> <td>    0.009</td> <td>    2.819</td> <td> 0.005</td> <td>    0.008</td> <td>    0.045</td>\n",
       "</tr>\n",
       "<tr>\n",
       "  <th>after:basal</th> <td>   -0.0002</td> <td>    0.014</td> <td>   -0.014</td> <td> 0.989</td> <td>   -0.028</td> <td>    0.027</td>\n",
       "</tr>\n",
       "<tr>\n",
       "  <th>age</th>         <td>   -0.0680</td> <td>    0.001</td> <td>  -59.365</td> <td> 0.000</td> <td>   -0.070</td> <td>   -0.066</td>\n",
       "</tr>\n",
       "<tr>\n",
       "  <th>dist_sec</th>    <td>   -0.0167</td> <td>    0.002</td> <td>   -9.430</td> <td> 0.000</td> <td>   -0.020</td> <td>   -0.013</td>\n",
       "</tr>\n",
       "<tr>\n",
       "  <th>sex</th>         <td>    0.0296</td> <td>    0.007</td> <td>    4.327</td> <td> 0.000</td> <td>    0.016</td> <td>    0.043</td>\n",
       "</tr>\n",
       "<tr>\n",
       "  <th>hohedu</th>      <td>    0.0098</td> <td>    0.001</td> <td>    9.107</td> <td> 0.000</td> <td>    0.008</td> <td>    0.012</td>\n",
       "</tr>\n",
       "<tr>\n",
       "  <th>indig</th>       <td>    0.0401</td> <td>    0.010</td> <td>    3.922</td> <td> 0.000</td> <td>    0.020</td> <td>    0.060</td>\n",
       "</tr>\n",
       "</table>\n",
       "<table class=\"simpletable\">\n",
       "<tr>\n",
       "  <th>Omnibus:</th>       <td>837.625</td> <th>  Durbin-Watson:     </th> <td>   1.495</td> \n",
       "</tr>\n",
       "<tr>\n",
       "  <th>Prob(Omnibus):</th> <td> 0.000</td>  <th>  Jarque-Bera (JB):  </th> <td> 829.349</td> \n",
       "</tr>\n",
       "<tr>\n",
       "  <th>Skew:</th>          <td>-0.643</td>  <th>  Prob(JB):          </th> <td>8.11e-181</td>\n",
       "</tr>\n",
       "<tr>\n",
       "  <th>Kurtosis:</th>      <td> 2.460</td>  <th>  Cond. No.          </th> <td>    75.1</td> \n",
       "</tr>\n",
       "</table>"
      ],
      "text/plain": [
       "<class 'statsmodels.iolib.summary.Summary'>\n",
       "\"\"\"\n",
       "                            OLS Regression Results                            \n",
       "==============================================================================\n",
       "Dep. Variable:                     sc   R-squared:                       0.282\n",
       "Model:                            OLS   Adj. R-squared:                  0.281\n",
       "Method:                 Least Squares   F-statistic:                     501.5\n",
       "Date:                Mon, 01 May 2017   Prob (F-statistic):               0.00\n",
       "Time:                        23:41:23   Log-Likelihood:                -3632.9\n",
       "No. Observations:               10229   AIC:                             7284.\n",
       "Df Residuals:                   10220   BIC:                             7349.\n",
       "Df Model:                           8                                         \n",
       "Covariance Type:            nonrobust                                         \n",
       "===============================================================================\n",
       "                  coef    std err          t      P>|t|      [0.025      0.975]\n",
       "-------------------------------------------------------------------------------\n",
       "Intercept       1.5390      0.017     91.333      0.000       1.506       1.572\n",
       "after           0.0412      0.011      3.775      0.000       0.020       0.063\n",
       "basal           0.0263      0.009      2.819      0.005       0.008       0.045\n",
       "after:basal    -0.0002      0.014     -0.014      0.989      -0.028       0.027\n",
       "age            -0.0680      0.001    -59.365      0.000      -0.070      -0.066\n",
       "dist_sec       -0.0167      0.002     -9.430      0.000      -0.020      -0.013\n",
       "sex             0.0296      0.007      4.327      0.000       0.016       0.043\n",
       "hohedu          0.0098      0.001      9.107      0.000       0.008       0.012\n",
       "indig           0.0401      0.010      3.922      0.000       0.020       0.060\n",
       "==============================================================================\n",
       "Omnibus:                      837.625   Durbin-Watson:                   1.495\n",
       "Prob(Omnibus):                  0.000   Jarque-Bera (JB):              829.349\n",
       "Skew:                          -0.643   Prob(JB):                    8.11e-181\n",
       "Kurtosis:                       2.460   Cond. No.                         75.1\n",
       "==============================================================================\n",
       "\n",
       "Warnings:\n",
       "[1] Standard Errors assume that the covariance matrix of the errors is correctly specified.\n",
       "\"\"\""
      ]
     },
     "execution_count": 159,
     "metadata": {},
     "output_type": "execute_result"
    }
   ],
   "source": [
    "#drop nas\n",
    "d = data.dropna()\n",
    "\n",
    "#create a dummy variable for progresa\n",
    "d = d.loc[((data.poor == 'no pobre')), ]\n",
    "\n",
    "#create dummy for progresa\n",
    "x1 = pd.get_dummies(d.progresa)\n",
    "\n",
    "#create dummy for years\n",
    "x2 = pd.get_dummies(d.year)\n",
    "\n",
    "#rename the 98 to after\n",
    "x2.rename(columns = { 98 : 'after'}, inplace = True)\n",
    "\n",
    "#join the dataframes\n",
    "X = d.join(x1).join(x2)\n",
    "\n",
    "#drop proresa, control and 97/before\n",
    "X.drop(['progresa','0',97],axis =1,inplace=True)\n",
    "\n",
    "#run regression\n",
    "MlinRegm = smf.ols(formula='sc ~ after*basal + age + dist_sec + sex + hohedu + indig ',data=X).fit()\n",
    "\n",
    "#print summary\n",
    "MlinRegm.summary()\n"
   ]
  },
  {
   "cell_type": "markdown",
   "metadata": {},
   "source": [
    "- There could be several reasons for the effect of progresa on non-poor households. These could be because of hoarding additional funds for education, following the herd mentality, rich getting richer mentality, social pressure to compete against lower class.\n",
    "\n",
    "- There doesn't seems to be any statistically significant effect of Progresa since the p-value is very large (0.9)\n",
    "\n",
    "- The underlying assumption is that for non poor households the effect of Progresa would remain same for the groups before and after the treatment in the absence of the treatment"
   ]
  },
  {
   "cell_type": "markdown",
   "metadata": {
    "ein.tags": [
     "worksheet-0"
    ],
    "slideshow": {
     "slide_type": "-"
    }
   },
   "source": [
    "### 2.8 Summary\n",
    "\n",
    "Based on all the analysis you have undertaken to date, do you thik that Progresa had a causal impact on the enrollment rates of poor households in Mexico?"
   ]
  },
  {
   "cell_type": "markdown",
   "metadata": {
    "autoscroll": "json-false",
    "collapsed": false,
    "ein.tags": [
     "worksheet-0"
    ],
    "slideshow": {
     "slide_type": "-"
    }
   },
   "source": [
    "- Yes, based on the extensive exercise carried out above does imply that Progresa had a causal impact on the enrollment rates of poor households. We carried our analysis by stepping up and providing evidence with every step. We started with a simple difference framework and analysed whether the differences between groups were statistically significant or not. We then analyzed across years and household status with difference in differences framework and compared with regression results. These regressions involved synergy/interaction terms that allowed us to analyse and draw inferences across before and after treatment, poor and non - poor. After performing in-depth analysis, with a fair amount of degree we can say that Progresa had a causal impact on the enrollment rates.  "
   ]
  }
 ],
 "metadata": {
  "kernelspec": {
   "display_name": "Python 3",
   "language": "python",
   "name": "python3"
  },
  "language_info": {
   "codemirror_mode": {
    "name": "ipython",
    "version": 3
   },
   "file_extension": ".py",
   "mimetype": "text/x-python",
   "name": "python",
   "nbconvert_exporter": "python",
   "pygments_lexer": "ipython3",
   "version": "3.5.2"
  },
  "name": "ps2.ipynb"
 },
 "nbformat": 4,
 "nbformat_minor": 2
}
