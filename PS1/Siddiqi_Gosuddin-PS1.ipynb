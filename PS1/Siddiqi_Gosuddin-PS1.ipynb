{
 "cells": [
  {
   "cell_type": "markdown",
   "metadata": {},
   "source": [
    "# Problem Set 1, due April 13th at 3:30pm \n",
    "(in other words, it is due at noon, or one minute after 11:59am).\n",
    "\n",
    "###Before You Start\n",
    "Make sure to at least take a basic tutorial in the IPython notebook, otherwise you'll be totally lost.  For this problem set, you should download INFX574-PS1.ipynb and the flights.zip dataset from Canvas. Create a local copy of the notebook and rename it LASTNAME_FIRSTNAME-PS1.ipynb. Then edit your renamed file directly in your browser by typing:\n",
    "```\n",
    "ipython notebook <name_of_downloaded_file>\n",
    "```\n",
    "\n",
    "You should also make sure the following libraries load correctly (click on the box below and hit Ctrl-Enter)"
   ]
  },
  {
   "cell_type": "code",
   "execution_count": 1,
   "metadata": {
    "collapsed": false
   },
   "outputs": [
    {
     "name": "stdout",
     "output_type": "stream",
     "text": [
      "IPython version:       4.2.0 (need at least 1.0)\n",
      "Numpy version:        1.11.0 (need at least 1.7.1)\n",
      "SciPy version:        0.17.0 (need at least 0.12.0)\n",
      "Pandas version:       0.18.1 (need at least 0.11.0)\n",
      "Mapltolib version:     1.5.1 (need at least 1.2.1)\n",
      "Scikit-Learn version: 0.17.1 (need at least 0.13.1)\n"
     ]
    }
   ],
   "source": [
    "#IPython is what you are using now to run the notebook\n",
    "import IPython\n",
    "print (\"IPython version:      %6.6s (need at least 1.0)\" % IPython.__version__)\n",
    "\n",
    "# Numpy is a library for working with Arrays\n",
    "import numpy as np\n",
    "print (\"Numpy version:        %6.6s (need at least 1.7.1)\" % np.__version__)\n",
    "\n",
    "# SciPy implements many different numerical algorithms\n",
    "import scipy as sp\n",
    "print (\"SciPy version:        %6.6s (need at least 0.12.0)\" % sp.__version__)\n",
    "\n",
    "# Pandas makes working with data tables easier\n",
    "import pandas as pd\n",
    "print( \"Pandas version:       %6.6s (need at least 0.11.0)\" % pd.__version__)\n",
    "\n",
    "# Module for plotting\n",
    "import matplotlib\n",
    "print (\"Mapltolib version:    %6.6s (need at least 1.2.1)\" % matplotlib.__version__)\n",
    "\n",
    "# SciKit Learn implements several Machine Learning algorithms\n",
    "import sklearn\n",
    "print (\"Scikit-Learn version: %6.6s (need at least 0.13.1)\" % sklearn.__version__)"
   ]
  },
  {
   "cell_type": "markdown",
   "metadata": {},
   "source": [
    "##About the Problem Set: \n",
    "This is the same problem set used by Emma Spiro in INFX573. The only difference is that instead of doing the problem set in R, you will use Python and the IPython notebook.\n",
    "\n",
    "##Instructions: \n",
    "In this problem set you will perform a basic exploratory analysis on an example dataset, bringing to bear all of your new skills in data manipulation and visualization. You will be required to submit well commented python code, documenting all code used in this problem set, along with a write up answering all questions below. Use figures as appropriate to support your answers, and when required by the problem. \n",
    "This data set uses the NYCFlights13 dataset. You can download the dataset from canvas."
   ]
  },
  {
   "cell_type": "code",
   "execution_count": 2,
   "metadata": {
    "collapsed": false
   },
   "outputs": [],
   "source": [
    "#import the required libraries for the problem set\n",
    "import pandas as pd\n",
    "import numpy as np\n",
    "import matplotlib.pyplot as plt\n",
    "\n",
    "#inline matplotlib\n",
    "%matplotlib inline "
   ]
  },
  {
   "cell_type": "code",
   "execution_count": 3,
   "metadata": {
    "collapsed": false
   },
   "outputs": [],
   "source": [
    "#load the datasets\n",
    "flights_df= pd.read_csv('flights.csv')\n",
    "weather_df = pd.read_csv('weather.csv')"
   ]
  },
  {
   "cell_type": "code",
   "execution_count": 4,
   "metadata": {
    "collapsed": false
   },
   "outputs": [
    {
     "name": "stdout",
     "output_type": "stream",
     "text": [
      "(336776, 17)\n",
      "Index(['Unnamed: 0', 'year', 'month', 'day', 'dep_time', 'dep_delay',\n",
      "       'arr_time', 'arr_delay', 'carrier', 'tailnum', 'flight', 'origin',\n",
      "       'dest', 'air_time', 'distance', 'hour', 'minute'],\n",
      "      dtype='object')\n",
      "Unnamed: 0      int64\n",
      "year            int64\n",
      "month           int64\n",
      "day             int64\n",
      "dep_time      float64\n",
      "dep_delay     float64\n",
      "arr_time      float64\n",
      "arr_delay     float64\n",
      "carrier        object\n",
      "tailnum        object\n",
      "flight          int64\n",
      "origin         object\n",
      "dest           object\n",
      "air_time      float64\n",
      "distance        int64\n",
      "hour          float64\n",
      "minute        float64\n",
      "dtype: object\n"
     ]
    }
   ],
   "source": [
    "#dimensions of the flights dataset. O/P: (rows,columns)\n",
    "print (flights_df.shape)\n",
    "\n",
    "#column names of flights\n",
    "print (flights_df.columns)\n",
    "\n",
    "#data types of each variable in the dataset\n",
    "print (flights_df.dtypes)"
   ]
  },
  {
   "cell_type": "code",
   "execution_count": 5,
   "metadata": {
    "collapsed": false
   },
   "outputs": [
    {
     "data": {
      "text/html": [
       "<div>\n",
       "<table border=\"1\" class=\"dataframe\">\n",
       "  <thead>\n",
       "    <tr style=\"text-align: right;\">\n",
       "      <th></th>\n",
       "      <th>Unnamed: 0</th>\n",
       "      <th>year</th>\n",
       "      <th>month</th>\n",
       "      <th>day</th>\n",
       "      <th>dep_time</th>\n",
       "      <th>dep_delay</th>\n",
       "      <th>arr_time</th>\n",
       "      <th>arr_delay</th>\n",
       "      <th>carrier</th>\n",
       "      <th>tailnum</th>\n",
       "      <th>flight</th>\n",
       "      <th>origin</th>\n",
       "      <th>dest</th>\n",
       "      <th>air_time</th>\n",
       "      <th>distance</th>\n",
       "      <th>hour</th>\n",
       "      <th>minute</th>\n",
       "    </tr>\n",
       "  </thead>\n",
       "  <tbody>\n",
       "    <tr>\n",
       "      <th>0</th>\n",
       "      <td>1</td>\n",
       "      <td>2013</td>\n",
       "      <td>1</td>\n",
       "      <td>1</td>\n",
       "      <td>517.0</td>\n",
       "      <td>2.0</td>\n",
       "      <td>830.0</td>\n",
       "      <td>11.0</td>\n",
       "      <td>UA</td>\n",
       "      <td>N14228</td>\n",
       "      <td>1545</td>\n",
       "      <td>EWR</td>\n",
       "      <td>IAH</td>\n",
       "      <td>227.0</td>\n",
       "      <td>1400</td>\n",
       "      <td>5.0</td>\n",
       "      <td>17.0</td>\n",
       "    </tr>\n",
       "    <tr>\n",
       "      <th>1</th>\n",
       "      <td>2</td>\n",
       "      <td>2013</td>\n",
       "      <td>1</td>\n",
       "      <td>1</td>\n",
       "      <td>533.0</td>\n",
       "      <td>4.0</td>\n",
       "      <td>850.0</td>\n",
       "      <td>20.0</td>\n",
       "      <td>UA</td>\n",
       "      <td>N24211</td>\n",
       "      <td>1714</td>\n",
       "      <td>LGA</td>\n",
       "      <td>IAH</td>\n",
       "      <td>227.0</td>\n",
       "      <td>1416</td>\n",
       "      <td>5.0</td>\n",
       "      <td>33.0</td>\n",
       "    </tr>\n",
       "    <tr>\n",
       "      <th>2</th>\n",
       "      <td>3</td>\n",
       "      <td>2013</td>\n",
       "      <td>1</td>\n",
       "      <td>1</td>\n",
       "      <td>542.0</td>\n",
       "      <td>2.0</td>\n",
       "      <td>923.0</td>\n",
       "      <td>33.0</td>\n",
       "      <td>AA</td>\n",
       "      <td>N619AA</td>\n",
       "      <td>1141</td>\n",
       "      <td>JFK</td>\n",
       "      <td>MIA</td>\n",
       "      <td>160.0</td>\n",
       "      <td>1089</td>\n",
       "      <td>5.0</td>\n",
       "      <td>42.0</td>\n",
       "    </tr>\n",
       "    <tr>\n",
       "      <th>3</th>\n",
       "      <td>4</td>\n",
       "      <td>2013</td>\n",
       "      <td>1</td>\n",
       "      <td>1</td>\n",
       "      <td>544.0</td>\n",
       "      <td>-1.0</td>\n",
       "      <td>1004.0</td>\n",
       "      <td>-18.0</td>\n",
       "      <td>B6</td>\n",
       "      <td>N804JB</td>\n",
       "      <td>725</td>\n",
       "      <td>JFK</td>\n",
       "      <td>BQN</td>\n",
       "      <td>183.0</td>\n",
       "      <td>1576</td>\n",
       "      <td>5.0</td>\n",
       "      <td>44.0</td>\n",
       "    </tr>\n",
       "    <tr>\n",
       "      <th>4</th>\n",
       "      <td>5</td>\n",
       "      <td>2013</td>\n",
       "      <td>1</td>\n",
       "      <td>1</td>\n",
       "      <td>554.0</td>\n",
       "      <td>-6.0</td>\n",
       "      <td>812.0</td>\n",
       "      <td>-25.0</td>\n",
       "      <td>DL</td>\n",
       "      <td>N668DN</td>\n",
       "      <td>461</td>\n",
       "      <td>LGA</td>\n",
       "      <td>ATL</td>\n",
       "      <td>116.0</td>\n",
       "      <td>762</td>\n",
       "      <td>5.0</td>\n",
       "      <td>54.0</td>\n",
       "    </tr>\n",
       "    <tr>\n",
       "      <th>5</th>\n",
       "      <td>6</td>\n",
       "      <td>2013</td>\n",
       "      <td>1</td>\n",
       "      <td>1</td>\n",
       "      <td>554.0</td>\n",
       "      <td>-4.0</td>\n",
       "      <td>740.0</td>\n",
       "      <td>12.0</td>\n",
       "      <td>UA</td>\n",
       "      <td>N39463</td>\n",
       "      <td>1696</td>\n",
       "      <td>EWR</td>\n",
       "      <td>ORD</td>\n",
       "      <td>150.0</td>\n",
       "      <td>719</td>\n",
       "      <td>5.0</td>\n",
       "      <td>54.0</td>\n",
       "    </tr>\n",
       "    <tr>\n",
       "      <th>6</th>\n",
       "      <td>7</td>\n",
       "      <td>2013</td>\n",
       "      <td>1</td>\n",
       "      <td>1</td>\n",
       "      <td>555.0</td>\n",
       "      <td>-5.0</td>\n",
       "      <td>913.0</td>\n",
       "      <td>19.0</td>\n",
       "      <td>B6</td>\n",
       "      <td>N516JB</td>\n",
       "      <td>507</td>\n",
       "      <td>EWR</td>\n",
       "      <td>FLL</td>\n",
       "      <td>158.0</td>\n",
       "      <td>1065</td>\n",
       "      <td>5.0</td>\n",
       "      <td>55.0</td>\n",
       "    </tr>\n",
       "    <tr>\n",
       "      <th>7</th>\n",
       "      <td>8</td>\n",
       "      <td>2013</td>\n",
       "      <td>1</td>\n",
       "      <td>1</td>\n",
       "      <td>557.0</td>\n",
       "      <td>-3.0</td>\n",
       "      <td>709.0</td>\n",
       "      <td>-14.0</td>\n",
       "      <td>EV</td>\n",
       "      <td>N829AS</td>\n",
       "      <td>5708</td>\n",
       "      <td>LGA</td>\n",
       "      <td>IAD</td>\n",
       "      <td>53.0</td>\n",
       "      <td>229</td>\n",
       "      <td>5.0</td>\n",
       "      <td>57.0</td>\n",
       "    </tr>\n",
       "    <tr>\n",
       "      <th>8</th>\n",
       "      <td>9</td>\n",
       "      <td>2013</td>\n",
       "      <td>1</td>\n",
       "      <td>1</td>\n",
       "      <td>557.0</td>\n",
       "      <td>-3.0</td>\n",
       "      <td>838.0</td>\n",
       "      <td>-8.0</td>\n",
       "      <td>B6</td>\n",
       "      <td>N593JB</td>\n",
       "      <td>79</td>\n",
       "      <td>JFK</td>\n",
       "      <td>MCO</td>\n",
       "      <td>140.0</td>\n",
       "      <td>944</td>\n",
       "      <td>5.0</td>\n",
       "      <td>57.0</td>\n",
       "    </tr>\n",
       "    <tr>\n",
       "      <th>9</th>\n",
       "      <td>10</td>\n",
       "      <td>2013</td>\n",
       "      <td>1</td>\n",
       "      <td>1</td>\n",
       "      <td>558.0</td>\n",
       "      <td>-2.0</td>\n",
       "      <td>753.0</td>\n",
       "      <td>8.0</td>\n",
       "      <td>AA</td>\n",
       "      <td>N3ALAA</td>\n",
       "      <td>301</td>\n",
       "      <td>LGA</td>\n",
       "      <td>ORD</td>\n",
       "      <td>138.0</td>\n",
       "      <td>733</td>\n",
       "      <td>5.0</td>\n",
       "      <td>58.0</td>\n",
       "    </tr>\n",
       "  </tbody>\n",
       "</table>\n",
       "</div>"
      ],
      "text/plain": [
       "   Unnamed: 0  year  month  day  dep_time  dep_delay  arr_time  arr_delay  \\\n",
       "0           1  2013      1    1     517.0        2.0     830.0       11.0   \n",
       "1           2  2013      1    1     533.0        4.0     850.0       20.0   \n",
       "2           3  2013      1    1     542.0        2.0     923.0       33.0   \n",
       "3           4  2013      1    1     544.0       -1.0    1004.0      -18.0   \n",
       "4           5  2013      1    1     554.0       -6.0     812.0      -25.0   \n",
       "5           6  2013      1    1     554.0       -4.0     740.0       12.0   \n",
       "6           7  2013      1    1     555.0       -5.0     913.0       19.0   \n",
       "7           8  2013      1    1     557.0       -3.0     709.0      -14.0   \n",
       "8           9  2013      1    1     557.0       -3.0     838.0       -8.0   \n",
       "9          10  2013      1    1     558.0       -2.0     753.0        8.0   \n",
       "\n",
       "  carrier tailnum  flight origin dest  air_time  distance  hour  minute  \n",
       "0      UA  N14228    1545    EWR  IAH     227.0      1400   5.0    17.0  \n",
       "1      UA  N24211    1714    LGA  IAH     227.0      1416   5.0    33.0  \n",
       "2      AA  N619AA    1141    JFK  MIA     160.0      1089   5.0    42.0  \n",
       "3      B6  N804JB     725    JFK  BQN     183.0      1576   5.0    44.0  \n",
       "4      DL  N668DN     461    LGA  ATL     116.0       762   5.0    54.0  \n",
       "5      UA  N39463    1696    EWR  ORD     150.0       719   5.0    54.0  \n",
       "6      B6  N516JB     507    EWR  FLL     158.0      1065   5.0    55.0  \n",
       "7      EV  N829AS    5708    LGA  IAD      53.0       229   5.0    57.0  \n",
       "8      B6  N593JB      79    JFK  MCO     140.0       944   5.0    57.0  \n",
       "9      AA  N3ALAA     301    LGA  ORD     138.0       733   5.0    58.0  "
      ]
     },
     "execution_count": 5,
     "metadata": {},
     "output_type": "execute_result"
    }
   ],
   "source": [
    "#select all unique destinations \n",
    "flights_df.dest.unique()\n",
    "\n",
    "#view initial 10 rows in the dataset\n",
    "flights_df.head(10)"
   ]
  },
  {
   "cell_type": "markdown",
   "metadata": {},
   "source": [
    "##Some Tips\n",
    "\n",
    "* This assignment involves extensive Data frame splitting and aggregation. You should look into the details of the methods groupby, transform, sum, count, mean etc\n",
    "* Many of the tasks in the assignment can be done either through the Pandas Data Frame or by converting the data frames to Series. Many of the methods in the numpy are applicable to Series only. When stuck, try to explore the type of object (Pandas Data Frame or Numpy Series) you are dealing with."
   ]
  },
  {
   "cell_type": "markdown",
   "metadata": {},
   "source": [
    "##Question 1\n",
    "Let’s explore flights from NYC to Seattle. Use the flights dataset to answer the following questions.\n",
    "\n",
    "(a) How many flights were there from NYC airports to Seattle in 2013?"
   ]
  },
  {
   "cell_type": "code",
   "execution_count": 6,
   "metadata": {
    "collapsed": false
   },
   "outputs": [
    {
     "data": {
      "text/plain": [
       "3923"
      ]
     },
     "execution_count": 6,
     "metadata": {},
     "output_type": "execute_result"
    }
   ],
   "source": [
    "#unique origin airports\n",
    "flights_df.origin.unique()\n",
    "\n",
    "#select the subset of the data where the destination is Seattle. Count such flights.\n",
    "flights_df[(flights_df.dest == 'SEA')].dest.count()"
   ]
  },
  {
   "cell_type": "markdown",
   "metadata": {},
   "source": [
    "There are three originating airports in the dataset - EWR, LGA, JFK. Considering these three are in the NYC, I will calculate the number of flights flying from NYC to Seattle. \n",
    "There are 3923 flights that are listed as destination Seattle."
   ]
  },
  {
   "cell_type": "markdown",
   "metadata": {},
   "source": [
    "(b) How many airlines fly from NYC to Seattle?"
   ]
  },
  {
   "cell_type": "code",
   "execution_count": 7,
   "metadata": {
    "collapsed": false
   },
   "outputs": [
    {
     "data": {
      "text/plain": [
       "5"
      ]
     },
     "execution_count": 7,
     "metadata": {},
     "output_type": "execute_result"
    }
   ],
   "source": [
    "#unique airlines in the dataset\n",
    "(flights_df.carrier.unique()).size\n",
    "\n",
    "#carriers flying to Seattle\n",
    "(flights_df[(flights_df.dest == 'SEA')].carrier.unique()).size"
   ]
  },
  {
   "cell_type": "markdown",
   "metadata": {},
   "source": [
    "There are overall 16 unique carriers listed in the dataset.\n",
    "Of these 16 carriers only 5 carriers fly to Seattle from NYC."
   ]
  },
  {
   "cell_type": "markdown",
   "metadata": {},
   "source": [
    "(c) How many unique air planes fly from NYC to Seattle?"
   ]
  },
  {
   "cell_type": "code",
   "execution_count": 8,
   "metadata": {
    "collapsed": false
   },
   "outputs": [
    {
     "data": {
      "text/plain": [
       "935"
      ]
     },
     "execution_count": 8,
     "metadata": {},
     "output_type": "execute_result"
    }
   ],
   "source": [
    "#Subset the dataset with destination as Seattle and then find unique Airplanes(using tailnums)\n",
    "sum(~pd.isnull(flights_df[(flights_df.dest == 'SEA')].tailnum.unique()))\n"
   ]
  },
  {
   "cell_type": "markdown",
   "metadata": {},
   "source": [
    "There are 935 unique airplanes flying from NYC to Seattle"
   ]
  },
  {
   "cell_type": "markdown",
   "metadata": {},
   "source": [
    "(d) What is the average arrival delay for flights from NYC to Seattle?"
   ]
  },
  {
   "cell_type": "code",
   "execution_count": 9,
   "metadata": {
    "collapsed": false
   },
   "outputs": [
    {
     "data": {
      "text/plain": [
       "-1.0990990990990992"
      ]
     },
     "execution_count": 9,
     "metadata": {},
     "output_type": "execute_result"
    }
   ],
   "source": [
    "#calculate the mean by subsetting the data with destination as Seattle\n",
    "flights_df[(flights_df.dest == 'SEA')].arr_delay.mean()"
   ]
  },
  {
   "cell_type": "markdown",
   "metadata": {},
   "source": [
    "The average arrival delay of the flights flying from NYC to Seattle is -1.099. This can be approximated to -1.10. A negative value means that on average the flights flying from NYC to Seattle arrive \"early\" by 1.10 mins"
   ]
  },
  {
   "cell_type": "markdown",
   "metadata": {},
   "source": [
    "(e) What proportion of flights to Seattle come from each NYC airport?"
   ]
  },
  {
   "cell_type": "code",
   "execution_count": 10,
   "metadata": {
    "collapsed": false
   },
   "outputs": [
    {
     "data": {
      "text/html": [
       "<div>\n",
       "<table border=\"1\" class=\"dataframe\">\n",
       "  <thead>\n",
       "    <tr style=\"text-align: right;\">\n",
       "      <th>col_0</th>\n",
       "      <th>count</th>\n",
       "    </tr>\n",
       "    <tr>\n",
       "      <th>origin</th>\n",
       "      <th></th>\n",
       "    </tr>\n",
       "  </thead>\n",
       "  <tbody>\n",
       "    <tr>\n",
       "      <th>EWR</th>\n",
       "      <td>0.466735</td>\n",
       "    </tr>\n",
       "    <tr>\n",
       "      <th>JFK</th>\n",
       "      <td>0.533265</td>\n",
       "    </tr>\n",
       "  </tbody>\n",
       "</table>\n",
       "</div>"
      ],
      "text/plain": [
       "col_0      count\n",
       "origin          \n",
       "EWR     0.466735\n",
       "JFK     0.533265"
      ]
     },
     "execution_count": 10,
     "metadata": {},
     "output_type": "execute_result"
    }
   ],
   "source": [
    "#Make a crosstabulation of the flights coming from NYC to SEA\n",
    "flights_toSEA = pd.crosstab(index=flights_df[(flights_df.dest == 'SEA')].origin, columns = \"count\")\n",
    "\n",
    "#Calculate the proportion by dividing the sum\n",
    "flights_toSEA / flights_toSEA.sum()"
   ]
  },
  {
   "cell_type": "markdown",
   "metadata": {},
   "source": [
    " No flights fly from LGA so that accounts to 0.0\n",
    " The proportion of flights flying from EWR to SEA is 0.467\n",
    " The proportion of flights flying from JFK to SEA is 0.533"
   ]
  },
  {
   "cell_type": "markdown",
   "metadata": {},
   "source": [
    "## Question 2\n",
    "Flights are often delayed. Consider the following questions exploring delay patterns.\n",
    "\n",
    "(a) Which date has the largest average departure delay? Which date has the largest average arrival delay?"
   ]
  },
  {
   "cell_type": "code",
   "execution_count": 11,
   "metadata": {
    "collapsed": false
   },
   "outputs": [
    {
     "data": {
      "text/plain": [
       "month  day\n",
       "3      8      83.536921\n",
       "Name: dep_delay, dtype: float64"
      ]
     },
     "execution_count": 11,
     "metadata": {},
     "output_type": "execute_result"
    }
   ],
   "source": [
    "#creating a groupby table which is indexed by Month and Day and not year because the data is for 2013 year\n",
    "#the departure delay is then aggregated for every date\n",
    "dep_delay_by_date = flights_df.groupby(['month','day'])['dep_delay'].mean()\n",
    "\n",
    "#select the the date for largest average departure delay\n",
    "dep_delay_by_date[(dep_delay_by_date == dep_delay_by_date.max())]"
   ]
  },
  {
   "cell_type": "code",
   "execution_count": 12,
   "metadata": {
    "collapsed": false
   },
   "outputs": [
    {
     "data": {
      "text/plain": [
       "month  day\n",
       "3      8      85.862155\n",
       "Name: arr_delay, dtype: float64"
      ]
     },
     "execution_count": 12,
     "metadata": {},
     "output_type": "execute_result"
    }
   ],
   "source": [
    "#creating a groupby table which is indexed by Month and Day and not year because the data is for 2013 year\n",
    "#the arrival delay is then aggregated for every date\n",
    "arr_delay_by_date = flights_df.groupby(['month','day'])['arr_delay'].mean()\n",
    "\n",
    "#select the the date for largest average arrival delay\n",
    "arr_delay_by_date[(arr_delay_by_date == arr_delay_by_date.max())]"
   ]
  },
  {
   "cell_type": "markdown",
   "metadata": {},
   "source": [
    " 8th of March seems to have the worst average departure and average arrival delay.\n",
    " The worst avearge departure delay is 83.54 minutes.\n",
    " The worst avearge arrival delay is 85.86 minutes."
   ]
  },
  {
   "cell_type": "markdown",
   "metadata": {},
   "source": [
    "(b) What was the worst day to fly out of NYC in 2013 if you dislike delayed flights?\n"
   ]
  },
  {
   "cell_type": "code",
   "execution_count": 13,
   "metadata": {
    "collapsed": false
   },
   "outputs": [
    {
     "data": {
      "text/plain": [
       "month  day\n",
       "12     23     674\n",
       "Name: dep_delay, dtype: int64"
      ]
     },
     "execution_count": 13,
     "metadata": {},
     "output_type": "execute_result"
    }
   ],
   "source": [
    "#groupby the number of flights only if there is departure delay (departure delay is greater than 0)\n",
    "num_delayedflights = flights_df[flights_df.dep_delay>0.0].groupby(['month','day'])['dep_delay'].count()\n",
    "\n",
    "#retrieve the date for the maximum number of delayed flights\n",
    "num_delayedflights[(num_delayedflights== num_delayedflights.max())]"
   ]
  },
  {
   "cell_type": "markdown",
   "metadata": {},
   "source": [
    "If we consider the number of flights that were delayed then 23rd December is the worst day to fly out because there were 674 flights that got delayed while departing."
   ]
  },
  {
   "cell_type": "markdown",
   "metadata": {},
   "source": [
    "(c) Are there any seasonal patterns in departure delays for flights from NYC?"
   ]
  },
  {
   "cell_type": "code",
   "execution_count": 14,
   "metadata": {
    "collapsed": false
   },
   "outputs": [
    {
     "data": {
      "text/plain": [
       "<matplotlib.legend.Legend at 0x1f6cbc64e10>"
      ]
     },
     "execution_count": 14,
     "metadata": {},
     "output_type": "execute_result"
    },
    {
     "data": {
      "image/png": "[encoded data removed]",
      "text/plain": [
       "<matplotlib.figure.Figure at 0x1f6cb8cab38>"
      ]
     },
     "metadata": {},
     "output_type": "display_data"
    }
   ],
   "source": [
    "#plot the data by averaging the departure delay by months\n",
    "plt.plot(flights_df.groupby(['month'])['dep_delay'].mean(), label = \"Avg Delays\",linewidth =2.0)\n",
    "\n",
    "#set the x-axis label to months\n",
    "plt.xlabel('Months')\n",
    "\n",
    "#set the x-axis to not plot 0 month\n",
    "plt.xlim(1,12)\n",
    "\n",
    "#increase the number of visible ticks to individual months to show all months\n",
    "plt.xticks(range(1,13))\n",
    "\n",
    "#set the y-label to average delay \n",
    "plt.ylabel('Avg Delay (in mins)')\n",
    "\n",
    "#set the limits of y-axis\n",
    "plt.ylim(0,25)\n",
    "\n",
    "#set the grid to true\n",
    "plt.grid(True)\n",
    "\n",
    "#plot legends\n",
    "plt.legend()"
   ]
  },
  {
   "cell_type": "markdown",
   "metadata": {},
   "source": [
    "There is no seasonal pattern as such in the departure delays. \n",
    "The departure delay keeps on steadily increasing from Winter(January to March) until April then it starts to decrease only to shoot up in Summer. We observe high departure delays in the starting months of summers June and July. From July onwards the average departure delay decreases and shoots up in December."
   ]
  },
  {
   "cell_type": "markdown",
   "metadata": {},
   "source": [
    "(d) On average, how do departure delays vary over the course of a day?"
   ]
  },
  {
   "cell_type": "code",
   "execution_count": 15,
   "metadata": {
    "collapsed": false
   },
   "outputs": [
    {
     "data": {
      "text/plain": [
       "<matplotlib.legend.Legend at 0x1f6cc05c3c8>"
      ]
     },
     "execution_count": 15,
     "metadata": {},
     "output_type": "execute_result"
    },
    {
     "data": {
      "image/png": "[encoded data removed]",
      "text/plain": [
       "<matplotlib.figure.Figure at 0x1f6caa83470>"
      ]
     },
     "metadata": {},
     "output_type": "display_data"
    }
   ],
   "source": [
    "#plot the data by averaging the departure delay by months\n",
    "plt.plot(flights_df.groupby(['hour'])['dep_delay'].mean(), label = \"Avg Delays\",linewidth =2.0)\n",
    "\n",
    "#set the y-label to average delay \n",
    "plt.ylabel('Avg. Delay (in mins)')\n",
    "\n",
    "#set the limits of y-axis\n",
    "plt.ylim(-20,350)\n",
    "\n",
    "#set the x-axis label to hours\n",
    "plt.xlabel('Hours')\n",
    "\n",
    "#set the x-axis to hours limit of 0-23 \n",
    "plt.xlim(0,23)\n",
    "\n",
    "#increase the number of visible ticks to individual hour to show all hours\n",
    "plt.xticks(range(0,25))\n",
    "\n",
    "#set the grid to true\n",
    "plt.grid(True)\n",
    "\n",
    "#plot legends\n",
    "plt.legend()"
   ]
  },
  {
   "cell_type": "markdown",
   "metadata": {},
   "source": [
    "Post-midnight the average departure delays keeps on increasing until 3 AM. After that we observe a very steep decline and the flights tend to depart early(-ve average departure delay) until 6 AM. There after, we observe steady increase in the departure delays"
   ]
  },
  {
   "cell_type": "markdown",
   "metadata": {},
   "source": [
    "## Question 3\n",
    "    Which flight departing NYC in 2013 flew the fastest?"
   ]
  },
  {
   "cell_type": "code",
   "execution_count": 16,
   "metadata": {
    "collapsed": false
   },
   "outputs": [
    {
     "data": {
      "text/html": [
       "<div>\n",
       "<table border=\"1\" class=\"dataframe\">\n",
       "  <thead>\n",
       "    <tr style=\"text-align: right;\">\n",
       "      <th></th>\n",
       "      <th>Unnamed: 0</th>\n",
       "      <th>year</th>\n",
       "      <th>month</th>\n",
       "      <th>day</th>\n",
       "      <th>dep_time</th>\n",
       "      <th>dep_delay</th>\n",
       "      <th>arr_time</th>\n",
       "      <th>arr_delay</th>\n",
       "      <th>carrier</th>\n",
       "      <th>tailnum</th>\n",
       "      <th>flight</th>\n",
       "      <th>origin</th>\n",
       "      <th>dest</th>\n",
       "      <th>air_time</th>\n",
       "      <th>distance</th>\n",
       "      <th>hour</th>\n",
       "      <th>minute</th>\n",
       "      <th>speed</th>\n",
       "    </tr>\n",
       "  </thead>\n",
       "  <tbody>\n",
       "    <tr>\n",
       "      <th>216447</th>\n",
       "      <td>216448</td>\n",
       "      <td>2013</td>\n",
       "      <td>5</td>\n",
       "      <td>25</td>\n",
       "      <td>1709.0</td>\n",
       "      <td>9.0</td>\n",
       "      <td>1923.0</td>\n",
       "      <td>-14.0</td>\n",
       "      <td>DL</td>\n",
       "      <td>N666DN</td>\n",
       "      <td>1499</td>\n",
       "      <td>LGA</td>\n",
       "      <td>ATL</td>\n",
       "      <td>65.0</td>\n",
       "      <td>762</td>\n",
       "      <td>17.0</td>\n",
       "      <td>9.0</td>\n",
       "      <td>703.384615</td>\n",
       "    </tr>\n",
       "  </tbody>\n",
       "</table>\n",
       "</div>"
      ],
      "text/plain": [
       "        Unnamed: 0  year  month  day  dep_time  dep_delay  arr_time  \\\n",
       "216447      216448  2013      5   25    1709.0        9.0    1923.0   \n",
       "\n",
       "        arr_delay carrier tailnum  flight origin dest  air_time  distance  \\\n",
       "216447      -14.0      DL  N666DN    1499    LGA  ATL      65.0       762   \n",
       "\n",
       "        hour  minute       speed  \n",
       "216447  17.0     9.0  703.384615  "
      ]
     },
     "execution_count": 16,
     "metadata": {},
     "output_type": "execute_result"
    }
   ],
   "source": [
    "#compute the speed variable. Divide the time by 60 because we are now \n",
    "#considering the speed which is measured in miles per hour\n",
    "flights_df['speed'] = flights_df.distance / (flights_df.air_time/60)\n",
    "\n",
    "#Find the row with the maximum flight speed\n",
    "flights_df[(flights_df.speed == flights_df.speed.max())]"
   ]
  },
  {
   "cell_type": "markdown",
   "metadata": {},
   "source": [
    " Flight number 1499 flying from LaGuardia to Atlanta on 25th May flew the fastest with a speed of 703.38 MPH."
   ]
  },
  {
   "cell_type": "markdown",
   "metadata": {},
   "source": [
    "## Question 4\n",
    "Which flights (i.e. carrier + flight + dest) happen every day? Where do they fly to?"
   ]
  },
  {
   "cell_type": "code",
   "execution_count": 17,
   "metadata": {
    "collapsed": false
   },
   "outputs": [
    {
     "name": "stdout",
     "output_type": "stream",
     "text": [
      "                     year\n",
      "carrier flight dest      \n",
      "AA      1611   MIA    365\n",
      "B6      703    SJU    365\n",
      "AA      1357   SJU    365\n",
      "VX      413    LAX    365\n",
      "B6      219    CLT    365\n",
      "UA      15     HNL    365\n",
      "B6      359    BUR    365\n",
      "        371    FLL    365\n",
      "        431    SRQ    365\n",
      "AA      181    LAX    365\n",
      "DL      2159   MCO    365\n",
      "AA      119    LAX    365\n",
      "VX      407    LAX    365\n",
      "EV      5712   IAD    365\n",
      "VX      251    LAS    365\n",
      "AA      59     SFO    365\n",
      "B6      1783   MCO    365\n",
      "DL      2391   TPA    365\n",
      "There are 18 (carrier, flight and destination) combinations. \n"
     ]
    }
   ],
   "source": [
    "#group by carrier, flight number and destination. Count the number of rows in each group\n",
    "a = flights_df.groupby(['carrier','flight','dest']).count()\n",
    "\n",
    "#sort the result in descending order of the count for each group of \"carrier, flight and destination\"\n",
    "a = a.sort_values('Unnamed: 0', ascending = False)\n",
    "\n",
    "#retrieve the ones only with the count as 365. This implies that for each day there was a flight from NYC to the destination.\n",
    "#I am assuming that the a particular airline flying to a destination has a unique flight number which does not repeat in the \n",
    "#day\n",
    "a = a[(a.year == 365)]\n",
    "\n",
    "#view all such flights\n",
    "print(a[[1]])\n",
    "\n",
    "#Number of such flight combinations\n",
    "print(\"There are %d (carrier, flight and destination) combinations. \"%(a[[1]].shape[0]))"
   ]
  },
  {
   "cell_type": "markdown",
   "metadata": {},
   "source": [
    "To answer this question I am assuming that an airline flies to a particular destination in the same day with a particular unique flight number. So even though an airline flies to a particular destination multiple times, it will have a different flight number. This makes the combination of carrier, flight and destination unique.\n",
    "Keeping this in mind, I performed a group by carrier, flight and destination. The groups (carrier, flight and destination) with the occurence count as 365, implies they flew daily for every day of the year (365 days).\n",
    "\n",
    "There are 18 such flight combinations (carrier, flight, destination) that fly daily.\n",
    "\n",
    "American Airlines (AA) flew to destinations - Miami (MIA - 1611), San Juan (SJU - 1357), Los Angeles (LAX - 181, LAX - 119), San Fransico (SFO - 59)\n",
    "JetBlue Airlines (B6) flew to destinations - San Juan (SJU - 703), Charlotte (CLT - 219), Burbank (BUR - 359), Fort Lauderdale (FLL 371), Sarasota–Bradenton (SRQ - 431), Orlando (MCO - 1783)\n",
    "Virgin America (VX) flew to destinations - Los Angeles (LAX - 413, LAX - 407), Las Vegas (LAS - 251)\n",
    "United America (UA) flew to destinations - Honululu (HON - 15)\n",
    "Delta (DL) flew to destinations - Orlando (MCO -2159), Tampa (TPA - 2391)\n",
    "Eva Air (EV) flew to destination - Dulles (IAD - 5712)"
   ]
  },
  {
   "cell_type": "markdown",
   "metadata": {},
   "source": [
    "## Question 5\n",
    "Develop one research question you can address using the nycflights2013 dataset. Provide two visualizations to support your exploration of this question. Discuss what you find.\n"
   ]
  },
  {
   "cell_type": "code",
   "execution_count": 18,
   "metadata": {
    "collapsed": false
   },
   "outputs": [
    {
     "data": {
      "text/html": [
       "<div>\n",
       "<table border=\"1\" class=\"dataframe\">\n",
       "  <thead>\n",
       "    <tr style=\"text-align: right;\">\n",
       "      <th></th>\n",
       "      <th>Unnamed: 0</th>\n",
       "      <th>year</th>\n",
       "      <th>month</th>\n",
       "      <th>day</th>\n",
       "      <th>dep_time</th>\n",
       "      <th>dep_delay</th>\n",
       "      <th>arr_time</th>\n",
       "      <th>arr_delay</th>\n",
       "      <th>flight</th>\n",
       "      <th>air_time</th>\n",
       "      <th>distance</th>\n",
       "      <th>hour</th>\n",
       "      <th>minute</th>\n",
       "      <th>speed</th>\n",
       "    </tr>\n",
       "  </thead>\n",
       "  <tbody>\n",
       "    <tr>\n",
       "      <th>Unnamed: 0</th>\n",
       "      <td>1.000000</td>\n",
       "      <td>NaN</td>\n",
       "      <td>0.071779</td>\n",
       "      <td>0.087852</td>\n",
       "      <td>0.002172</td>\n",
       "      <td>0.049713</td>\n",
       "      <td>-0.024680</td>\n",
       "      <td>0.018613</td>\n",
       "      <td>0.002676</td>\n",
       "      <td>-0.032866</td>\n",
       "      <td>0.012526</td>\n",
       "      <td>0.002236</td>\n",
       "      <td>-0.001849</td>\n",
       "      <td>0.194342</td>\n",
       "    </tr>\n",
       "    <tr>\n",
       "      <th>year</th>\n",
       "      <td>NaN</td>\n",
       "      <td>NaN</td>\n",
       "      <td>NaN</td>\n",
       "      <td>NaN</td>\n",
       "      <td>NaN</td>\n",
       "      <td>NaN</td>\n",
       "      <td>NaN</td>\n",
       "      <td>NaN</td>\n",
       "      <td>NaN</td>\n",
       "      <td>NaN</td>\n",
       "      <td>NaN</td>\n",
       "      <td>NaN</td>\n",
       "      <td>NaN</td>\n",
       "      <td>NaN</td>\n",
       "    </tr>\n",
       "    <tr>\n",
       "      <th>month</th>\n",
       "      <td>0.071779</td>\n",
       "      <td>NaN</td>\n",
       "      <td>1.000000</td>\n",
       "      <td>0.002942</td>\n",
       "      <td>-0.003932</td>\n",
       "      <td>-0.020057</td>\n",
       "      <td>-0.002520</td>\n",
       "      <td>-0.017382</td>\n",
       "      <td>-0.000834</td>\n",
       "      <td>0.010924</td>\n",
       "      <td>0.021636</td>\n",
       "      <td>-0.004118</td>\n",
       "      <td>0.005242</td>\n",
       "      <td>0.062572</td>\n",
       "    </tr>\n",
       "    <tr>\n",
       "      <th>day</th>\n",
       "      <td>0.087852</td>\n",
       "      <td>NaN</td>\n",
       "      <td>0.002942</td>\n",
       "      <td>1.000000</td>\n",
       "      <td>-0.000467</td>\n",
       "      <td>0.000420</td>\n",
       "      <td>-0.005537</td>\n",
       "      <td>-0.000319</td>\n",
       "      <td>-0.001791</td>\n",
       "      <td>0.002236</td>\n",
       "      <td>0.003041</td>\n",
       "      <td>-0.000426</td>\n",
       "      <td>-0.001086</td>\n",
       "      <td>0.009830</td>\n",
       "    </tr>\n",
       "    <tr>\n",
       "      <th>dep_time</th>\n",
       "      <td>0.002172</td>\n",
       "      <td>NaN</td>\n",
       "      <td>-0.003932</td>\n",
       "      <td>-0.000467</td>\n",
       "      <td>1.000000</td>\n",
       "      <td>0.260231</td>\n",
       "      <td>0.660779</td>\n",
       "      <td>0.232306</td>\n",
       "      <td>0.041957</td>\n",
       "      <td>-0.014619</td>\n",
       "      <td>-0.013998</td>\n",
       "      <td>0.999307</td>\n",
       "      <td>-0.045081</td>\n",
       "      <td>-0.029196</td>\n",
       "    </tr>\n",
       "    <tr>\n",
       "      <th>dep_delay</th>\n",
       "      <td>0.049713</td>\n",
       "      <td>NaN</td>\n",
       "      <td>-0.020057</td>\n",
       "      <td>0.000420</td>\n",
       "      <td>0.260231</td>\n",
       "      <td>1.000000</td>\n",
       "      <td>0.028729</td>\n",
       "      <td>0.914803</td>\n",
       "      <td>0.054734</td>\n",
       "      <td>-0.022405</td>\n",
       "      <td>-0.021671</td>\n",
       "      <td>0.261786</td>\n",
       "      <td>-0.058306</td>\n",
       "      <td>-0.007766</td>\n",
       "    </tr>\n",
       "    <tr>\n",
       "      <th>arr_time</th>\n",
       "      <td>-0.024680</td>\n",
       "      <td>NaN</td>\n",
       "      <td>-0.002520</td>\n",
       "      <td>-0.005537</td>\n",
       "      <td>0.660779</td>\n",
       "      <td>0.028729</td>\n",
       "      <td>1.000000</td>\n",
       "      <td>0.024482</td>\n",
       "      <td>0.025042</td>\n",
       "      <td>0.054296</td>\n",
       "      <td>0.046991</td>\n",
       "      <td>0.660232</td>\n",
       "      <td>-0.027331</td>\n",
       "      <td>0.001102</td>\n",
       "    </tr>\n",
       "    <tr>\n",
       "      <th>arr_delay</th>\n",
       "      <td>0.018613</td>\n",
       "      <td>NaN</td>\n",
       "      <td>-0.017382</td>\n",
       "      <td>-0.000319</td>\n",
       "      <td>0.232306</td>\n",
       "      <td>0.914803</td>\n",
       "      <td>0.024482</td>\n",
       "      <td>1.000000</td>\n",
       "      <td>0.072862</td>\n",
       "      <td>-0.035297</td>\n",
       "      <td>-0.061868</td>\n",
       "      <td>0.233851</td>\n",
       "      <td>-0.056303</td>\n",
       "      <td>-0.135189</td>\n",
       "    </tr>\n",
       "    <tr>\n",
       "      <th>flight</th>\n",
       "      <td>0.002676</td>\n",
       "      <td>NaN</td>\n",
       "      <td>-0.000834</td>\n",
       "      <td>-0.001791</td>\n",
       "      <td>0.041957</td>\n",
       "      <td>0.054734</td>\n",
       "      <td>0.025042</td>\n",
       "      <td>0.072862</td>\n",
       "      <td>1.000000</td>\n",
       "      <td>-0.472838</td>\n",
       "      <td>-0.484165</td>\n",
       "      <td>0.042334</td>\n",
       "      <td>-0.012782</td>\n",
       "      <td>-0.376182</td>\n",
       "    </tr>\n",
       "    <tr>\n",
       "      <th>air_time</th>\n",
       "      <td>-0.032866</td>\n",
       "      <td>NaN</td>\n",
       "      <td>0.010924</td>\n",
       "      <td>0.002236</td>\n",
       "      <td>-0.014619</td>\n",
       "      <td>-0.022405</td>\n",
       "      <td>0.054296</td>\n",
       "      <td>-0.035297</td>\n",
       "      <td>-0.472838</td>\n",
       "      <td>1.000000</td>\n",
       "      <td>0.990650</td>\n",
       "      <td>-0.013847</td>\n",
       "      <td>-0.019799</td>\n",
       "      <td>0.614475</td>\n",
       "    </tr>\n",
       "    <tr>\n",
       "      <th>distance</th>\n",
       "      <td>0.012526</td>\n",
       "      <td>NaN</td>\n",
       "      <td>0.021636</td>\n",
       "      <td>0.003041</td>\n",
       "      <td>-0.013998</td>\n",
       "      <td>-0.021671</td>\n",
       "      <td>0.046991</td>\n",
       "      <td>-0.061868</td>\n",
       "      <td>-0.484165</td>\n",
       "      <td>0.990650</td>\n",
       "      <td>1.000000</td>\n",
       "      <td>-0.013272</td>\n",
       "      <td>-0.018595</td>\n",
       "      <td>0.683846</td>\n",
       "    </tr>\n",
       "    <tr>\n",
       "      <th>hour</th>\n",
       "      <td>0.002236</td>\n",
       "      <td>NaN</td>\n",
       "      <td>-0.004118</td>\n",
       "      <td>-0.000426</td>\n",
       "      <td>0.999307</td>\n",
       "      <td>0.261786</td>\n",
       "      <td>0.660232</td>\n",
       "      <td>0.233851</td>\n",
       "      <td>0.042334</td>\n",
       "      <td>-0.013847</td>\n",
       "      <td>-0.013272</td>\n",
       "      <td>1.000000</td>\n",
       "      <td>-0.082222</td>\n",
       "      <td>-0.027838</td>\n",
       "    </tr>\n",
       "    <tr>\n",
       "      <th>minute</th>\n",
       "      <td>-0.001849</td>\n",
       "      <td>NaN</td>\n",
       "      <td>0.005242</td>\n",
       "      <td>-0.001086</td>\n",
       "      <td>-0.045081</td>\n",
       "      <td>-0.058306</td>\n",
       "      <td>-0.027331</td>\n",
       "      <td>-0.056303</td>\n",
       "      <td>-0.012782</td>\n",
       "      <td>-0.019799</td>\n",
       "      <td>-0.018595</td>\n",
       "      <td>-0.082222</td>\n",
       "      <td>1.000000</td>\n",
       "      <td>-0.034598</td>\n",
       "    </tr>\n",
       "    <tr>\n",
       "      <th>speed</th>\n",
       "      <td>0.194342</td>\n",
       "      <td>NaN</td>\n",
       "      <td>0.062572</td>\n",
       "      <td>0.009830</td>\n",
       "      <td>-0.029196</td>\n",
       "      <td>-0.007766</td>\n",
       "      <td>0.001102</td>\n",
       "      <td>-0.135189</td>\n",
       "      <td>-0.376182</td>\n",
       "      <td>0.614475</td>\n",
       "      <td>0.683846</td>\n",
       "      <td>-0.027838</td>\n",
       "      <td>-0.034598</td>\n",
       "      <td>1.000000</td>\n",
       "    </tr>\n",
       "  </tbody>\n",
       "</table>\n",
       "</div>"
      ],
      "text/plain": [
       "            Unnamed: 0  year     month       day  dep_time  dep_delay  \\\n",
       "Unnamed: 0    1.000000   NaN  0.071779  0.087852  0.002172   0.049713   \n",
       "year               NaN   NaN       NaN       NaN       NaN        NaN   \n",
       "month         0.071779   NaN  1.000000  0.002942 -0.003932  -0.020057   \n",
       "day           0.087852   NaN  0.002942  1.000000 -0.000467   0.000420   \n",
       "dep_time      0.002172   NaN -0.003932 -0.000467  1.000000   0.260231   \n",
       "dep_delay     0.049713   NaN -0.020057  0.000420  0.260231   1.000000   \n",
       "arr_time     -0.024680   NaN -0.002520 -0.005537  0.660779   0.028729   \n",
       "arr_delay     0.018613   NaN -0.017382 -0.000319  0.232306   0.914803   \n",
       "flight        0.002676   NaN -0.000834 -0.001791  0.041957   0.054734   \n",
       "air_time     -0.032866   NaN  0.010924  0.002236 -0.014619  -0.022405   \n",
       "distance      0.012526   NaN  0.021636  0.003041 -0.013998  -0.021671   \n",
       "hour          0.002236   NaN -0.004118 -0.000426  0.999307   0.261786   \n",
       "minute       -0.001849   NaN  0.005242 -0.001086 -0.045081  -0.058306   \n",
       "speed         0.194342   NaN  0.062572  0.009830 -0.029196  -0.007766   \n",
       "\n",
       "            arr_time  arr_delay    flight  air_time  distance      hour  \\\n",
       "Unnamed: 0 -0.024680   0.018613  0.002676 -0.032866  0.012526  0.002236   \n",
       "year             NaN        NaN       NaN       NaN       NaN       NaN   \n",
       "month      -0.002520  -0.017382 -0.000834  0.010924  0.021636 -0.004118   \n",
       "day        -0.005537  -0.000319 -0.001791  0.002236  0.003041 -0.000426   \n",
       "dep_time    0.660779   0.232306  0.041957 -0.014619 -0.013998  0.999307   \n",
       "dep_delay   0.028729   0.914803  0.054734 -0.022405 -0.021671  0.261786   \n",
       "arr_time    1.000000   0.024482  0.025042  0.054296  0.046991  0.660232   \n",
       "arr_delay   0.024482   1.000000  0.072862 -0.035297 -0.061868  0.233851   \n",
       "flight      0.025042   0.072862  1.000000 -0.472838 -0.484165  0.042334   \n",
       "air_time    0.054296  -0.035297 -0.472838  1.000000  0.990650 -0.013847   \n",
       "distance    0.046991  -0.061868 -0.484165  0.990650  1.000000 -0.013272   \n",
       "hour        0.660232   0.233851  0.042334 -0.013847 -0.013272  1.000000   \n",
       "minute     -0.027331  -0.056303 -0.012782 -0.019799 -0.018595 -0.082222   \n",
       "speed       0.001102  -0.135189 -0.376182  0.614475  0.683846 -0.027838   \n",
       "\n",
       "              minute     speed  \n",
       "Unnamed: 0 -0.001849  0.194342  \n",
       "year             NaN       NaN  \n",
       "month       0.005242  0.062572  \n",
       "day        -0.001086  0.009830  \n",
       "dep_time   -0.045081 -0.029196  \n",
       "dep_delay  -0.058306 -0.007766  \n",
       "arr_time   -0.027331  0.001102  \n",
       "arr_delay  -0.056303 -0.135189  \n",
       "flight     -0.012782 -0.376182  \n",
       "air_time   -0.019799  0.614475  \n",
       "distance   -0.018595  0.683846  \n",
       "hour       -0.082222 -0.027838  \n",
       "minute      1.000000 -0.034598  \n",
       "speed      -0.034598  1.000000  "
      ]
     },
     "execution_count": 18,
     "metadata": {},
     "output_type": "execute_result"
    }
   ],
   "source": [
    "#view the correlation matrix to find any interesting \n",
    "flights_df.corr()"
   ]
  },
  {
   "cell_type": "markdown",
   "metadata": {},
   "source": [
    " We see a correlation of 0.61 and 0.68 between speed and air_time and distance. But this is not to be confused as strong correlation because of colinearity. \n",
    " There is a strong corelation between departure delay and arrival delay. Does that imply that the flights that are delayed do little to cover for the time they lose? \n",
    " Let's explore!"
   ]
  },
  {
   "cell_type": "code",
   "execution_count": 20,
   "metadata": {
    "collapsed": false,
    "scrolled": true
   },
   "outputs": [
    {
     "data": {
      "text/html": [
       "<div>\n",
       "<table border=\"1\" class=\"dataframe\">\n",
       "  <thead>\n",
       "    <tr style=\"text-align: right;\">\n",
       "      <th></th>\n",
       "      <th>Unnamed: 0</th>\n",
       "      <th>year</th>\n",
       "      <th>month</th>\n",
       "      <th>day</th>\n",
       "      <th>dep_time</th>\n",
       "      <th>dep_delay</th>\n",
       "      <th>arr_time</th>\n",
       "      <th>arr_delay</th>\n",
       "      <th>flight</th>\n",
       "      <th>air_time</th>\n",
       "      <th>distance</th>\n",
       "      <th>hour</th>\n",
       "      <th>minute</th>\n",
       "      <th>speed</th>\n",
       "    </tr>\n",
       "  </thead>\n",
       "  <tbody>\n",
       "    <tr>\n",
       "      <th>Unnamed: 0</th>\n",
       "      <td>1.000000</td>\n",
       "      <td>NaN</td>\n",
       "      <td>0.059602</td>\n",
       "      <td>0.072123</td>\n",
       "      <td>0.033175</td>\n",
       "      <td>0.063586</td>\n",
       "      <td>-0.015098</td>\n",
       "      <td>0.047380</td>\n",
       "      <td>-0.019970</td>\n",
       "      <td>-0.019249</td>\n",
       "      <td>0.028929</td>\n",
       "      <td>0.032779</td>\n",
       "      <td>0.011033</td>\n",
       "      <td>0.209198</td>\n",
       "    </tr>\n",
       "    <tr>\n",
       "      <th>year</th>\n",
       "      <td>NaN</td>\n",
       "      <td>NaN</td>\n",
       "      <td>NaN</td>\n",
       "      <td>NaN</td>\n",
       "      <td>NaN</td>\n",
       "      <td>NaN</td>\n",
       "      <td>NaN</td>\n",
       "      <td>NaN</td>\n",
       "      <td>NaN</td>\n",
       "      <td>NaN</td>\n",
       "      <td>NaN</td>\n",
       "      <td>NaN</td>\n",
       "      <td>NaN</td>\n",
       "      <td>NaN</td>\n",
       "    </tr>\n",
       "    <tr>\n",
       "      <th>month</th>\n",
       "      <td>0.059602</td>\n",
       "      <td>NaN</td>\n",
       "      <td>1.000000</td>\n",
       "      <td>0.002331</td>\n",
       "      <td>0.002798</td>\n",
       "      <td>-0.027857</td>\n",
       "      <td>0.004021</td>\n",
       "      <td>-0.025101</td>\n",
       "      <td>-0.013855</td>\n",
       "      <td>0.037986</td>\n",
       "      <td>0.043014</td>\n",
       "      <td>0.002667</td>\n",
       "      <td>0.003556</td>\n",
       "      <td>0.067342</td>\n",
       "    </tr>\n",
       "    <tr>\n",
       "      <th>day</th>\n",
       "      <td>0.072123</td>\n",
       "      <td>NaN</td>\n",
       "      <td>0.002331</td>\n",
       "      <td>1.000000</td>\n",
       "      <td>-0.004801</td>\n",
       "      <td>-0.006786</td>\n",
       "      <td>-0.010334</td>\n",
       "      <td>-0.006872</td>\n",
       "      <td>-0.003653</td>\n",
       "      <td>0.002956</td>\n",
       "      <td>0.003667</td>\n",
       "      <td>-0.004870</td>\n",
       "      <td>0.001786</td>\n",
       "      <td>0.010148</td>\n",
       "    </tr>\n",
       "    <tr>\n",
       "      <th>dep_time</th>\n",
       "      <td>0.033175</td>\n",
       "      <td>NaN</td>\n",
       "      <td>0.002798</td>\n",
       "      <td>-0.004801</td>\n",
       "      <td>1.000000</td>\n",
       "      <td>0.216923</td>\n",
       "      <td>0.415083</td>\n",
       "      <td>0.199759</td>\n",
       "      <td>0.039505</td>\n",
       "      <td>-0.033080</td>\n",
       "      <td>-0.030262</td>\n",
       "      <td>0.999303</td>\n",
       "      <td>0.032333</td>\n",
       "      <td>-0.026898</td>\n",
       "    </tr>\n",
       "    <tr>\n",
       "      <th>dep_delay</th>\n",
       "      <td>0.063586</td>\n",
       "      <td>NaN</td>\n",
       "      <td>-0.027857</td>\n",
       "      <td>-0.006786</td>\n",
       "      <td>0.216923</td>\n",
       "      <td>1.000000</td>\n",
       "      <td>-0.083270</td>\n",
       "      <td>0.938107</td>\n",
       "      <td>0.102788</td>\n",
       "      <td>-0.092739</td>\n",
       "      <td>-0.090594</td>\n",
       "      <td>0.215210</td>\n",
       "      <td>0.048810</td>\n",
       "      <td>-0.053668</td>\n",
       "    </tr>\n",
       "    <tr>\n",
       "      <th>arr_time</th>\n",
       "      <td>-0.015098</td>\n",
       "      <td>NaN</td>\n",
       "      <td>0.004021</td>\n",
       "      <td>-0.010334</td>\n",
       "      <td>0.415083</td>\n",
       "      <td>-0.083270</td>\n",
       "      <td>1.000000</td>\n",
       "      <td>-0.079125</td>\n",
       "      <td>0.041937</td>\n",
       "      <td>0.019580</td>\n",
       "      <td>0.011937</td>\n",
       "      <td>0.414631</td>\n",
       "      <td>0.017783</td>\n",
       "      <td>-0.025490</td>\n",
       "    </tr>\n",
       "    <tr>\n",
       "      <th>arr_delay</th>\n",
       "      <td>0.047380</td>\n",
       "      <td>NaN</td>\n",
       "      <td>-0.025101</td>\n",
       "      <td>-0.006872</td>\n",
       "      <td>0.199759</td>\n",
       "      <td>0.938107</td>\n",
       "      <td>-0.079125</td>\n",
       "      <td>1.000000</td>\n",
       "      <td>0.113029</td>\n",
       "      <td>-0.097236</td>\n",
       "      <td>-0.118975</td>\n",
       "      <td>0.198312</td>\n",
       "      <td>0.041468</td>\n",
       "      <td>-0.159814</td>\n",
       "    </tr>\n",
       "    <tr>\n",
       "      <th>flight</th>\n",
       "      <td>-0.019970</td>\n",
       "      <td>NaN</td>\n",
       "      <td>-0.013855</td>\n",
       "      <td>-0.003653</td>\n",
       "      <td>0.039505</td>\n",
       "      <td>0.102788</td>\n",
       "      <td>0.041937</td>\n",
       "      <td>0.113029</td>\n",
       "      <td>1.000000</td>\n",
       "      <td>-0.479881</td>\n",
       "      <td>-0.489188</td>\n",
       "      <td>0.038840</td>\n",
       "      <td>0.018353</td>\n",
       "      <td>-0.390587</td>\n",
       "    </tr>\n",
       "    <tr>\n",
       "      <th>air_time</th>\n",
       "      <td>-0.019249</td>\n",
       "      <td>NaN</td>\n",
       "      <td>0.037986</td>\n",
       "      <td>0.002956</td>\n",
       "      <td>-0.033080</td>\n",
       "      <td>-0.092739</td>\n",
       "      <td>0.019580</td>\n",
       "      <td>-0.097236</td>\n",
       "      <td>-0.479881</td>\n",
       "      <td>1.000000</td>\n",
       "      <td>0.990036</td>\n",
       "      <td>-0.033514</td>\n",
       "      <td>0.011172</td>\n",
       "      <td>0.606140</td>\n",
       "    </tr>\n",
       "    <tr>\n",
       "      <th>distance</th>\n",
       "      <td>0.028929</td>\n",
       "      <td>NaN</td>\n",
       "      <td>0.043014</td>\n",
       "      <td>0.003667</td>\n",
       "      <td>-0.030262</td>\n",
       "      <td>-0.090594</td>\n",
       "      <td>0.011937</td>\n",
       "      <td>-0.118975</td>\n",
       "      <td>-0.489188</td>\n",
       "      <td>0.990036</td>\n",
       "      <td>1.000000</td>\n",
       "      <td>-0.030706</td>\n",
       "      <td>0.011477</td>\n",
       "      <td>0.679660</td>\n",
       "    </tr>\n",
       "    <tr>\n",
       "      <th>hour</th>\n",
       "      <td>0.032779</td>\n",
       "      <td>NaN</td>\n",
       "      <td>0.002667</td>\n",
       "      <td>-0.004870</td>\n",
       "      <td>0.999303</td>\n",
       "      <td>0.215210</td>\n",
       "      <td>0.414631</td>\n",
       "      <td>0.198312</td>\n",
       "      <td>0.038840</td>\n",
       "      <td>-0.033514</td>\n",
       "      <td>-0.030706</td>\n",
       "      <td>1.000000</td>\n",
       "      <td>-0.005012</td>\n",
       "      <td>-0.027208</td>\n",
       "    </tr>\n",
       "    <tr>\n",
       "      <th>minute</th>\n",
       "      <td>0.011033</td>\n",
       "      <td>NaN</td>\n",
       "      <td>0.003556</td>\n",
       "      <td>0.001786</td>\n",
       "      <td>0.032333</td>\n",
       "      <td>0.048810</td>\n",
       "      <td>0.017783</td>\n",
       "      <td>0.041468</td>\n",
       "      <td>0.018353</td>\n",
       "      <td>0.011172</td>\n",
       "      <td>0.011477</td>\n",
       "      <td>-0.005012</td>\n",
       "      <td>1.000000</td>\n",
       "      <td>0.007954</td>\n",
       "    </tr>\n",
       "    <tr>\n",
       "      <th>speed</th>\n",
       "      <td>0.209198</td>\n",
       "      <td>NaN</td>\n",
       "      <td>0.067342</td>\n",
       "      <td>0.010148</td>\n",
       "      <td>-0.026898</td>\n",
       "      <td>-0.053668</td>\n",
       "      <td>-0.025490</td>\n",
       "      <td>-0.159814</td>\n",
       "      <td>-0.390587</td>\n",
       "      <td>0.606140</td>\n",
       "      <td>0.679660</td>\n",
       "      <td>-0.027208</td>\n",
       "      <td>0.007954</td>\n",
       "      <td>1.000000</td>\n",
       "    </tr>\n",
       "  </tbody>\n",
       "</table>\n",
       "</div>"
      ],
      "text/plain": [
       "            Unnamed: 0  year     month       day  dep_time  dep_delay  \\\n",
       "Unnamed: 0    1.000000   NaN  0.059602  0.072123  0.033175   0.063586   \n",
       "year               NaN   NaN       NaN       NaN       NaN        NaN   \n",
       "month         0.059602   NaN  1.000000  0.002331  0.002798  -0.027857   \n",
       "day           0.072123   NaN  0.002331  1.000000 -0.004801  -0.006786   \n",
       "dep_time      0.033175   NaN  0.002798 -0.004801  1.000000   0.216923   \n",
       "dep_delay     0.063586   NaN -0.027857 -0.006786  0.216923   1.000000   \n",
       "arr_time     -0.015098   NaN  0.004021 -0.010334  0.415083  -0.083270   \n",
       "arr_delay     0.047380   NaN -0.025101 -0.006872  0.199759   0.938107   \n",
       "flight       -0.019970   NaN -0.013855 -0.003653  0.039505   0.102788   \n",
       "air_time     -0.019249   NaN  0.037986  0.002956 -0.033080  -0.092739   \n",
       "distance      0.028929   NaN  0.043014  0.003667 -0.030262  -0.090594   \n",
       "hour          0.032779   NaN  0.002667 -0.004870  0.999303   0.215210   \n",
       "minute        0.011033   NaN  0.003556  0.001786  0.032333   0.048810   \n",
       "speed         0.209198   NaN  0.067342  0.010148 -0.026898  -0.053668   \n",
       "\n",
       "            arr_time  arr_delay    flight  air_time  distance      hour  \\\n",
       "Unnamed: 0 -0.015098   0.047380 -0.019970 -0.019249  0.028929  0.032779   \n",
       "year             NaN        NaN       NaN       NaN       NaN       NaN   \n",
       "month       0.004021  -0.025101 -0.013855  0.037986  0.043014  0.002667   \n",
       "day        -0.010334  -0.006872 -0.003653  0.002956  0.003667 -0.004870   \n",
       "dep_time    0.415083   0.199759  0.039505 -0.033080 -0.030262  0.999303   \n",
       "dep_delay  -0.083270   0.938107  0.102788 -0.092739 -0.090594  0.215210   \n",
       "arr_time    1.000000  -0.079125  0.041937  0.019580  0.011937  0.414631   \n",
       "arr_delay  -0.079125   1.000000  0.113029 -0.097236 -0.118975  0.198312   \n",
       "flight      0.041937   0.113029  1.000000 -0.479881 -0.489188  0.038840   \n",
       "air_time    0.019580  -0.097236 -0.479881  1.000000  0.990036 -0.033514   \n",
       "distance    0.011937  -0.118975 -0.489188  0.990036  1.000000 -0.030706   \n",
       "hour        0.414631   0.198312  0.038840 -0.033514 -0.030706  1.000000   \n",
       "minute      0.017783   0.041468  0.018353  0.011172  0.011477 -0.005012   \n",
       "speed      -0.025490  -0.159814 -0.390587  0.606140  0.679660 -0.027208   \n",
       "\n",
       "              minute     speed  \n",
       "Unnamed: 0  0.011033  0.209198  \n",
       "year             NaN       NaN  \n",
       "month       0.003556  0.067342  \n",
       "day         0.001786  0.010148  \n",
       "dep_time    0.032333 -0.026898  \n",
       "dep_delay   0.048810 -0.053668  \n",
       "arr_time    0.017783 -0.025490  \n",
       "arr_delay   0.041468 -0.159814  \n",
       "flight      0.018353 -0.390587  \n",
       "air_time    0.011172  0.606140  \n",
       "distance    0.011477  0.679660  \n",
       "hour       -0.005012 -0.027208  \n",
       "minute      1.000000  0.007954  \n",
       "speed       0.007954  1.000000  "
      ]
     },
     "execution_count": 20,
     "metadata": {},
     "output_type": "execute_result"
    }
   ],
   "source": [
    "#check for linear correlations\n",
    "f_ddelay[['dep_delay','arr_delay','distance']].corr()\n",
    "f_ddelay.corr() "
   ]
  },
  {
   "cell_type": "code",
   "execution_count": 21,
   "metadata": {
    "collapsed": false
   },
   "outputs": [
    {
     "data": {
      "text/plain": [
       "<matplotlib.image.AxesImage at 0x1f6cc8c3358>"
      ]
     },
     "execution_count": 21,
     "metadata": {},
     "output_type": "execute_result"
    },
    {
     "data": {
      "image/png": "[encoded data removed]",
      "text/plain": [
       "<matplotlib.figure.Figure at 0x1f6cbc6d9e8>"
      ]
     },
     "metadata": {},
     "output_type": "display_data"
    }
   ],
   "source": [
    "#correlation matrix plot\n",
    "plt.matshow(f_ddelay.corr())"
   ]
  },
  {
   "cell_type": "code",
   "execution_count": 22,
   "metadata": {
    "collapsed": false
   },
   "outputs": [
    {
     "data": {
      "text/plain": [
       "[<matplotlib.lines.Line2D at 0x1f6cc8955f8>]"
      ]
     },
     "execution_count": 22,
     "metadata": {},
     "output_type": "execute_result"
    },
    {
     "data": {
      "image/png": "[encoded data removed]",
      "text/plain": [
       "<matplotlib.figure.Figure at 0x1f6cc8957f0>"
      ]
     },
     "metadata": {},
     "output_type": "display_data"
    }
   ],
   "source": [
    "#plot departure delays w.r.t months\n",
    "plt.ylabel(\"Dep delay\")\n",
    "plt.xlabel(\"Months\")\n",
    "\n",
    "#set y limit\n",
    "plt.ylim(0,25)\n",
    "\n",
    "#group by months\n",
    "plt.plot(flights_df.groupby(['month'])['dep_delay'].mean())"
   ]
  },
  {
   "cell_type": "markdown",
   "metadata": {},
   "source": [
    "We see that there is a dip in the holiday season of Summer(though it increases from June to July, it dips drastically from July to August) and Winter holiday season. \n",
    "One question that I can think of is \"Do airlines try to keep the departure delay tight towards holiday season?\"\n",
    "It is interesting to observe that even in December the average delay increases very steeply. Maybe because the flights would be able to match the weather conditions."
   ]
  },
  {
   "cell_type": "code",
   "execution_count": 23,
   "metadata": {
    "collapsed": false
   },
   "outputs": [
    {
     "data": {
      "text/plain": [
       "<matplotlib.collections.PathCollection at 0x1f6ccc258d0>"
      ]
     },
     "execution_count": 23,
     "metadata": {},
     "output_type": "execute_result"
    },
    {
     "data": {
      "image/png": "[encoded data removed]",
      "text/plain": [
       "<matplotlib.figure.Figure at 0x1f6cc90aa58>"
      ]
     },
     "metadata": {},
     "output_type": "display_data"
    }
   ],
   "source": [
    "#scatter plot to examins departure delay against distance\n",
    "#eliminated delays beyond 600 minutes\n",
    "plt.scatter(flights_df.distance[flights_df.dep_delay<600],flights_df.dep_delay[flights_df.dep_delay<600])"
   ]
  },
  {
   "cell_type": "markdown",
   "metadata": {},
   "source": [
    "We see a dip for departure delay in the range of 1700-2000 miles. This could be because of a specific destination.\n",
    "We could frame a question based on departure delay as a function of distance to to destination.\n",
    "Question - \"Departure delays for flights flying to certain destinations (within 1700-2000 miles radius)are biased\""
   ]
  },
  {
   "cell_type": "markdown",
   "metadata": {},
   "source": [
    "## Question 6\n",
    "What weather conditions are associated with flight delays leaving NYC? Use graphics to explore."
   ]
  },
  {
   "cell_type": "code",
   "execution_count": 24,
   "metadata": {
    "collapsed": false
   },
   "outputs": [
    {
     "name": "stderr",
     "output_type": "stream",
     "text": [
      "C:\\Miniconda3\\lib\\site-packages\\numpy\\lib\\function_base.py:3823: RuntimeWarning: Invalid value encountered in percentile\n",
      "  RuntimeWarning)\n"
     ]
    },
    {
     "data": {
      "text/html": [
       "<div>\n",
       "<table border=\"1\" class=\"dataframe\">\n",
       "  <thead>\n",
       "    <tr style=\"text-align: right;\">\n",
       "      <th></th>\n",
       "      <th>Unnamed: 0</th>\n",
       "      <th>year</th>\n",
       "      <th>month</th>\n",
       "      <th>day</th>\n",
       "      <th>hour</th>\n",
       "      <th>temp</th>\n",
       "      <th>dewp</th>\n",
       "      <th>humid</th>\n",
       "      <th>wind_dir</th>\n",
       "      <th>wind_speed</th>\n",
       "      <th>wind_gust</th>\n",
       "      <th>precip</th>\n",
       "      <th>pressure</th>\n",
       "      <th>visib</th>\n",
       "    </tr>\n",
       "  </thead>\n",
       "  <tbody>\n",
       "    <tr>\n",
       "      <th>count</th>\n",
       "      <td>8719.000000</td>\n",
       "      <td>8719.0</td>\n",
       "      <td>8718.000000</td>\n",
       "      <td>8718.000000</td>\n",
       "      <td>8718.000000</td>\n",
       "      <td>8718.000000</td>\n",
       "      <td>8718.000000</td>\n",
       "      <td>8718.000000</td>\n",
       "      <td>8486.000000</td>\n",
       "      <td>8718.000000</td>\n",
       "      <td>8718.000000</td>\n",
       "      <td>8719.000000</td>\n",
       "      <td>7780.000000</td>\n",
       "      <td>8719.000000</td>\n",
       "    </tr>\n",
       "    <tr>\n",
       "      <th>mean</th>\n",
       "      <td>4360.000000</td>\n",
       "      <td>2013.0</td>\n",
       "      <td>6.506538</td>\n",
       "      <td>15.679628</td>\n",
       "      <td>11.515715</td>\n",
       "      <td>55.484942</td>\n",
       "      <td>41.794184</td>\n",
       "      <td>62.863333</td>\n",
       "      <td>193.194674</td>\n",
       "      <td>9.335732</td>\n",
       "      <td>10.743374</td>\n",
       "      <td>0.003035</td>\n",
       "      <td>1017.826465</td>\n",
       "      <td>9.224522</td>\n",
       "    </tr>\n",
       "    <tr>\n",
       "      <th>std</th>\n",
       "      <td>2517.102832</td>\n",
       "      <td>0.0</td>\n",
       "      <td>3.439961</td>\n",
       "      <td>8.768250</td>\n",
       "      <td>6.916846</td>\n",
       "      <td>18.345817</td>\n",
       "      <td>19.619776</td>\n",
       "      <td>19.572699</td>\n",
       "      <td>110.541333</td>\n",
       "      <td>12.328261</td>\n",
       "      <td>14.187117</td>\n",
       "      <td>0.022686</td>\n",
       "      <td>7.396722</td>\n",
       "      <td>2.094044</td>\n",
       "    </tr>\n",
       "    <tr>\n",
       "      <th>min</th>\n",
       "      <td>1.000000</td>\n",
       "      <td>2013.0</td>\n",
       "      <td>1.000000</td>\n",
       "      <td>1.000000</td>\n",
       "      <td>0.000000</td>\n",
       "      <td>10.940000</td>\n",
       "      <td>-9.040000</td>\n",
       "      <td>13.950000</td>\n",
       "      <td>0.000000</td>\n",
       "      <td>0.000000</td>\n",
       "      <td>0.000000</td>\n",
       "      <td>0.000000</td>\n",
       "      <td>983.900000</td>\n",
       "      <td>0.120000</td>\n",
       "    </tr>\n",
       "    <tr>\n",
       "      <th>25%</th>\n",
       "      <td>2180.500000</td>\n",
       "      <td>2013.0</td>\n",
       "      <td>NaN</td>\n",
       "      <td>NaN</td>\n",
       "      <td>NaN</td>\n",
       "      <td>NaN</td>\n",
       "      <td>NaN</td>\n",
       "      <td>NaN</td>\n",
       "      <td>NaN</td>\n",
       "      <td>NaN</td>\n",
       "      <td>NaN</td>\n",
       "      <td>0.000000</td>\n",
       "      <td>NaN</td>\n",
       "      <td>10.000000</td>\n",
       "    </tr>\n",
       "    <tr>\n",
       "      <th>50%</th>\n",
       "      <td>4360.000000</td>\n",
       "      <td>2013.0</td>\n",
       "      <td>NaN</td>\n",
       "      <td>NaN</td>\n",
       "      <td>NaN</td>\n",
       "      <td>NaN</td>\n",
       "      <td>NaN</td>\n",
       "      <td>NaN</td>\n",
       "      <td>NaN</td>\n",
       "      <td>NaN</td>\n",
       "      <td>NaN</td>\n",
       "      <td>0.000000</td>\n",
       "      <td>NaN</td>\n",
       "      <td>10.000000</td>\n",
       "    </tr>\n",
       "    <tr>\n",
       "      <th>75%</th>\n",
       "      <td>6539.500000</td>\n",
       "      <td>2013.0</td>\n",
       "      <td>NaN</td>\n",
       "      <td>NaN</td>\n",
       "      <td>NaN</td>\n",
       "      <td>NaN</td>\n",
       "      <td>NaN</td>\n",
       "      <td>NaN</td>\n",
       "      <td>NaN</td>\n",
       "      <td>NaN</td>\n",
       "      <td>NaN</td>\n",
       "      <td>0.000000</td>\n",
       "      <td>NaN</td>\n",
       "      <td>10.000000</td>\n",
       "    </tr>\n",
       "    <tr>\n",
       "      <th>max</th>\n",
       "      <td>8719.000000</td>\n",
       "      <td>2013.0</td>\n",
       "      <td>12.000000</td>\n",
       "      <td>31.000000</td>\n",
       "      <td>23.000000</td>\n",
       "      <td>100.040000</td>\n",
       "      <td>75.920000</td>\n",
       "      <td>100.000000</td>\n",
       "      <td>360.000000</td>\n",
       "      <td>1048.360580</td>\n",
       "      <td>1206.432388</td>\n",
       "      <td>1.180000</td>\n",
       "      <td>1041.900000</td>\n",
       "      <td>10.000000</td>\n",
       "    </tr>\n",
       "  </tbody>\n",
       "</table>\n",
       "</div>"
      ],
      "text/plain": [
       "        Unnamed: 0    year        month          day         hour  \\\n",
       "count  8719.000000  8719.0  8718.000000  8718.000000  8718.000000   \n",
       "mean   4360.000000  2013.0     6.506538    15.679628    11.515715   \n",
       "std    2517.102832     0.0     3.439961     8.768250     6.916846   \n",
       "min       1.000000  2013.0     1.000000     1.000000     0.000000   \n",
       "25%    2180.500000  2013.0          NaN          NaN          NaN   \n",
       "50%    4360.000000  2013.0          NaN          NaN          NaN   \n",
       "75%    6539.500000  2013.0          NaN          NaN          NaN   \n",
       "max    8719.000000  2013.0    12.000000    31.000000    23.000000   \n",
       "\n",
       "              temp         dewp        humid     wind_dir   wind_speed  \\\n",
       "count  8718.000000  8718.000000  8718.000000  8486.000000  8718.000000   \n",
       "mean     55.484942    41.794184    62.863333   193.194674     9.335732   \n",
       "std      18.345817    19.619776    19.572699   110.541333    12.328261   \n",
       "min      10.940000    -9.040000    13.950000     0.000000     0.000000   \n",
       "25%            NaN          NaN          NaN          NaN          NaN   \n",
       "50%            NaN          NaN          NaN          NaN          NaN   \n",
       "75%            NaN          NaN          NaN          NaN          NaN   \n",
       "max     100.040000    75.920000   100.000000   360.000000  1048.360580   \n",
       "\n",
       "         wind_gust       precip     pressure        visib  \n",
       "count  8718.000000  8719.000000  7780.000000  8719.000000  \n",
       "mean     10.743374     0.003035  1017.826465     9.224522  \n",
       "std      14.187117     0.022686     7.396722     2.094044  \n",
       "min       0.000000     0.000000   983.900000     0.120000  \n",
       "25%            NaN     0.000000          NaN    10.000000  \n",
       "50%            NaN     0.000000          NaN    10.000000  \n",
       "75%            NaN     0.000000          NaN    10.000000  \n",
       "max    1206.432388     1.180000  1041.900000    10.000000  "
      ]
     },
     "execution_count": 24,
     "metadata": {},
     "output_type": "execute_result"
    }
   ],
   "source": [
    "#summarize weather dataset\n",
    "weather_df.describe()"
   ]
  },
  {
   "cell_type": "code",
   "execution_count": 25,
   "metadata": {
    "collapsed": false
   },
   "outputs": [],
   "source": [
    "#merge the two frames\n",
    "f_w = flights_df[['month','day','hour','origin','dest','dep_delay']].merge(weather_df, on=['month','day','hour','origin'], how = 'left' )"
   ]
  },
  {
   "cell_type": "code",
   "execution_count": 26,
   "metadata": {
    "collapsed": false,
    "scrolled": true
   },
   "outputs": [
    {
     "name": "stderr",
     "output_type": "stream",
     "text": [
      "C:\\Miniconda3\\lib\\site-packages\\numpy\\lib\\function_base.py:3823: RuntimeWarning: Invalid value encountered in percentile\n",
      "  RuntimeWarning)\n"
     ]
    },
    {
     "data": {
      "text/html": [
       "<div>\n",
       "<table border=\"1\" class=\"dataframe\">\n",
       "  <thead>\n",
       "    <tr style=\"text-align: right;\">\n",
       "      <th></th>\n",
       "      <th>month</th>\n",
       "      <th>day</th>\n",
       "      <th>hour</th>\n",
       "      <th>dep_delay</th>\n",
       "      <th>Unnamed: 0</th>\n",
       "      <th>year</th>\n",
       "      <th>temp</th>\n",
       "      <th>dewp</th>\n",
       "      <th>humid</th>\n",
       "      <th>wind_dir</th>\n",
       "      <th>wind_speed</th>\n",
       "      <th>wind_gust</th>\n",
       "      <th>precip</th>\n",
       "      <th>pressure</th>\n",
       "      <th>visib</th>\n",
       "    </tr>\n",
       "  </thead>\n",
       "  <tbody>\n",
       "    <tr>\n",
       "      <th>count</th>\n",
       "      <td>336776.000000</td>\n",
       "      <td>336776.000000</td>\n",
       "      <td>328521.000000</td>\n",
       "      <td>328521.000000</td>\n",
       "      <td>117251.000000</td>\n",
       "      <td>117251.0</td>\n",
       "      <td>117242.000000</td>\n",
       "      <td>117242.000000</td>\n",
       "      <td>117242.000000</td>\n",
       "      <td>113527.000000</td>\n",
       "      <td>117241.000000</td>\n",
       "      <td>117241.000000</td>\n",
       "      <td>117251.000000</td>\n",
       "      <td>104183.000000</td>\n",
       "      <td>117251.000000</td>\n",
       "    </tr>\n",
       "    <tr>\n",
       "      <th>mean</th>\n",
       "      <td>6.548510</td>\n",
       "      <td>15.710787</td>\n",
       "      <td>13.173544</td>\n",
       "      <td>12.639070</td>\n",
       "      <td>4353.704293</td>\n",
       "      <td>2013.0</td>\n",
       "      <td>55.809277</td>\n",
       "      <td>41.840445</td>\n",
       "      <td>62.437195</td>\n",
       "      <td>191.313961</td>\n",
       "      <td>9.509912</td>\n",
       "      <td>10.943817</td>\n",
       "      <td>0.003034</td>\n",
       "      <td>1017.904410</td>\n",
       "      <td>9.231392</td>\n",
       "    </tr>\n",
       "    <tr>\n",
       "      <th>std</th>\n",
       "      <td>3.414457</td>\n",
       "      <td>8.768607</td>\n",
       "      <td>4.894426</td>\n",
       "      <td>40.210061</td>\n",
       "      <td>2489.000897</td>\n",
       "      <td>0.0</td>\n",
       "      <td>18.358136</td>\n",
       "      <td>19.506415</td>\n",
       "      <td>19.909390</td>\n",
       "      <td>113.452540</td>\n",
       "      <td>17.739069</td>\n",
       "      <td>20.413766</td>\n",
       "      <td>0.024754</td>\n",
       "      <td>7.440174</td>\n",
       "      <td>2.056207</td>\n",
       "    </tr>\n",
       "    <tr>\n",
       "      <th>min</th>\n",
       "      <td>1.000000</td>\n",
       "      <td>1.000000</td>\n",
       "      <td>0.000000</td>\n",
       "      <td>-43.000000</td>\n",
       "      <td>6.000000</td>\n",
       "      <td>2013.0</td>\n",
       "      <td>10.940000</td>\n",
       "      <td>-9.040000</td>\n",
       "      <td>13.950000</td>\n",
       "      <td>0.000000</td>\n",
       "      <td>0.000000</td>\n",
       "      <td>0.000000</td>\n",
       "      <td>0.000000</td>\n",
       "      <td>983.900000</td>\n",
       "      <td>0.120000</td>\n",
       "    </tr>\n",
       "    <tr>\n",
       "      <th>25%</th>\n",
       "      <td>4.000000</td>\n",
       "      <td>8.000000</td>\n",
       "      <td>NaN</td>\n",
       "      <td>NaN</td>\n",
       "      <td>NaN</td>\n",
       "      <td>NaN</td>\n",
       "      <td>NaN</td>\n",
       "      <td>NaN</td>\n",
       "      <td>NaN</td>\n",
       "      <td>NaN</td>\n",
       "      <td>NaN</td>\n",
       "      <td>NaN</td>\n",
       "      <td>NaN</td>\n",
       "      <td>NaN</td>\n",
       "      <td>NaN</td>\n",
       "    </tr>\n",
       "    <tr>\n",
       "      <th>50%</th>\n",
       "      <td>7.000000</td>\n",
       "      <td>16.000000</td>\n",
       "      <td>NaN</td>\n",
       "      <td>NaN</td>\n",
       "      <td>NaN</td>\n",
       "      <td>NaN</td>\n",
       "      <td>NaN</td>\n",
       "      <td>NaN</td>\n",
       "      <td>NaN</td>\n",
       "      <td>NaN</td>\n",
       "      <td>NaN</td>\n",
       "      <td>NaN</td>\n",
       "      <td>NaN</td>\n",
       "      <td>NaN</td>\n",
       "      <td>NaN</td>\n",
       "    </tr>\n",
       "    <tr>\n",
       "      <th>75%</th>\n",
       "      <td>10.000000</td>\n",
       "      <td>23.000000</td>\n",
       "      <td>NaN</td>\n",
       "      <td>NaN</td>\n",
       "      <td>NaN</td>\n",
       "      <td>NaN</td>\n",
       "      <td>NaN</td>\n",
       "      <td>NaN</td>\n",
       "      <td>NaN</td>\n",
       "      <td>NaN</td>\n",
       "      <td>NaN</td>\n",
       "      <td>NaN</td>\n",
       "      <td>NaN</td>\n",
       "      <td>NaN</td>\n",
       "      <td>NaN</td>\n",
       "    </tr>\n",
       "    <tr>\n",
       "      <th>max</th>\n",
       "      <td>12.000000</td>\n",
       "      <td>31.000000</td>\n",
       "      <td>24.000000</td>\n",
       "      <td>1301.000000</td>\n",
       "      <td>8719.000000</td>\n",
       "      <td>2013.0</td>\n",
       "      <td>100.040000</td>\n",
       "      <td>75.920000</td>\n",
       "      <td>100.000000</td>\n",
       "      <td>360.000000</td>\n",
       "      <td>1048.360580</td>\n",
       "      <td>1206.432388</td>\n",
       "      <td>1.180000</td>\n",
       "      <td>1041.900000</td>\n",
       "      <td>10.000000</td>\n",
       "    </tr>\n",
       "  </tbody>\n",
       "</table>\n",
       "</div>"
      ],
      "text/plain": [
       "               month            day           hour      dep_delay  \\\n",
       "count  336776.000000  336776.000000  328521.000000  328521.000000   \n",
       "mean        6.548510      15.710787      13.173544      12.639070   \n",
       "std         3.414457       8.768607       4.894426      40.210061   \n",
       "min         1.000000       1.000000       0.000000     -43.000000   \n",
       "25%         4.000000       8.000000            NaN            NaN   \n",
       "50%         7.000000      16.000000            NaN            NaN   \n",
       "75%        10.000000      23.000000            NaN            NaN   \n",
       "max        12.000000      31.000000      24.000000    1301.000000   \n",
       "\n",
       "          Unnamed: 0      year           temp           dewp          humid  \\\n",
       "count  117251.000000  117251.0  117242.000000  117242.000000  117242.000000   \n",
       "mean     4353.704293    2013.0      55.809277      41.840445      62.437195   \n",
       "std      2489.000897       0.0      18.358136      19.506415      19.909390   \n",
       "min         6.000000    2013.0      10.940000      -9.040000      13.950000   \n",
       "25%              NaN       NaN            NaN            NaN            NaN   \n",
       "50%              NaN       NaN            NaN            NaN            NaN   \n",
       "75%              NaN       NaN            NaN            NaN            NaN   \n",
       "max      8719.000000    2013.0     100.040000      75.920000     100.000000   \n",
       "\n",
       "            wind_dir     wind_speed      wind_gust         precip  \\\n",
       "count  113527.000000  117241.000000  117241.000000  117251.000000   \n",
       "mean      191.313961       9.509912      10.943817       0.003034   \n",
       "std       113.452540      17.739069      20.413766       0.024754   \n",
       "min         0.000000       0.000000       0.000000       0.000000   \n",
       "25%              NaN            NaN            NaN            NaN   \n",
       "50%              NaN            NaN            NaN            NaN   \n",
       "75%              NaN            NaN            NaN            NaN   \n",
       "max       360.000000    1048.360580    1206.432388       1.180000   \n",
       "\n",
       "            pressure          visib  \n",
       "count  104183.000000  117251.000000  \n",
       "mean     1017.904410       9.231392  \n",
       "std         7.440174       2.056207  \n",
       "min       983.900000       0.120000  \n",
       "25%              NaN            NaN  \n",
       "50%              NaN            NaN  \n",
       "75%              NaN            NaN  \n",
       "max      1041.900000      10.000000  "
      ]
     },
     "execution_count": 26,
     "metadata": {},
     "output_type": "execute_result"
    }
   ],
   "source": [
    "#view the merge\n",
    "f_w.describe()"
   ]
  },
  {
   "cell_type": "code",
   "execution_count": 28,
   "metadata": {
    "collapsed": false
   },
   "outputs": [
    {
     "data": {
      "text/plain": [
       "<matplotlib.image.AxesImage at 0x1f6cca2a390>"
      ]
     },
     "execution_count": 28,
     "metadata": {},
     "output_type": "execute_result"
    },
    {
     "data": {
      "image/png": "[encoded data removed]",
      "text/plain": [
       "<matplotlib.figure.Figure at 0x1f6cc9541d0>"
      ]
     },
     "metadata": {},
     "output_type": "display_data"
    }
   ],
   "source": [
    "#correlation matrix\n",
    "plt.matshow(f_w[['dep_delay','temp','dewp','humid','wind_dir','wind_gust','precip','pressure','visib']].corr())"
   ]
  },
  {
   "cell_type": "markdown",
   "metadata": {},
   "source": [
    "There is no significant linear correlation between the selected variables "
   ]
  },
  {
   "cell_type": "code",
   "execution_count": 29,
   "metadata": {
    "collapsed": false
   },
   "outputs": [],
   "source": [
    "#categorise wind direction\n",
    "f_w.wind_dir = (f_w.wind_dir.dropna()).astype('category') "
   ]
  },
  {
   "cell_type": "code",
   "execution_count": 30,
   "metadata": {
    "collapsed": false
   },
   "outputs": [
    {
     "data": {
      "text/plain": [
       "<matplotlib.axes._subplots.AxesSubplot at 0x1f6cc9fb390>"
      ]
     },
     "execution_count": 30,
     "metadata": {},
     "output_type": "execute_result"
    },
    {
     "data": {
      "image/png": "[encoded data removed]",
      "text/plain": [
       "<matplotlib.figure.Figure at 0x1f6cc89d9e8>"
      ]
     },
     "metadata": {},
     "output_type": "display_data"
    }
   ],
   "source": [
    "#view distribution\n",
    "f_w.wind_dir.hist(bins = 38)"
   ]
  },
  {
   "cell_type": "code",
   "execution_count": 31,
   "metadata": {
    "collapsed": false
   },
   "outputs": [
    {
     "data": {
      "text/plain": [
       "<matplotlib.axes._subplots.AxesSubplot at 0x1f6ccb22208>"
      ]
     },
     "execution_count": 31,
     "metadata": {},
     "output_type": "execute_result"
    },
    {
     "data": {
      "image/png": "[encoded data removed]",
      "text/plain": [
       "<matplotlib.figure.Figure at 0x1f6ccb0bd68>"
      ]
     },
     "metadata": {},
     "output_type": "display_data"
    }
   ],
   "source": [
    "#check for any variation of departure delay with respect to wind direction\n",
    "f_w[~(f_w.wind_dir == 0)].boxplot('dep_delay', by = 'wind_dir', figsize = (15,5))\n",
    "#plt.plot(f_w[~(f_w.wind_dir == 0)].dep_delay,f_w[~(f_w.wind_dir == 0)].)"
   ]
  },
  {
   "cell_type": "code",
   "execution_count": 32,
   "metadata": {
    "collapsed": false
   },
   "outputs": [
    {
     "data": {
      "text/plain": [
       "<matplotlib.collections.PathCollection at 0x1f6ccbaeef0>"
      ]
     },
     "execution_count": 32,
     "metadata": {},
     "output_type": "execute_result"
    },
    {
     "data": {
      "image/png": "[encoded data removed]",
      "text/plain": [
       "<matplotlib.figure.Figure at 0x1f6ccb38550>"
      ]
     },
     "metadata": {},
     "output_type": "display_data"
    }
   ],
   "source": [
    "#scatter plot for patterns\n",
    "plt.scatter(f_w.wind_dir,f_w.dep_delay)"
   ]
  },
  {
   "cell_type": "code",
   "execution_count": 39,
   "metadata": {
    "collapsed": false,
    "scrolled": true
   },
   "outputs": [],
   "source": [
    "#group by wind direction and months\n",
    "de_sp =(f_w.groupby(['wind_dir','month'])['dep_delay','wind_speed'].mean())"
   ]
  },
  {
   "cell_type": "code",
   "execution_count": 50,
   "metadata": {
    "collapsed": false
   },
   "outputs": [],
   "source": [
    "#convert to dataframe\n",
    "dde = pd.DataFrame(de_sp).reset_index()"
   ]
  },
  {
   "cell_type": "code",
   "execution_count": 56,
   "metadata": {
    "collapsed": false
   },
   "outputs": [
    {
     "data": {
      "text/plain": [
       "[<matplotlib.lines.Line2D at 0x1f6d64f8940>]"
      ]
     },
     "execution_count": 56,
     "metadata": {},
     "output_type": "execute_result"
    },
    {
     "data": {
      "image/png": "[encoded data removed]",
      "text/plain": [
       "<matplotlib.figure.Figure at 0x1f6d66b9128>"
      ]
     },
     "metadata": {},
     "output_type": "display_data"
    }
   ],
   "source": [
    "#plot the departure delays against wind directions\n",
    "plt.figure(figsize=(15,5))\n",
    "plt.xticks(range(0,370,10))\n",
    "plt.xlabel('Wind direction in degrees')\n",
    "plt.ylabel('Departure Delay')\n",
    "plt.plot(dde.wind_dir,dde.dep_delay)"
   ]
  },
  {
   "cell_type": "markdown",
   "metadata": {},
   "source": [
    "We obeserve that for the wind direction from 80 to 150 (East to South East)there is an upward trend in departure delay"
   ]
  },
  {
   "cell_type": "code",
   "execution_count": 57,
   "metadata": {
    "collapsed": false
   },
   "outputs": [
    {
     "data": {
      "text/plain": [
       "[<matplotlib.lines.Line2D at 0x1f6d66ee860>]"
      ]
     },
     "execution_count": 57,
     "metadata": {},
     "output_type": "execute_result"
    },
    {
     "data": {
      "image/png": "[encoded data removed]",
      "text/plain": [
       "<matplotlib.figure.Figure at 0x1f6d67726a0>"
      ]
     },
     "metadata": {},
     "output_type": "display_data"
    }
   ],
   "source": [
    "#do wind speed in the direction influence? Check with the plot\n",
    "plt.figure(figsize=(15,5))\n",
    "plt.xticks(range(0,370,10))\n",
    "plt.xlabel('Wind direction in degrees')\n",
    "plt.ylabel('Wind Speed')\n",
    "plt.plot(dde.wind_dir,dde.wind_speed)"
   ]
  },
  {
   "cell_type": "markdown",
   "metadata": {},
   "source": [
    "We observe that there isn't a similar pattern such that the wind speed in East to South East direction influenced the departure delays. \n",
    "So it would be interesting to see if the winds flowing in 80-150 degrees (East, South East) can hamper the departure and thus introduce delays.\n",
    "Thus, we can label wind directions specially from (80 degrees to 150 degrees - East to South East) could have influenced the departure delays"
   ]
  },
  {
   "cell_type": "code",
   "execution_count": 75,
   "metadata": {
    "collapsed": false
   },
   "outputs": [
    {
     "data": {
      "text/plain": [
       "3.0"
      ]
     },
     "execution_count": 75,
     "metadata": {},
     "output_type": "execute_result"
    }
   ],
   "source": [
    "a = {'a':3,'b':5,'c' :\"b\", 'd':True}\n",
    "type(a)\n",
    "15%6.0"
   ]
  }
 ],
 "metadata": {
  "kernelspec": {
   "display_name": "Python 3",
   "language": "python",
   "name": "python3"
  },
  "language_info": {
   "codemirror_mode": {
    "name": "ipython",
    "version": 3
   },
   "file_extension": ".py",
   "mimetype": "text/x-python",
   "name": "python",
   "nbconvert_exporter": "python",
   "pygments_lexer": "ipython3",
   "version": "3.5.2"
  }
 },
 "nbformat": 4,
 "nbformat_minor": 0
}
